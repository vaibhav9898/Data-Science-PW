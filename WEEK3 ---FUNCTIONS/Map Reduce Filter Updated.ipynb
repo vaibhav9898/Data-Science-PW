{
 "cells": [
  {
   "cell_type": "code",
   "execution_count": 2,
   "id": "04852a6e-5eed-413b-b529-2fdc80c38115",
   "metadata": {},
   "outputs": [],
   "source": [
    "l = [2,3,4,5,6]"
   ]
  },
  {
   "cell_type": "code",
   "execution_count": 3,
   "id": "f15aa365-2dcd-4df9-b394-8499ed89e436",
   "metadata": {},
   "outputs": [],
   "source": [
    "def test(l):\n",
    "    l1 = []\n",
    "    for i in l:\n",
    "        l1.append(i**2)\n",
    "    return l1"
   ]
  },
  {
   "cell_type": "code",
   "execution_count": 4,
   "id": "de8703c5-5af3-4cbe-b7de-6a7e6617edcb",
   "metadata": {},
   "outputs": [
    {
     "data": {
      "text/plain": [
       "[4, 9, 16, 25, 36]"
      ]
     },
     "execution_count": 4,
     "metadata": {},
     "output_type": "execute_result"
    }
   ],
   "source": [
    "test(l)"
   ]
  },
  {
   "cell_type": "code",
   "execution_count": 5,
   "id": "36f3d0f8-d720-4e0b-89ee-2e56863bbbe4",
   "metadata": {},
   "outputs": [
    {
     "data": {
      "text/plain": [
       "[2, 3, 4, 5, 6]"
      ]
     },
     "execution_count": 5,
     "metadata": {},
     "output_type": "execute_result"
    }
   ],
   "source": [
    "l"
   ]
  },
  {
   "cell_type": "code",
   "execution_count": 6,
   "id": "74e455be-a606-457b-b2ae-e764e9d7a527",
   "metadata": {},
   "outputs": [],
   "source": [
    "l1 = test(l)"
   ]
  },
  {
   "cell_type": "code",
   "execution_count": 7,
   "id": "ca116ded-1bed-42aa-84d4-19763bbeee7a",
   "metadata": {},
   "outputs": [
    {
     "data": {
      "text/plain": [
       "[4, 9, 16, 25, 36]"
      ]
     },
     "execution_count": 7,
     "metadata": {},
     "output_type": "execute_result"
    }
   ],
   "source": [
    "l1"
   ]
  },
  {
   "cell_type": "code",
   "execution_count": 8,
   "id": "1464955c-c28a-49d4-8afc-68eef061a0b8",
   "metadata": {},
   "outputs": [],
   "source": [
    "def sq(x):\n",
    "    return x**2"
   ]
  },
  {
   "cell_type": "code",
   "execution_count": 9,
   "id": "7b7f5f1d-1389-42a1-8ef5-c670900a8a10",
   "metadata": {},
   "outputs": [
    {
     "data": {
      "text/plain": [
       "[4, 9, 16, 25, 36]"
      ]
     },
     "execution_count": 9,
     "metadata": {},
     "output_type": "execute_result"
    }
   ],
   "source": [
    "list(map(sq,l))"
   ]
  },
  {
   "cell_type": "code",
   "execution_count": 10,
   "id": "1bb33441-5a9c-45ad-b8d9-151eff0951dd",
   "metadata": {},
   "outputs": [
    {
     "data": {
      "text/plain": [
       "[4, 9, 16, 25, 36]"
      ]
     },
     "execution_count": 10,
     "metadata": {},
     "output_type": "execute_result"
    }
   ],
   "source": [
    "list(map(lambda x: x**2,l))"
   ]
  },
  {
   "cell_type": "code",
   "execution_count": 11,
   "id": "0d0a3850-3a87-412f-b60c-cf37135913b0",
   "metadata": {},
   "outputs": [],
   "source": [
    "l1 = [1,2,3,4,5]\n",
    "l2 = [6,7,8,9,10]"
   ]
  },
  {
   "cell_type": "code",
   "execution_count": 13,
   "id": "acfa151c-cea4-4bc2-a443-2f6eaff25461",
   "metadata": {},
   "outputs": [
    {
     "data": {
      "text/plain": [
       "[7, 9, 11, 13, 15]"
      ]
     },
     "execution_count": 13,
     "metadata": {},
     "output_type": "execute_result"
    }
   ],
   "source": [
    "list(map(lambda x,y: x+y, l1,l2))"
   ]
  },
  {
   "cell_type": "code",
   "execution_count": 14,
   "id": "5514f5a1-a2a7-4344-9132-1b39416dc2ce",
   "metadata": {},
   "outputs": [],
   "source": [
    "def add(x,y):\n",
    "    return x+y"
   ]
  },
  {
   "cell_type": "code",
   "execution_count": 15,
   "id": "dd226e7d-03b0-4a84-b8a4-eabfdbaa0180",
   "metadata": {},
   "outputs": [
    {
     "data": {
      "text/plain": [
       "[7, 9, 11, 13, 15]"
      ]
     },
     "execution_count": 15,
     "metadata": {},
     "output_type": "execute_result"
    }
   ],
   "source": [
    "list(map(add,l1,l2))"
   ]
  },
  {
   "cell_type": "code",
   "execution_count": 17,
   "id": "9a217ff4-85b2-4fe9-ac03-cd946ca61071",
   "metadata": {},
   "outputs": [
    {
     "data": {
      "text/plain": [
       "['P', 'W', 'S', 'K', 'I', 'L', 'L', 'S']"
      ]
     },
     "execution_count": 17,
     "metadata": {},
     "output_type": "execute_result"
    }
   ],
   "source": [
    "s = \"pwskills\"\n",
    "list(map(lambda s: s.upper(), s))"
   ]
  },
  {
   "cell_type": "code",
   "execution_count": 18,
   "id": "b5c543d9-0232-4986-8091-6fb761975a97",
   "metadata": {},
   "outputs": [],
   "source": [
    "from functools import reduce"
   ]
  },
  {
   "cell_type": "code",
   "execution_count": 21,
   "id": "c8c4f9a1-431c-4369-8359-0974f2242a95",
   "metadata": {},
   "outputs": [],
   "source": [
    "l = [1,2,3,3,4,5]"
   ]
  },
  {
   "cell_type": "code",
   "execution_count": 22,
   "id": "e030bba4-5899-407e-b918-aa975044cc23",
   "metadata": {},
   "outputs": [
    {
     "data": {
      "text/plain": [
       "18"
      ]
     },
     "execution_count": 22,
     "metadata": {},
     "output_type": "execute_result"
    }
   ],
   "source": [
    "reduce(lambda x,y : x+y, l)"
   ]
  },
  {
   "cell_type": "code",
   "execution_count": 23,
   "id": "153ec00c-d797-4afa-9266-9cbc36da3b01",
   "metadata": {},
   "outputs": [
    {
     "ename": "TypeError",
     "evalue": "<lambda>() missing 1 required positional argument: 'z'",
     "output_type": "error",
     "traceback": [
      "\u001b[0;31m---------------------------------------------------------------------------\u001b[0m",
      "\u001b[0;31mTypeError\u001b[0m                                 Traceback (most recent call last)",
      "Cell \u001b[0;32mIn[23], line 1\u001b[0m\n\u001b[0;32m----> 1\u001b[0m \u001b[43mreduce\u001b[49m\u001b[43m(\u001b[49m\u001b[38;5;28;43;01mlambda\u001b[39;49;00m\u001b[43m \u001b[49m\u001b[43mx\u001b[49m\u001b[43m,\u001b[49m\u001b[43my\u001b[49m\u001b[43m,\u001b[49m\u001b[43mz\u001b[49m\u001b[43m \u001b[49m\u001b[43m:\u001b[49m\u001b[43m \u001b[49m\u001b[43mx\u001b[49m\u001b[38;5;241;43m+\u001b[39;49m\u001b[43my\u001b[49m\u001b[38;5;241;43m+\u001b[39;49m\u001b[43mz\u001b[49m\u001b[43m,\u001b[49m\u001b[43m \u001b[49m\u001b[43ml\u001b[49m\u001b[43m)\u001b[49m\n",
      "\u001b[0;31mTypeError\u001b[0m: <lambda>() missing 1 required positional argument: 'z'"
     ]
    }
   ],
   "source": [
    "reduce(lambda x,y,z : x+y+z, l)"
   ]
  },
  {
   "cell_type": "code",
   "execution_count": 24,
   "id": "a5770f59-fcec-4b5e-b8b1-86517e924f7f",
   "metadata": {},
   "outputs": [
    {
     "data": {
      "text/plain": [
       "360"
      ]
     },
     "execution_count": 24,
     "metadata": {},
     "output_type": "execute_result"
    }
   ],
   "source": [
    "reduce(lambda x,y : x*y, l)"
   ]
  },
  {
   "cell_type": "code",
   "execution_count": 26,
   "id": "a3e725e5-3582-4ce1-b793-5304d7bd8e2c",
   "metadata": {},
   "outputs": [
    {
     "data": {
      "text/plain": [
       "5"
      ]
     },
     "execution_count": 26,
     "metadata": {},
     "output_type": "execute_result"
    }
   ],
   "source": [
    "reduce(lambda x,y: x if x>y else y, l)"
   ]
  },
  {
   "cell_type": "code",
   "execution_count": 27,
   "id": "4394d98a-497c-4ac0-bad7-cf5ee57a7b96",
   "metadata": {},
   "outputs": [
    {
     "data": {
      "text/plain": [
       "[1, 2, 3, 3, 4, 5]"
      ]
     },
     "execution_count": 27,
     "metadata": {},
     "output_type": "execute_result"
    }
   ],
   "source": [
    "l"
   ]
  },
  {
   "cell_type": "code",
   "execution_count": 28,
   "id": "d1e042ce-4b3a-40d5-aefe-e7ec9bbd780d",
   "metadata": {},
   "outputs": [
    {
     "data": {
      "text/plain": [
       "[2, 4]"
      ]
     },
     "execution_count": 28,
     "metadata": {},
     "output_type": "execute_result"
    }
   ],
   "source": [
    "list(filter(lambda x: x%2==0, l))"
   ]
  },
  {
   "cell_type": "code",
   "execution_count": 29,
   "id": "fd43c509-168b-4fdf-984e-c54d6ad02db3",
   "metadata": {},
   "outputs": [
    {
     "data": {
      "text/plain": [
       "[1, 3, 3, 5]"
      ]
     },
     "execution_count": 29,
     "metadata": {},
     "output_type": "execute_result"
    }
   ],
   "source": [
    "list(filter(lambda x: x%2!=0, l))"
   ]
  },
  {
   "cell_type": "code",
   "execution_count": 33,
   "id": "9e506532-6bf8-4952-b4e7-bf25e27d17f1",
   "metadata": {},
   "outputs": [],
   "source": [
    "l1=[-3,-2,-1,0,1,2,3]"
   ]
  },
  {
   "cell_type": "code",
   "execution_count": 34,
   "id": "700cef4e-61ec-40e1-8489-cde60c7e5c04",
   "metadata": {},
   "outputs": [
    {
     "data": {
      "text/plain": [
       "[-3, -2, -1]"
      ]
     },
     "execution_count": 34,
     "metadata": {},
     "output_type": "execute_result"
    }
   ],
   "source": [
    "list(filter(lambda x: x<0, l1))"
   ]
  },
  {
   "cell_type": "code",
   "execution_count": 35,
   "id": "46145099-b6be-4a7a-a2d3-d403706fcc1b",
   "metadata": {},
   "outputs": [],
   "source": [
    "l2 = [\"subh\", \"pwskills\", \"kumar\", \"bangalore\", \"krish\"]"
   ]
  },
  {
   "cell_type": "code",
   "execution_count": 37,
   "id": "36ae8c08-0211-4be0-9078-e6d7de91b270",
   "metadata": {},
   "outputs": [
    {
     "data": {
      "text/plain": [
       "['pwskills', 'bangalore']"
      ]
     },
     "execution_count": 37,
     "metadata": {},
     "output_type": "execute_result"
    }
   ],
   "source": [
    "list(filter(lambda x: len(x)>6, l2))"
   ]
  },
  {
   "cell_type": "code",
   "execution_count": null,
   "id": "7b647ac0-cd31-47fb-84fa-66e2601bce94",
   "metadata": {},
   "outputs": [],
   "source": []
  }
 ],
 "metadata": {
  "kernelspec": {
   "display_name": "Python 3 (ipykernel)",
   "language": "python",
   "name": "python3"
  },
  "language_info": {
   "codemirror_mode": {
    "name": "ipython",
    "version": 3
   },
   "file_extension": ".py",
   "mimetype": "text/x-python",
   "name": "python",
   "nbconvert_exporter": "python",
   "pygments_lexer": "ipython3",
   "version": "3.10.8"
  }
 },
 "nbformat": 4,
 "nbformat_minor": 5
}
