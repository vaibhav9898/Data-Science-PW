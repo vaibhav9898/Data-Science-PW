{
 "cells": [
  {
   "cell_type": "markdown",
   "id": "9eca28a8-f1a6-4c19-8620-9941881abe3d",
   "metadata": {},
   "source": [
    "Q1. Create one variable containing following type of data:\n",
    "(i) string\n",
    "(ii) list\n",
    "(iii) float\n",
    "(iv) tuple"
   ]
  },
  {
   "cell_type": "code",
   "execution_count": 1,
   "id": "48117d2c-9965-43b6-aa60-eb805d1dc969",
   "metadata": {},
   "outputs": [],
   "source": [
    "string_variable = \"Hello, world!\"\n",
    "list_variable = [1, 2, 3, 4, 5]\n",
    "float_variable = 3.14\n",
    "tuple_variable = (10, 20, 30)"
   ]
  },
  {
   "cell_type": "markdown",
   "id": "55cf36e2-9b3e-437b-84a8-f8ab88666932",
   "metadata": {},
   "source": [
    "Q2. Given are some following variables containing data:\n",
    "(i) var1 = ‘ ‘\n",
    "(ii) var2 = ‘[ DS , ML , Python]’\n",
    "(iii) var3 = [ ‘DS’ , ’ML’ , ‘Python’ ]\n",
    "(iv) var4 = 1."
   ]
  },
  {
   "cell_type": "code",
   "execution_count": 2,
   "id": "a9176d88-7b0f-4cad-b6a1-8b226137e9f8",
   "metadata": {},
   "outputs": [
    {
     "name": "stdout",
     "output_type": "stream",
     "text": [
      "{'var1': <class 'str'>, 'var2': <class 'str'>, 'var3': <class 'list'>, 'var4': <class 'float'>}\n"
     ]
    }
   ],
   "source": [
    "var1 = ' '\n",
    "var2 = '[ DS , ML , Python]'\n",
    "var3 = ['DS', 'ML', 'Python']\n",
    "var4 = 1.\n",
    "\n",
    "data_types = {\n",
    "    'var1': type(var1),\n",
    "    'var2': type(var2),\n",
    "    'var3': type(var3),\n",
    "    'var4': type(var4)\n",
    "}\n",
    "print(data_types)"
   ]
  },
  {
   "cell_type": "raw",
   "id": "e2110c05-7728-46fc-8757-4d829663af64",
   "metadata": {},
   "source": [
    "Q3. Explain the use of the following operators using an example:\n",
    "(i) /\n",
    "(ii) %\n",
    "(iii) //\n",
    "(iv) **"
   ]
  },
  {
   "cell_type": "code",
   "execution_count": 3,
   "id": "2fc5cf4d-a334-47a7-be90-e603a0d9a8a4",
   "metadata": {},
   "outputs": [
    {
     "name": "stdout",
     "output_type": "stream",
     "text": [
      "10 / 3 = 3.3333333333333335\n",
      "10 % 3 = 1\n",
      "10 // 3 = 3\n",
      "2 ** 3 = 8\n"
     ]
    }
   ],
   "source": [
    "# Operators explanation\n",
    "# (i) / : Division operator, returns the quotient of the division\n",
    "result = 10 / 3\n",
    "print(\"10 / 3 =\", result)\n",
    "\n",
    "# (ii) % : Modulus operator, returns the remainder of the division\n",
    "remainder = 10 % 3\n",
    "print(\"10 % 3 =\", remainder)\n",
    "\n",
    "# (iii) // : Floor division operator, returns the quotient of the division rounded down to the nearest integer\n",
    "result_floor = 10 // 3\n",
    "print(\"10 // 3 =\", result_floor)\n",
    "\n",
    "# (iv) ** : Exponentiation operator, raises the first operand to the power of the second operand\n",
    "result_power = 2 ** 3\n",
    "print(\"2 ** 3 =\", result_power)"
   ]
  },
  {
   "cell_type": "raw",
   "id": "cd8a8056-c8a1-4dc0-8a7e-dc1c3f9d2417",
   "metadata": {},
   "source": [
    "Q4. Create a list of length 10 of your choice containing multiple types of data. Using for loop print the\n",
    "element and its data type."
   ]
  },
  {
   "cell_type": "code",
   "execution_count": 4,
   "id": "4255fe7a-fa01-4e7a-a839-8d3c1d330340",
   "metadata": {},
   "outputs": [
    {
     "name": "stdout",
     "output_type": "stream",
     "text": [
      "apple <class 'str'>\n",
      "3.14 <class 'float'>\n",
      "10 <class 'int'>\n",
      "True <class 'bool'>\n",
      "(1, 2, 3) <class 'tuple'>\n",
      "{'key': 'value'} <class 'dict'>\n",
      "[1, 2, 3] <class 'list'>\n",
      "None <class 'NoneType'>\n",
      "banana <class 'str'>\n",
      "5.55 <class 'float'>\n"
     ]
    }
   ],
   "source": [
    "# Create a list with multiple types of data and print each element with its data type\n",
    "mixed_list = ['apple', 3.14, 10, True, (1, 2, 3), {'key': 'value'}, [1, 2, 3], None, 'banana', 5.55]\n",
    "\n",
    "for item in mixed_list:\n",
    "    print(item, type(item))"
   ]
  },
  {
   "cell_type": "raw",
   "id": "505f939a-c822-463e-94b9-071d52b24630",
   "metadata": {},
   "source": [
    "Q5. Using a while loop, verify if the number A is purely divisible by number B and if so then how many\n",
    "times it can be divisible."
   ]
  },
  {
   "cell_type": "code",
   "execution_count": 5,
   "id": "e0b236b4-fbf1-4209-94a6-7ca57f8dea66",
   "metadata": {},
   "outputs": [
    {
     "name": "stdout",
     "output_type": "stream",
     "text": [
      "6.0 is divisible by 4 1 times.\n"
     ]
    }
   ],
   "source": [
    "# Verify if a number A is divisible by number B and count how many times it's divisible\n",
    "A = 24\n",
    "B = 4\n",
    "count = 0\n",
    "\n",
    "while A % B == 0:\n",
    "    A /= B\n",
    "    count += 1\n",
    "\n",
    "print(f\"{A} is divisible by {B} {count} times.\")\n"
   ]
  },
  {
   "cell_type": "raw",
   "id": "7696294d-5821-4cde-9a2f-706bf042d2e5",
   "metadata": {},
   "source": [
    "Q6. Create a list containing 25 int type data. Using for loop and if-else condition print if the element is\n",
    "divisible by 3 or not."
   ]
  },
  {
   "cell_type": "code",
   "execution_count": 6,
   "id": "0a9baaf9-ced1-40ef-91d8-ddff663bb34f",
   "metadata": {},
   "outputs": [
    {
     "name": "stdout",
     "output_type": "stream",
     "text": [
      "1 is not divisible by 3\n",
      "2 is not divisible by 3\n",
      "3 is divisible by 3\n",
      "4 is not divisible by 3\n",
      "5 is not divisible by 3\n",
      "6 is divisible by 3\n",
      "7 is not divisible by 3\n",
      "8 is not divisible by 3\n",
      "9 is divisible by 3\n",
      "10 is not divisible by 3\n",
      "11 is not divisible by 3\n",
      "12 is divisible by 3\n",
      "13 is not divisible by 3\n",
      "14 is not divisible by 3\n",
      "15 is divisible by 3\n",
      "16 is not divisible by 3\n",
      "17 is not divisible by 3\n",
      "18 is divisible by 3\n",
      "19 is not divisible by 3\n",
      "20 is not divisible by 3\n",
      "21 is divisible by 3\n",
      "22 is not divisible by 3\n",
      "23 is not divisible by 3\n",
      "24 is divisible by 3\n",
      "25 is not divisible by 3\n"
     ]
    }
   ],
   "source": [
    "# Create a list containing 25 int type data and print if each element is divisible by 3 or not\n",
    "numbers = list(range(1, 26))\n",
    "\n",
    "for num in numbers:\n",
    "    if num % 3 == 0:\n",
    "        print(num, \"is divisible by 3\")\n",
    "    else:\n",
    "        print(num, \"is not divisible by 3\")\n"
   ]
  },
  {
   "cell_type": "raw",
   "id": "4eaa395b-80ee-4641-bcaf-09f1441858e7",
   "metadata": {},
   "source": [
    "Q7. What do you understand about mutable and immutable data types? Give examples for both showing\n",
    "this property."
   ]
  },
  {
   "cell_type": "code",
   "execution_count": 7,
   "id": "0e1e4430-fbb8-4b08-8214-ccb3ccfc0cff",
   "metadata": {},
   "outputs": [
    {
     "name": "stdout",
     "output_type": "stream",
     "text": [
      "Mutable list: [10, 2, 3]\n",
      "Immutable tuple: (1, 2, 3)\n"
     ]
    }
   ],
   "source": [
    "# Mutable vs Immutable data types\n",
    "# Mutable: Data types that can be changed after creation (e.g., lists, dictionaries)\n",
    "mutable_list = [1, 2, 3]\n",
    "mutable_list[0] = 10\n",
    "print(\"Mutable list:\", mutable_list)\n",
    "\n",
    "# Immutable: Data types that cannot be changed after creation (e.g., strings, tuples)\n",
    "immutable_tuple = (1, 2, 3)\n",
    "# immutable_tuple[0] = 10  # This will raise an error since tuples are immutable\n",
    "print(\"Immutable tuple:\", immutable_tuple)"
   ]
  },
  {
   "cell_type": "code",
   "execution_count": null,
   "id": "facb805f-377e-4c5f-b697-76aadf2b1c32",
   "metadata": {},
   "outputs": [],
   "source": []
  }
 ],
 "metadata": {
  "kernelspec": {
   "display_name": "Python 3 (ipykernel)",
   "language": "python",
   "name": "python3"
  },
  "language_info": {
   "codemirror_mode": {
    "name": "ipython",
    "version": 3
   },
   "file_extension": ".py",
   "mimetype": "text/x-python",
   "name": "python",
   "nbconvert_exporter": "python",
   "pygments_lexer": "ipython3",
   "version": "3.11.7"
  }
 },
 "nbformat": 4,
 "nbformat_minor": 5
}
