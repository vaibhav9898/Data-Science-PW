{
 "cells": [
  {
   "cell_type": "code",
   "execution_count": 1,
   "id": "8678e574-8eae-4b23-ad63-6e9204e258d2",
   "metadata": {},
   "outputs": [],
   "source": [
    "s=\"Vaibhav\""
   ]
  },
  {
   "cell_type": "code",
   "execution_count": 2,
   "id": "bc1ac43c-fbfc-4aea-aa9d-d40ae811d4b1",
   "metadata": {},
   "outputs": [],
   "source": [
    "s1='Sudhanu'"
   ]
  },
  {
   "cell_type": "code",
   "execution_count": 5,
   "id": "f37bef33-4329-4a7e-87c3-e548ba00946f",
   "metadata": {},
   "outputs": [
    {
     "data": {
      "text/plain": [
       "'Sudhanu'"
      ]
     },
     "execution_count": 5,
     "metadata": {},
     "output_type": "execute_result"
    }
   ],
   "source": [
    "s1"
   ]
  },
  {
   "cell_type": "code",
   "execution_count": 6,
   "id": "355b98cd-6e3d-4d0b-8d8d-650d3c0ed7d0",
   "metadata": {},
   "outputs": [
    {
     "data": {
      "text/plain": [
       "str"
      ]
     },
     "execution_count": 6,
     "metadata": {},
     "output_type": "execute_result"
    }
   ],
   "source": [
    "type(s1)"
   ]
  },
  {
   "cell_type": "code",
   "execution_count": 7,
   "id": "02fdfe49-d747-41ac-8343-37acf3e319bc",
   "metadata": {},
   "outputs": [],
   "source": [
    "l=[2,3,4,'vaibhav',3+5j,True]"
   ]
  },
  {
   "cell_type": "code",
   "execution_count": 8,
   "id": "362669c0-00e6-4243-b5c9-57df1b672a4c",
   "metadata": {},
   "outputs": [
    {
     "data": {
      "text/plain": [
       "[2, 3, 4, 'vaibhav', (3+5j), True]"
      ]
     },
     "execution_count": 8,
     "metadata": {},
     "output_type": "execute_result"
    }
   ],
   "source": [
    "l"
   ]
  },
  {
   "cell_type": "code",
   "execution_count": 9,
   "id": "a01a55fe-14b2-4e06-b629-b7d68e6b8675",
   "metadata": {},
   "outputs": [
    {
     "data": {
      "text/plain": [
       "list"
      ]
     },
     "execution_count": 9,
     "metadata": {},
     "output_type": "execute_result"
    }
   ],
   "source": [
    "type(l)"
   ]
  },
  {
   "cell_type": "code",
   "execution_count": 10,
   "id": "5c5b5b09-f945-4573-80aa-3be648305984",
   "metadata": {},
   "outputs": [
    {
     "data": {
      "text/plain": [
       "2"
      ]
     },
     "execution_count": 10,
     "metadata": {},
     "output_type": "execute_result"
    }
   ],
   "source": [
    "l[0]"
   ]
  },
  {
   "cell_type": "code",
   "execution_count": 11,
   "id": "f5098afc-72db-4e1e-83d5-6bdd7cfddd39",
   "metadata": {},
   "outputs": [
    {
     "data": {
      "text/plain": [
       "(3+5j)"
      ]
     },
     "execution_count": 11,
     "metadata": {},
     "output_type": "execute_result"
    }
   ],
   "source": [
    "l[-2]"
   ]
  },
  {
   "cell_type": "code",
   "execution_count": 13,
   "id": "ad853e50-e0c0-4210-a85d-479ceef95405",
   "metadata": {},
   "outputs": [
    {
     "data": {
      "text/plain": [
       "'vaibhav'"
      ]
     },
     "execution_count": 13,
     "metadata": {},
     "output_type": "execute_result"
    }
   ],
   "source": [
    "l[-3]"
   ]
  },
  {
   "cell_type": "code",
   "execution_count": 14,
   "id": "072355e3-6417-40b5-88a4-c5cba33e9262",
   "metadata": {},
   "outputs": [],
   "source": [
    "l[2]='Harshit'"
   ]
  },
  {
   "cell_type": "code",
   "execution_count": 15,
   "id": "958087bd-47a6-4c15-acb7-a49bb2291d6b",
   "metadata": {},
   "outputs": [
    {
     "data": {
      "text/plain": [
       "[2, 3, 'Harshit', 'vaibhav', (3+5j), True]"
      ]
     },
     "execution_count": 15,
     "metadata": {},
     "output_type": "execute_result"
    }
   ],
   "source": [
    "l"
   ]
  },
  {
   "cell_type": "code",
   "execution_count": 16,
   "id": "9d0193c4-e563-4ed8-9986-e61983f10fe1",
   "metadata": {},
   "outputs": [
    {
     "ename": "TypeError",
     "evalue": "'str' object does not support item assignment",
     "output_type": "error",
     "traceback": [
      "\u001b[0;31m---------------------------------------------------------------------------\u001b[0m",
      "\u001b[0;31mTypeError\u001b[0m                                 Traceback (most recent call last)",
      "Cell \u001b[0;32mIn[16], line 1\u001b[0m\n\u001b[0;32m----> 1\u001b[0m \u001b[43ms\u001b[49m\u001b[43m[\u001b[49m\u001b[38;5;241;43m2\u001b[39;49m\u001b[43m]\u001b[49m\u001b[38;5;241m=\u001b[39m\u001b[38;5;124m'\u001b[39m\u001b[38;5;124mo\u001b[39m\u001b[38;5;124m'\u001b[39m\n",
      "\u001b[0;31mTypeError\u001b[0m: 'str' object does not support item assignment"
     ]
    }
   ],
   "source": [
    "s[2]='o'"
   ]
  },
  {
   "cell_type": "markdown",
   "id": "76272afe-116e-4efd-b612-aea7bc742ea2",
   "metadata": {},
   "source": [
    "So here it shows we can mutate data in List but we can't mutate in the string"
   ]
  },
  {
   "cell_type": "code",
   "execution_count": null,
   "id": "dff570b1-00b2-4567-b790-55da6e558850",
   "metadata": {},
   "outputs": [],
   "source": []
  }
 ],
 "metadata": {
  "kernelspec": {
   "display_name": "Python 3 (ipykernel)",
   "language": "python",
   "name": "python3"
  },
  "language_info": {
   "codemirror_mode": {
    "name": "ipython",
    "version": 3
   },
   "file_extension": ".py",
   "mimetype": "text/x-python",
   "name": "python",
   "nbconvert_exporter": "python",
   "pygments_lexer": "ipython3",
   "version": "3.11.7"
  }
 },
 "nbformat": 4,
 "nbformat_minor": 5
}
