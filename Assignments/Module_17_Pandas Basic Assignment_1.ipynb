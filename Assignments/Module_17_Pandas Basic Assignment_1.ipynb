{
 "cells": [
  {
   "cell_type": "markdown",
   "id": "95ef645f-6be3-4c51-91ce-b917d5a8bcd9",
   "metadata": {},
   "source": [
    "Q1. Create a Pandas Series that contains the following data: 4, 8, 15, 16, 23, and 42. Then, print the series."
   ]
  },
  {
   "cell_type": "code",
   "execution_count": 3,
   "id": "3b21a47e-a3c5-44b8-bb72-0284798a2612",
   "metadata": {},
   "outputs": [
    {
     "name": "stdout",
     "output_type": "stream",
     "text": [
      "0     4\n",
      "1     8\n",
      "2    15\n",
      "3    16\n",
      "4    23\n",
      "5    42\n",
      "dtype: int64\n"
     ]
    }
   ],
   "source": [
    "import pandas as pd\n",
    "\n",
    "# Create a Pandas Series\n",
    "data = [4, 8, 15, 16, 23, 42]\n",
    "series = pd.Series(data)\n",
    "\n",
    "# Print the series\n",
    "print(series)\n"
   ]
  },
  {
   "cell_type": "markdown",
   "id": "25954203-8f76-4cff-8732-944b7255fd20",
   "metadata": {},
   "source": [
    "Q2. Create a variable of list type containing 10 elements in it, and apply pandas.Series function on the\n",
    "variable print it."
   ]
  },
  {
   "cell_type": "code",
   "execution_count": 4,
   "id": "3efcba11-3e3d-4137-87a8-d319cc551176",
   "metadata": {},
   "outputs": [
    {
     "name": "stdout",
     "output_type": "stream",
     "text": [
      "0     4\n",
      "1     8\n",
      "2    15\n",
      "3    16\n",
      "4    23\n",
      "5    42\n",
      "6    35\n",
      "7    24\n",
      "8    53\n",
      "9    91\n",
      "dtype: int64\n"
     ]
    }
   ],
   "source": [
    "import pandas as pd\n",
    "\n",
    "# Create a Pandas Series\n",
    "data = [4, 8, 15, 16, 23, 42, 35, 24, 53, 91]\n",
    "series = pd.Series(data)\n",
    "print(series)"
   ]
  },
  {
   "cell_type": "markdown",
   "id": "5f4f5b25-e616-4772-b396-bfafce0d5b5f",
   "metadata": {},
   "source": [
    "Q3. Create a Pandas DataFrame that contains the following data:"
   ]
  },
  {
   "cell_type": "code",
   "execution_count": 5,
   "id": "f08c65c8-641c-4d98-bfd3-48dec2ef3152",
   "metadata": {},
   "outputs": [
    {
     "data": {
      "text/html": [
       "<div>\n",
       "<style scoped>\n",
       "    .dataframe tbody tr th:only-of-type {\n",
       "        vertical-align: middle;\n",
       "    }\n",
       "\n",
       "    .dataframe tbody tr th {\n",
       "        vertical-align: top;\n",
       "    }\n",
       "\n",
       "    .dataframe thead th {\n",
       "        text-align: right;\n",
       "    }\n",
       "</style>\n",
       "<table border=\"1\" class=\"dataframe\">\n",
       "  <thead>\n",
       "    <tr style=\"text-align: right;\">\n",
       "      <th></th>\n",
       "      <th>Name</th>\n",
       "      <th>Age</th>\n",
       "      <th>Gender</th>\n",
       "    </tr>\n",
       "  </thead>\n",
       "  <tbody>\n",
       "    <tr>\n",
       "      <th>0</th>\n",
       "      <td>Alice</td>\n",
       "      <td>25</td>\n",
       "      <td>Female</td>\n",
       "    </tr>\n",
       "    <tr>\n",
       "      <th>1</th>\n",
       "      <td>Bob</td>\n",
       "      <td>30</td>\n",
       "      <td>Male</td>\n",
       "    </tr>\n",
       "    <tr>\n",
       "      <th>2</th>\n",
       "      <td>Clarie</td>\n",
       "      <td>27</td>\n",
       "      <td>Female</td>\n",
       "    </tr>\n",
       "  </tbody>\n",
       "</table>\n",
       "</div>"
      ],
      "text/plain": [
       "     Name  Age  Gender\n",
       "0   Alice   25  Female\n",
       "1     Bob   30    Male\n",
       "2  Clarie   27  Female"
      ]
     },
     "execution_count": 5,
     "metadata": {},
     "output_type": "execute_result"
    }
   ],
   "source": [
    "df = {'Name':['Alice','Bob','Clarie'],\n",
    "        'Age':[25,30,27],\n",
    "        'Gender':['Female','Male','Female']\n",
    "       }\n",
    "\n",
    "pd.DataFrame(df)"
   ]
  },
  {
   "cell_type": "markdown",
   "id": "1cef57da-8e7c-4caa-a33c-cb5aecb6bd8a",
   "metadata": {},
   "source": [
    "Q4. What is ‘DataFrame’ in pandas and how is it different from pandas.series? Explain with an example."
   ]
  },
  {
   "cell_type": "raw",
   "id": "aa7dc023-85cd-4e78-b49f-336eb6101e1b",
   "metadata": {},
   "source": [
    "In Pandas, a DataFrame is a two-dimensional labeled data structure that is capable of holding data of different types. It is similar to a spreadsheet or a SQL table, where data is organized into rows and columns. Each column in a DataFrame is a Pandas Series.\n",
    "\n",
    "Here are some key differences between a DataFrame and a Series:\n",
    "\n",
    "    Dimensionality:\n",
    "        Series: A Series is a one-dimensional labeled array capable of holding data of any type (integer, float, string, etc.).\n",
    "        DataFrame: A DataFrame is a two-dimensional labeled data structure with potentially different data types in each column. It can be thought of as a collection of Series objects aligned by a common index.\n",
    "\n",
    "    Shape:\n",
    "        Series: A Series has a single dimension (rows).\n",
    "        DataFrame: A DataFrame has two dimensions (rows and columns).\n",
    "\n",
    "    Usage:\n",
    "        Series: Typically used to represent a single column or row of data.\n",
    "        DataFrame: Used to store and work with tabular data where you have multiple rows and columns."
   ]
  },
  {
   "cell_type": "markdown",
   "id": "0f2386dc-e729-40cb-a78d-aba326d3234d",
   "metadata": {},
   "source": [
    "Q5. What are some common functions you can use to manipulate data in a Pandas DataFrame? Can\n",
    "you give an example of when you might use one of these functions?"
   ]
  },
  {
   "cell_type": "raw",
   "id": "5b63430b-1168-4578-96c3-b9d12b29f655",
   "metadata": {},
   "source": [
    "Some common functions to manipulate data in a Pandas DataFrame include:\n",
    "\n",
    "1. `head()` and `tail()`: Used to view the first or last few rows of the DataFrame.\n",
    "2. `info()`: Provides a concise summary of the DataFrame including the data types and missing values.\n",
    "3. `describe()`: Generates descriptive statistics (count, mean, std, min, max, etc.) for numeric columns.\n",
    "4. `set_index()`: Sets the DataFrame index using existing columns.\n",
    "5. `reset_index()`: Resets the DataFrame index, moving the current index to a column and creating a new integer index.\n",
    "6. `dropna()`: Drops rows with missing values (NaN).\n",
    "7. `fillna()`: Fills missing values in the DataFrame with specified values.\n",
    "8. `groupby()`: Groups the DataFrame using a given column and applies an aggregation function.\n",
    "9. `merge()`: Merges two DataFrames on common columns or indices.\n",
    "10. `pivot_table()`: Creates a spreadsheet-style pivot table as a DataFrame.\n",
    "11. `sort_values()`: Sorts the DataFrame by specified column(s).\n",
    "12. `apply()`: Applies a function along any axis of the DataFrame.\n",
    "13. `plot()`: Generates various plots (line, bar, histogram, etc.) using Matplotlib or other libraries.\n",
    "\n",
    "For example, you might use `groupby()` when you want to calculate summary statistics for different groups within your data, such as finding the average score for each student in a class."
   ]
  },
  {
   "cell_type": "markdown",
   "id": "7c9be2fd-191f-48f4-973c-e03509f964d4",
   "metadata": {},
   "source": [
    "Q6. Which of the following is mutable in nature Series, DataFrame, Panel?"
   ]
  },
  {
   "cell_type": "markdown",
   "id": "e3315af8-91aa-4348-b5e0-a389b5ef3922",
   "metadata": {},
   "source": [
    "Among the options provided, both Series and DataFrame are mutable in nature. However, Panel is deprecated since pandas version 0.25.0, and it's recommended to use multi-index DataFrame or xarray instead."
   ]
  },
  {
   "cell_type": "markdown",
   "id": "ff710f43-a747-410c-bd1a-a128359abc4c",
   "metadata": {},
   "source": [
    "Q7. Create a DataFrame using multiple Series. Explain with an example."
   ]
  },
  {
   "cell_type": "code",
   "execution_count": 19,
   "id": "9e02fa27-74d4-48fa-9875-a718edaac4a1",
   "metadata": {},
   "outputs": [
    {
     "data": {
      "text/html": [
       "<div>\n",
       "<style scoped>\n",
       "    .dataframe tbody tr th:only-of-type {\n",
       "        vertical-align: middle;\n",
       "    }\n",
       "\n",
       "    .dataframe tbody tr th {\n",
       "        vertical-align: top;\n",
       "    }\n",
       "\n",
       "    .dataframe thead th {\n",
       "        text-align: right;\n",
       "    }\n",
       "</style>\n",
       "<table border=\"1\" class=\"dataframe\">\n",
       "  <thead>\n",
       "    <tr style=\"text-align: right;\">\n",
       "      <th></th>\n",
       "      <th>Data1</th>\n",
       "      <th>Data2</th>\n",
       "    </tr>\n",
       "  </thead>\n",
       "  <tbody>\n",
       "    <tr>\n",
       "      <th>0</th>\n",
       "      <td>4</td>\n",
       "      <td>2</td>\n",
       "    </tr>\n",
       "    <tr>\n",
       "      <th>1</th>\n",
       "      <td>8</td>\n",
       "      <td>4</td>\n",
       "    </tr>\n",
       "    <tr>\n",
       "      <th>2</th>\n",
       "      <td>15</td>\n",
       "      <td>6</td>\n",
       "    </tr>\n",
       "    <tr>\n",
       "      <th>3</th>\n",
       "      <td>16</td>\n",
       "      <td>4</td>\n",
       "    </tr>\n",
       "    <tr>\n",
       "      <th>4</th>\n",
       "      <td>23</td>\n",
       "      <td>6</td>\n",
       "    </tr>\n",
       "    <tr>\n",
       "      <th>5</th>\n",
       "      <td>42</td>\n",
       "      <td>3</td>\n",
       "    </tr>\n",
       "    <tr>\n",
       "      <th>6</th>\n",
       "      <td>35</td>\n",
       "      <td>2</td>\n",
       "    </tr>\n",
       "    <tr>\n",
       "      <th>7</th>\n",
       "      <td>24</td>\n",
       "      <td>1</td>\n",
       "    </tr>\n",
       "    <tr>\n",
       "      <th>8</th>\n",
       "      <td>53</td>\n",
       "      <td>3</td>\n",
       "    </tr>\n",
       "    <tr>\n",
       "      <th>9</th>\n",
       "      <td>91</td>\n",
       "      <td>2</td>\n",
       "    </tr>\n",
       "  </tbody>\n",
       "</table>\n",
       "</div>"
      ],
      "text/plain": [
       "   Data1  Data2\n",
       "0      4      2\n",
       "1      8      4\n",
       "2     15      6\n",
       "3     16      4\n",
       "4     23      6\n",
       "5     42      3\n",
       "6     35      2\n",
       "7     24      1\n",
       "8     53      3\n",
       "9     91      2"
      ]
     },
     "execution_count": 19,
     "metadata": {},
     "output_type": "execute_result"
    }
   ],
   "source": [
    "import pandas as pd\n",
    "\n",
    "# Create a Pandas Series\n",
    "data1 = [4, 8, 15, 16, 23, 42, 35, 24, 53, 91]\n",
    "series1 = pd.Series(data1)\n",
    "data2 = [2,4,6,4,6,3,2,1,3,2]\n",
    "series2=pd.Series(data2)\n",
    "\n",
    "df = pd.DataFrame({'Data1':series1, 'Data2':series2})\n",
    "df"
   ]
  },
  {
   "cell_type": "code",
   "execution_count": null,
   "id": "9bf9c733-01c3-486b-9e71-78444595dcaf",
   "metadata": {},
   "outputs": [],
   "source": []
  }
 ],
 "metadata": {
  "kernelspec": {
   "display_name": "Python 3 (ipykernel)",
   "language": "python",
   "name": "python3"
  },
  "language_info": {
   "codemirror_mode": {
    "name": "ipython",
    "version": 3
   },
   "file_extension": ".py",
   "mimetype": "text/x-python",
   "name": "python",
   "nbconvert_exporter": "python",
   "pygments_lexer": "ipython3",
   "version": "3.11.7"
  }
 },
 "nbformat": 4,
 "nbformat_minor": 5
}
