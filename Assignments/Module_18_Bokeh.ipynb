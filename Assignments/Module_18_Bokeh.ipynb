{
 "cells": [
  {
   "cell_type": "markdown",
   "id": "942aa172-18fc-4e4f-9f0d-1239a91ab293",
   "metadata": {},
   "source": [
    "# Q1. How can you create a Bokeh plot using Python code?"
   ]
  },
  {
   "cell_type": "code",
   "execution_count": 1,
   "id": "3971d9ed-4916-4438-a0c7-2cdbe0f74bb7",
   "metadata": {},
   "outputs": [],
   "source": [
    "# Step 1: Import necessary modules\n",
    "from bokeh.plotting import figure, output_file, show\n",
    "\n",
    "# Step 2: Prepare the data\n",
    "x = [1, 2, 3, 4, 5]\n",
    "y = [6, 7, 2, 4, 5]\n",
    "\n",
    "# Step 3: Create a figure\n",
    "p = figure(title=\"Simple Line Example\", x_axis_label='x', y_axis_label='y')\n",
    "\n",
    "# Step 4: Add a line renderer with legend and line thickness\n",
    "p.line(x, y, legend_label=\"Temp.\", line_width=2)\n",
    "\n",
    "# Step 5: Specify the output file\n",
    "output_file(\"lines.html\")\n",
    "\n",
    "# Step 6: Show the results\n",
    "show(p)\n"
   ]
  },
  {
   "cell_type": "markdown",
   "id": "ac665191-2f13-412e-94d4-ce0225143778",
   "metadata": {},
   "source": [
    "# Q2. What are glyphs in Bokeh, and how can you add them to a Bokeh plot? Explain with an example."
   ]
  },
  {
   "cell_type": "raw",
   "id": "45b3bb08-ef39-45c5-af03-14feaa1f432d",
   "metadata": {},
   "source": [
    "In Bokeh, glyphs are the basic visual building blocks of a plot. They represent the shapes used to visualize data points, such as lines, circles, squares, triangles, and so on. Each glyph is associated with data and properties that define its appearance and behavior.\n",
    "Adding Glyphs to a Bokeh Plot\n",
    "\n",
    "To add glyphs to a Bokeh plot, you typically follow these steps:\n",
    "\n",
    "    Create a Figure: This is the canvas where you'll add your glyphs.\n",
    "    Add Glyphs: Use methods provided by the Figure object to add glyphs. Each method corresponds to a different type of glyph, such as line, circle, square, etc.\n",
    "    Specify Glyph Properties: Define the properties of the glyphs, such as size, color, line width, and more.\n",
    "\n",
    "Example\n",
    "\n",
    "Here's an example demonstrating how to add different types of glyphs to a Bokeh plot:"
   ]
  },
  {
   "cell_type": "code",
   "execution_count": 2,
   "id": "f9eb43a9-5d7b-4b94-b107-64ec7c612dcf",
   "metadata": {},
   "outputs": [],
   "source": [
    "# Step 1: Import necessary modules\n",
    "from bokeh.plotting import figure, output_file, show\n",
    "\n",
    "# Step 2: Prepare the data\n",
    "x = [1, 2, 3, 4, 5]\n",
    "y = [6, 7, 2, 4, 5]\n",
    "sizes = [10, 20, 30, 40, 50]\n",
    "colors = [\"navy\", \"orange\", \"olive\", \"firebrick\", \"gold\"]\n",
    "\n",
    "# Step 3: Create a figure\n",
    "p = figure(title=\"Different Glyphs Example\", x_axis_label='x', y_axis_label='y')\n",
    "\n",
    "# Step 4: Add different glyphs to the figure\n",
    "# Line glyph\n",
    "p.line(x, y, legend_label=\"Line\", line_width=2)\n",
    "\n",
    "# Circle glyph\n",
    "p.circle(x, y, size=sizes, color=colors, legend_label=\"Circles\", alpha=0.6)\n",
    "\n",
    "# Square glyph\n",
    "p.square(x, y, size=sizes, color=colors, legend_label=\"Squares\", alpha=0.6)\n",
    "\n",
    "# Step 5: Specify the output file\n",
    "output_file(\"glyphs.html\")\n",
    "\n",
    "# Step 6: Show the results\n",
    "show(p)\n"
   ]
  },
  {
   "cell_type": "markdown",
   "id": "85834e60-1918-4152-a8d6-86465e062622",
   "metadata": {},
   "source": [
    "# Q3. How can you customize the appearance of a Bokeh plot, including the axes, title, and legend?"
   ]
  },
  {
   "cell_type": "code",
   "execution_count": 3,
   "id": "b0036548-c254-4d0d-8537-0253c1af2ef4",
   "metadata": {},
   "outputs": [],
   "source": [
    "# Customizing the Title\n",
    "\n",
    "# You can customize the plot title by setting its properties such as text, alignment, font size, and color.\n",
    "p.title.text = \"Customized Plot Title\"\n",
    "p.title.align = \"center\"\n",
    "p.title.text_font_size = \"20pt\"\n",
    "p.title.text_color = \"blue\"\n"
   ]
  },
  {
   "cell_type": "code",
   "execution_count": 6,
   "id": "fd540861-bef1-4161-ba2a-4be82872eff2",
   "metadata": {},
   "outputs": [],
   "source": [
    "# Customizing the Axes\n",
    "\n",
    "# You can customize the x-axis and y-axis by modifying their labels, tick marks, and grid lines.\n",
    "# X-Axis and Y-Axis Labels\n",
    "\n",
    "p.xaxis.axis_label = \"Custom X-Axis Label\"\n",
    "p.xaxis.axis_label_text_font_size = \"14pt\"\n",
    "p.xaxis.axis_label_text_color = \"green\"\n",
    "\n",
    "p.yaxis.axis_label = \"Custom Y-Axis Label\"\n",
    "p.yaxis.axis_label_text_font_size = \"14pt\"\n",
    "p.yaxis.axis_label_text_color = \"green\"\n"
   ]
  },
  {
   "cell_type": "code",
   "execution_count": 7,
   "id": "a8194451-55bd-49d2-b00b-b44283c7c0de",
   "metadata": {},
   "outputs": [],
   "source": [
    "# Tick Marks\n",
    "p.xaxis.major_label_text_font_size = \"12pt\"\n",
    "p.xaxis.major_label_text_color = \"purple\"\n",
    "p.xaxis.major_tick_line_color = \"orange\"\n",
    "p.xaxis.minor_tick_line_color = \"orange\"\n",
    "\n",
    "p.yaxis.major_label_text_font_size = \"12pt\"\n",
    "p.yaxis.major_label_text_color = \"purple\"\n",
    "p.yaxis.major_tick_line_color = \"orange\"\n",
    "p.yaxis.minor_tick_line_color = \"orange\"\n"
   ]
  },
  {
   "cell_type": "code",
   "execution_count": 8,
   "id": "377754ab-85b9-4640-85bb-9213dcf44469",
   "metadata": {},
   "outputs": [],
   "source": [
    "# Grid Lines\n",
    "p.xgrid.grid_line_color = \"gray\"\n",
    "p.xgrid.grid_line_dash = [6, 4]\n",
    "p.ygrid.grid_line_color = \"gray\"\n",
    "p.ygrid.grid_line_dash = [6, 4]\n"
   ]
  },
  {
   "cell_type": "code",
   "execution_count": 9,
   "id": "dd078e58-d772-4018-b06d-1a00db215e52",
   "metadata": {},
   "outputs": [],
   "source": [
    "# Customizing the Legend\n",
    "\n",
    "# You can customize the legend by setting its location, orientation, background, and text properties.\n",
    "\n",
    "p.legend.title = \"Custom Legend Title\"\n",
    "p.legend.title_text_font_size = \"12pt\"\n",
    "p.legend.label_text_font_size = \"10pt\"\n",
    "p.legend.label_text_color = \"black\"\n",
    "p.legend.background_fill_color = \"lightgray\"\n",
    "p.legend.border_line_color = \"black\"\n",
    "p.legend.location = \"top_left\"\n",
    "p.legend.orientation = \"horizontal\"\n"
   ]
  },
  {
   "cell_type": "code",
   "execution_count": 13,
   "id": "9de5c01a-b67f-40ce-9376-7a65d6a0bdc8",
   "metadata": {},
   "outputs": [],
   "source": [
    "from bokeh.plotting import figure, output_file, show\n",
    "\n",
    "# Prepare the data\n",
    "x = [1, 2, 3, 4, 5]\n",
    "y = [6, 7, 2, 4, 5]\n",
    "\n",
    "# Create a figure\n",
    "p = figure(title=\"Initial Title\", x_axis_label='x', y_axis_label='y')\n",
    "\n",
    "# Add a line renderer with legend and line thickness\n",
    "p.line(x, y, legend_label=\"Line\", line_width=2)\n",
    "\n",
    "# Customize the title\n",
    "p.title.text = \"Customized Plot Title\"\n",
    "p.title.align = \"center\"\n",
    "p.title.text_font_size = \"20pt\"\n",
    "p.title.text_color = \"blue\"\n",
    "\n",
    "# Customize the x-axis\n",
    "p.xaxis.axis_label = \"Custom X-Axis Label\"\n",
    "p.xaxis.axis_label_text_font_size = \"14pt\"\n",
    "p.xaxis.axis_label_text_color = \"green\"\n",
    "p.xaxis.major_label_text_font_size = \"12pt\"\n",
    "p.xaxis.major_label_text_color = \"purple\"\n",
    "p.xaxis.major_tick_line_color = \"orange\"\n",
    "p.xaxis.minor_tick_line_color = \"orange\"\n",
    "p.xgrid.grid_line_color = \"gray\"\n",
    "p.xgrid.grid_line_dash = [6, 4]\n",
    "\n",
    "# Customize the y-axis\n",
    "p.yaxis.axis_label = \"Custom Y-Axis Label\"\n",
    "p.yaxis.axis_label_text_font_size = \"14pt\"\n",
    "p.yaxis.axis_label_text_color = \"green\"\n",
    "p.yaxis.major_label_text_font_size = \"12pt\"\n",
    "p.yaxis.major_label_text_color = \"purple\"\n",
    "p.yaxis.major_tick_line_color = \"orange\"\n",
    "p.yaxis.minor_tick_line_color = \"orange\"\n",
    "p.ygrid.grid_line_color = \"gray\"\n",
    "p.ygrid.grid_line_dash = [6, 4]\n",
    "\n",
    "# Customize the legend\n",
    "p.legend.title = \"Custom Legend Title\"\n",
    "p.legend.title_text_font_size = \"12pt\"\n",
    "p.legend.label_text_font_size = \"10pt\"\n",
    "p.legend.label_text_color = \"black\"\n",
    "p.legend.background_fill_color = \"lightgray\"\n",
    "p.legend.border_line_color = \"black\"\n",
    "p.legend.location = \"top_left\"\n",
    "p.legend.orientation = \"horizontal\"\n",
    "\n",
    "# Specify the output file\n",
    "output_file(\"customized_plot.html\")\n",
    "\n",
    "# Show the results\n",
    "show(p)\n"
   ]
  },
  {
   "cell_type": "markdown",
   "id": "a77db690-f761-40c5-89de-eac9163880da",
   "metadata": {},
   "source": [
    "# Q4. What is a Bokeh server, and how can you use it to create interactive plots that can be updated in real time?"
   ]
  },
  {
   "cell_type": "raw",
   "id": "5ef28766-1995-4ba9-8b1a-54879b2aab7d",
   "metadata": {},
   "source": [
    "Bokeh Server is a crucial component of the Bokeh library that enables the creation of interactive web applications and dashboards with real-time data updates. It allows you to build dynamic, data-driven applications where users can interact with plots and widgets, and the visualizations update in response to their actions or changing data. Bokeh Server runs a Python server application that communicates with the web browser to deliver interactive plots and handle user interactions.\n",
    "\n",
    "Here's how you can use Bokeh Server to create interactive plots that can be updated in real time:\n",
    "1. Define Your Bokeh Application:\n",
    "\n",
    "    Create a Python script or module containing your Bokeh application code.\n",
    "    Define the layout of your application, including plots, widgets, and interactions.\n",
    "    Specify any callbacks that should be triggered in response to user interactions or data changes.\n",
    "\n",
    "2. Run the Bokeh Server:\n",
    "\n",
    "    Launch the Bokeh Server from the command line, specifying the path to your Bokeh application script or module.\n",
    "    Bokeh Server will start a Python server process that listens for connections from web browsers.\n",
    "\n",
    "3. Access Your Application in a Web Browser:\n",
    "\n",
    "    Open a web browser and navigate to the URL where the Bokeh Server is running.\n",
    "    Your Bokeh application will be served dynamically, and you can interact with the plots and widgets in real time.\n",
    "\n",
    "4. Real-Time Updates:\n",
    "\n",
    "    As users interact with the plots or widgets, or as data changes in the background, Bokeh Server will automatically update the visualizations in the web browser.\n",
    "    You can implement various forms of real-time updates, such as streaming data, periodic updates, or updates triggered by user input."
   ]
  },
  {
   "cell_type": "markdown",
   "id": "aef83dc7-6160-4d8c-86ba-3fdb7fa570e1",
   "metadata": {},
   "source": [
    "# Q5. How can you embed a Bokeh plot into a web page or dashboard using Flask or Django?"
   ]
  },
  {
   "cell_type": "raw",
   "id": "04f74164-9bf4-4864-b455-b1061c4f1f1d",
   "metadata": {},
   "source": [
    "Flask:\n",
    "\n",
    "    Install Flask and Bokeh.\n",
    "    Create a Flask application.\n",
    "    Define a route to render an HTML template.\n",
    "    Embed the Bokeh plot into the HTML template using server_document.\n",
    "    Run the Bokeh server separately.\n",
    "    Run the Flask application.\n",
    "\n",
    "Django:\n",
    "\n",
    "    Install Django and Bokeh.\n",
    "    Create a Django application.\n",
    "    Define a view to render an HTML template.\n",
    "    Embed the Bokeh plot into the HTML template using server_document.\n",
    "    Run the Bokeh server separately.\n",
    "    Configure URL routing to the view in the Django project.\n",
    "    Run the Django application.\n",
    "\n",
    "Both methods involve embedding the Bokeh plot into an HTML template using server_document, but the structure and configuration differ slightly between Flask and Django. Choose the framework that fits your project's needs and your familiarity with the framework.\n"
   ]
  },
  {
   "cell_type": "code",
   "execution_count": null,
   "id": "187354fa-1c0e-4b26-8b56-c6ef404efae3",
   "metadata": {},
   "outputs": [],
   "source": []
  }
 ],
 "metadata": {
  "kernelspec": {
   "display_name": "Python 3 (ipykernel)",
   "language": "python",
   "name": "python3"
  },
  "language_info": {
   "codemirror_mode": {
    "name": "ipython",
    "version": 3
   },
   "file_extension": ".py",
   "mimetype": "text/x-python",
   "name": "python",
   "nbconvert_exporter": "python",
   "pygments_lexer": "ipython3",
   "version": "3.11.7"
  }
 },
 "nbformat": 4,
 "nbformat_minor": 5
}
