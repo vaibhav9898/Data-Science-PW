{
 "cells": [
  {
   "cell_type": "markdown",
   "id": "50966aa0-5d60-48eb-b166-296b88e490a9",
   "metadata": {},
   "source": [
    "Q1. List any five functions of the pandas library with execution."
   ]
  },
  {
   "cell_type": "code",
   "execution_count": 1,
   "id": "43880f0f-ddf4-4fbb-9b41-933ec31f4f6d",
   "metadata": {},
   "outputs": [],
   "source": [
    "import pandas as pd\n",
    "df= pd.read_csv(\"https://raw.githubusercontent.com/datasciencedojo/datasets/master/titanic.csv\")\n"
   ]
  },
  {
   "cell_type": "code",
   "execution_count": 2,
   "id": "7e525de6-e4e9-4f61-9dc9-f0a109089a14",
   "metadata": {},
   "outputs": [
    {
     "data": {
      "text/plain": [
       "Index(['PassengerId', 'Survived', 'Pclass', 'Name', 'Sex', 'Age', 'SibSp',\n",
       "       'Parch', 'Ticket', 'Fare', 'Cabin', 'Embarked'],\n",
       "      dtype='object')"
      ]
     },
     "execution_count": 2,
     "metadata": {},
     "output_type": "execute_result"
    }
   ],
   "source": [
    "df.columns"
   ]
  },
  {
   "cell_type": "code",
   "execution_count": 3,
   "id": "b6bbafac-7fb5-46ea-a0b2-8ae50dbbd551",
   "metadata": {},
   "outputs": [
    {
     "data": {
      "text/html": [
       "<div>\n",
       "<style scoped>\n",
       "    .dataframe tbody tr th:only-of-type {\n",
       "        vertical-align: middle;\n",
       "    }\n",
       "\n",
       "    .dataframe tbody tr th {\n",
       "        vertical-align: top;\n",
       "    }\n",
       "\n",
       "    .dataframe thead th {\n",
       "        text-align: right;\n",
       "    }\n",
       "</style>\n",
       "<table border=\"1\" class=\"dataframe\">\n",
       "  <thead>\n",
       "    <tr style=\"text-align: right;\">\n",
       "      <th></th>\n",
       "      <th>PassengerId</th>\n",
       "      <th>Survived</th>\n",
       "      <th>Pclass</th>\n",
       "      <th>Age</th>\n",
       "      <th>SibSp</th>\n",
       "      <th>Parch</th>\n",
       "      <th>Fare</th>\n",
       "    </tr>\n",
       "  </thead>\n",
       "  <tbody>\n",
       "    <tr>\n",
       "      <th>count</th>\n",
       "      <td>891.000000</td>\n",
       "      <td>891.000000</td>\n",
       "      <td>891.000000</td>\n",
       "      <td>714.000000</td>\n",
       "      <td>891.000000</td>\n",
       "      <td>891.000000</td>\n",
       "      <td>891.000000</td>\n",
       "    </tr>\n",
       "    <tr>\n",
       "      <th>mean</th>\n",
       "      <td>446.000000</td>\n",
       "      <td>0.383838</td>\n",
       "      <td>2.308642</td>\n",
       "      <td>29.699118</td>\n",
       "      <td>0.523008</td>\n",
       "      <td>0.381594</td>\n",
       "      <td>32.204208</td>\n",
       "    </tr>\n",
       "    <tr>\n",
       "      <th>std</th>\n",
       "      <td>257.353842</td>\n",
       "      <td>0.486592</td>\n",
       "      <td>0.836071</td>\n",
       "      <td>14.526497</td>\n",
       "      <td>1.102743</td>\n",
       "      <td>0.806057</td>\n",
       "      <td>49.693429</td>\n",
       "    </tr>\n",
       "    <tr>\n",
       "      <th>min</th>\n",
       "      <td>1.000000</td>\n",
       "      <td>0.000000</td>\n",
       "      <td>1.000000</td>\n",
       "      <td>0.420000</td>\n",
       "      <td>0.000000</td>\n",
       "      <td>0.000000</td>\n",
       "      <td>0.000000</td>\n",
       "    </tr>\n",
       "    <tr>\n",
       "      <th>25%</th>\n",
       "      <td>223.500000</td>\n",
       "      <td>0.000000</td>\n",
       "      <td>2.000000</td>\n",
       "      <td>20.125000</td>\n",
       "      <td>0.000000</td>\n",
       "      <td>0.000000</td>\n",
       "      <td>7.910400</td>\n",
       "    </tr>\n",
       "    <tr>\n",
       "      <th>50%</th>\n",
       "      <td>446.000000</td>\n",
       "      <td>0.000000</td>\n",
       "      <td>3.000000</td>\n",
       "      <td>28.000000</td>\n",
       "      <td>0.000000</td>\n",
       "      <td>0.000000</td>\n",
       "      <td>14.454200</td>\n",
       "    </tr>\n",
       "    <tr>\n",
       "      <th>75%</th>\n",
       "      <td>668.500000</td>\n",
       "      <td>1.000000</td>\n",
       "      <td>3.000000</td>\n",
       "      <td>38.000000</td>\n",
       "      <td>1.000000</td>\n",
       "      <td>0.000000</td>\n",
       "      <td>31.000000</td>\n",
       "    </tr>\n",
       "    <tr>\n",
       "      <th>max</th>\n",
       "      <td>891.000000</td>\n",
       "      <td>1.000000</td>\n",
       "      <td>3.000000</td>\n",
       "      <td>80.000000</td>\n",
       "      <td>8.000000</td>\n",
       "      <td>6.000000</td>\n",
       "      <td>512.329200</td>\n",
       "    </tr>\n",
       "  </tbody>\n",
       "</table>\n",
       "</div>"
      ],
      "text/plain": [
       "       PassengerId    Survived      Pclass         Age       SibSp  \\\n",
       "count   891.000000  891.000000  891.000000  714.000000  891.000000   \n",
       "mean    446.000000    0.383838    2.308642   29.699118    0.523008   \n",
       "std     257.353842    0.486592    0.836071   14.526497    1.102743   \n",
       "min       1.000000    0.000000    1.000000    0.420000    0.000000   \n",
       "25%     223.500000    0.000000    2.000000   20.125000    0.000000   \n",
       "50%     446.000000    0.000000    3.000000   28.000000    0.000000   \n",
       "75%     668.500000    1.000000    3.000000   38.000000    1.000000   \n",
       "max     891.000000    1.000000    3.000000   80.000000    8.000000   \n",
       "\n",
       "            Parch        Fare  \n",
       "count  891.000000  891.000000  \n",
       "mean     0.381594   32.204208  \n",
       "std      0.806057   49.693429  \n",
       "min      0.000000    0.000000  \n",
       "25%      0.000000    7.910400  \n",
       "50%      0.000000   14.454200  \n",
       "75%      0.000000   31.000000  \n",
       "max      6.000000  512.329200  "
      ]
     },
     "execution_count": 3,
     "metadata": {},
     "output_type": "execute_result"
    }
   ],
   "source": [
    "df.describe()"
   ]
  },
  {
   "cell_type": "code",
   "execution_count": 4,
   "id": "80161c7c-f163-4aa3-a74a-0271c40577a5",
   "metadata": {},
   "outputs": [
    {
     "data": {
      "text/plain": [
       "PassengerId      int64\n",
       "Survived         int64\n",
       "Pclass           int64\n",
       "Name            object\n",
       "Sex             object\n",
       "Age            float64\n",
       "SibSp            int64\n",
       "Parch            int64\n",
       "Ticket          object\n",
       "Fare           float64\n",
       "Cabin           object\n",
       "Embarked        object\n",
       "dtype: object"
      ]
     },
     "execution_count": 4,
     "metadata": {},
     "output_type": "execute_result"
    }
   ],
   "source": [
    "df.dtypes"
   ]
  },
  {
   "cell_type": "code",
   "execution_count": 5,
   "id": "b58baadc-9e33-410a-83b8-15e884e82bf1",
   "metadata": {},
   "outputs": [
    {
     "data": {
      "text/html": [
       "<div>\n",
       "<style scoped>\n",
       "    .dataframe tbody tr th:only-of-type {\n",
       "        vertical-align: middle;\n",
       "    }\n",
       "\n",
       "    .dataframe tbody tr th {\n",
       "        vertical-align: top;\n",
       "    }\n",
       "\n",
       "    .dataframe thead th {\n",
       "        text-align: right;\n",
       "    }\n",
       "</style>\n",
       "<table border=\"1\" class=\"dataframe\">\n",
       "  <thead>\n",
       "    <tr style=\"text-align: right;\">\n",
       "      <th></th>\n",
       "      <th>PassengerId</th>\n",
       "      <th>Survived</th>\n",
       "      <th>Pclass</th>\n",
       "      <th>Name</th>\n",
       "      <th>Sex</th>\n",
       "      <th>Age</th>\n",
       "      <th>SibSp</th>\n",
       "      <th>Parch</th>\n",
       "      <th>Ticket</th>\n",
       "      <th>Fare</th>\n",
       "      <th>Cabin</th>\n",
       "      <th>Embarked</th>\n",
       "    </tr>\n",
       "  </thead>\n",
       "  <tbody>\n",
       "    <tr>\n",
       "      <th>0</th>\n",
       "      <td>1</td>\n",
       "      <td>0</td>\n",
       "      <td>3</td>\n",
       "      <td>Braund, Mr. Owen Harris</td>\n",
       "      <td>male</td>\n",
       "      <td>22.0</td>\n",
       "      <td>1</td>\n",
       "      <td>0</td>\n",
       "      <td>A/5 21171</td>\n",
       "      <td>7.2500</td>\n",
       "      <td>NaN</td>\n",
       "      <td>S</td>\n",
       "    </tr>\n",
       "    <tr>\n",
       "      <th>1</th>\n",
       "      <td>2</td>\n",
       "      <td>1</td>\n",
       "      <td>1</td>\n",
       "      <td>Cumings, Mrs. John Bradley (Florence Briggs Th...</td>\n",
       "      <td>female</td>\n",
       "      <td>38.0</td>\n",
       "      <td>1</td>\n",
       "      <td>0</td>\n",
       "      <td>PC 17599</td>\n",
       "      <td>71.2833</td>\n",
       "      <td>C85</td>\n",
       "      <td>C</td>\n",
       "    </tr>\n",
       "    <tr>\n",
       "      <th>2</th>\n",
       "      <td>3</td>\n",
       "      <td>1</td>\n",
       "      <td>3</td>\n",
       "      <td>Heikkinen, Miss. Laina</td>\n",
       "      <td>female</td>\n",
       "      <td>26.0</td>\n",
       "      <td>0</td>\n",
       "      <td>0</td>\n",
       "      <td>STON/O2. 3101282</td>\n",
       "      <td>7.9250</td>\n",
       "      <td>NaN</td>\n",
       "      <td>S</td>\n",
       "    </tr>\n",
       "    <tr>\n",
       "      <th>3</th>\n",
       "      <td>4</td>\n",
       "      <td>1</td>\n",
       "      <td>1</td>\n",
       "      <td>Futrelle, Mrs. Jacques Heath (Lily May Peel)</td>\n",
       "      <td>female</td>\n",
       "      <td>35.0</td>\n",
       "      <td>1</td>\n",
       "      <td>0</td>\n",
       "      <td>113803</td>\n",
       "      <td>53.1000</td>\n",
       "      <td>C123</td>\n",
       "      <td>S</td>\n",
       "    </tr>\n",
       "    <tr>\n",
       "      <th>4</th>\n",
       "      <td>5</td>\n",
       "      <td>0</td>\n",
       "      <td>3</td>\n",
       "      <td>Allen, Mr. William Henry</td>\n",
       "      <td>male</td>\n",
       "      <td>35.0</td>\n",
       "      <td>0</td>\n",
       "      <td>0</td>\n",
       "      <td>373450</td>\n",
       "      <td>8.0500</td>\n",
       "      <td>NaN</td>\n",
       "      <td>S</td>\n",
       "    </tr>\n",
       "  </tbody>\n",
       "</table>\n",
       "</div>"
      ],
      "text/plain": [
       "   PassengerId  Survived  Pclass  \\\n",
       "0            1         0       3   \n",
       "1            2         1       1   \n",
       "2            3         1       3   \n",
       "3            4         1       1   \n",
       "4            5         0       3   \n",
       "\n",
       "                                                Name     Sex   Age  SibSp  \\\n",
       "0                            Braund, Mr. Owen Harris    male  22.0      1   \n",
       "1  Cumings, Mrs. John Bradley (Florence Briggs Th...  female  38.0      1   \n",
       "2                             Heikkinen, Miss. Laina  female  26.0      0   \n",
       "3       Futrelle, Mrs. Jacques Heath (Lily May Peel)  female  35.0      1   \n",
       "4                           Allen, Mr. William Henry    male  35.0      0   \n",
       "\n",
       "   Parch            Ticket     Fare Cabin Embarked  \n",
       "0      0         A/5 21171   7.2500   NaN        S  \n",
       "1      0          PC 17599  71.2833   C85        C  \n",
       "2      0  STON/O2. 3101282   7.9250   NaN        S  \n",
       "3      0            113803  53.1000  C123        S  \n",
       "4      0            373450   8.0500   NaN        S  "
      ]
     },
     "execution_count": 5,
     "metadata": {},
     "output_type": "execute_result"
    }
   ],
   "source": [
    "df.head()"
   ]
  },
  {
   "cell_type": "code",
   "execution_count": 6,
   "id": "7b842dd2-1b8a-497d-9918-c1e2cc4af9a5",
   "metadata": {},
   "outputs": [
    {
     "data": {
      "text/html": [
       "<div>\n",
       "<style scoped>\n",
       "    .dataframe tbody tr th:only-of-type {\n",
       "        vertical-align: middle;\n",
       "    }\n",
       "\n",
       "    .dataframe tbody tr th {\n",
       "        vertical-align: top;\n",
       "    }\n",
       "\n",
       "    .dataframe thead th {\n",
       "        text-align: right;\n",
       "    }\n",
       "</style>\n",
       "<table border=\"1\" class=\"dataframe\">\n",
       "  <thead>\n",
       "    <tr style=\"text-align: right;\">\n",
       "      <th></th>\n",
       "      <th>PassengerId</th>\n",
       "      <th>Survived</th>\n",
       "      <th>Pclass</th>\n",
       "    </tr>\n",
       "  </thead>\n",
       "  <tbody>\n",
       "    <tr>\n",
       "      <th>0</th>\n",
       "      <td>1</td>\n",
       "      <td>0</td>\n",
       "      <td>3</td>\n",
       "    </tr>\n",
       "    <tr>\n",
       "      <th>1</th>\n",
       "      <td>2</td>\n",
       "      <td>1</td>\n",
       "      <td>1</td>\n",
       "    </tr>\n",
       "    <tr>\n",
       "      <th>2</th>\n",
       "      <td>3</td>\n",
       "      <td>1</td>\n",
       "      <td>3</td>\n",
       "    </tr>\n",
       "  </tbody>\n",
       "</table>\n",
       "</div>"
      ],
      "text/plain": [
       "   PassengerId  Survived  Pclass\n",
       "0            1         0       3\n",
       "1            2         1       1\n",
       "2            3         1       3"
      ]
     },
     "execution_count": 6,
     "metadata": {},
     "output_type": "execute_result"
    }
   ],
   "source": [
    "df.loc[0:2,['PassengerId','Survived','Pclass']]"
   ]
  },
  {
   "cell_type": "markdown",
   "id": "1d909b28-e14d-4f79-951d-155e05959f45",
   "metadata": {},
   "source": [
    "Q2. Given a Pandas DataFrame df with columns 'A', 'B', and 'C', write a Python function to re-index the\n",
    "DataFrame with a new index that starts from 1 and increments by 2 for each row."
   ]
  },
  {
   "cell_type": "code",
   "execution_count": 22,
   "id": "5d96c7ff-58ff-4bab-a5e2-9a5a9d5b753f",
   "metadata": {},
   "outputs": [
    {
     "name": "stdout",
     "output_type": "stream",
     "text": [
      "Re-indexed DataFrame:\n",
      "   A   B    C\n",
      "1  1  11  111\n",
      "3  2  22  222\n",
      "5  3  33  333\n",
      "7  4  44  444\n",
      "9  5  55  555\n"
     ]
    }
   ],
   "source": [
    "import pandas as pd\n",
    "\n",
    "def reindex_dataframe(df):\n",
    "    # Generate the new index values starting from 1 and incrementing by 2\n",
    "    new_index = [i for i in range(1, 2 * len(df) + 1, 2)]\n",
    "    \n",
    "    # Set the new index to the DataFrame\n",
    "    df_reindexed = df.copy()\n",
    "    df_reindexed.index = new_index\n",
    "    \n",
    "    return df_reindexed\n",
    "\n",
    "# Example usage\n",
    "df = pd.DataFrame({\n",
    "    'A': [1, 2, 3, 4, 5],\n",
    "    'B': [11, 22, 33, 44, 55],\n",
    "    'C': [111, 222, 333, 444, 555]\n",
    "})\n",
    "\n",
    "df_reindexed = reindex_dataframe(df)\n",
    "print(\"Re-indexed DataFrame:\")\n",
    "print(df_reindexed)\n"
   ]
  },
  {
   "cell_type": "markdown",
   "id": "cac7735c-e8f2-444c-aaa1-8c962fbc0d22",
   "metadata": {},
   "source": [
    "Q3. You have a Pandas DataFrame df with a column named 'Values'. Write a Python function that\n",
    "iterates over the DataFrame and calculates the sum of the first three values in the 'Values' column. The\n",
    "function should print the sum to the console.\n",
    "For example, if the 'Values' column of df contains the values [10, 20, 30, 40, 50], your function should\n",
    "calculate and print the sum of the first three values, which is 60."
   ]
  },
  {
   "cell_type": "code",
   "execution_count": 23,
   "id": "0349277d-1e39-4013-9b78-9c8afeef0069",
   "metadata": {},
   "outputs": [
    {
     "name": "stdout",
     "output_type": "stream",
     "text": [
      "60\n"
     ]
    }
   ],
   "source": [
    "#METHOD 1\n",
    "\n",
    "import pandas as pd\n",
    "def sum_first_three(df):\n",
    "    sum=0\n",
    "    for i in range(3):\n",
    "        sum = sum+df['Values'][i]\n",
    "    return sum\n",
    "\n",
    "df = pd.DataFrame({'Values':[10,20,30,40,50]})\n",
    "print(sum_first_three(df))"
   ]
  },
  {
   "cell_type": "code",
   "execution_count": 27,
   "id": "df90b04c-aa4e-4e46-8395-710701468a2e",
   "metadata": {},
   "outputs": [
    {
     "name": "stdout",
     "output_type": "stream",
     "text": [
      "Values    60\n",
      "dtype: int64\n"
     ]
    }
   ],
   "source": [
    "#METHOD 2\n",
    "\n",
    "def sum_of_3(df):\n",
    "    sum = df.iloc[0:3,[0]].sum()\n",
    "    print(sum)\n",
    "\n",
    "\n",
    "df = pd.DataFrame({'Values':[10,20,30,40,50]})\n",
    "sum_of_3(df)"
   ]
  },
  {
   "cell_type": "markdown",
   "id": "58f99f86-7e7c-43ea-a321-d9ee05d716ae",
   "metadata": {},
   "source": [
    "Q4. Given a Pandas DataFrame df with a column 'Text', write a Python function to create a new column\n",
    "'Word_Count' that contains the number of words in each row of the 'Text' column."
   ]
  },
  {
   "cell_type": "code",
   "execution_count": 35,
   "id": "ae40353d-9ff6-4112-8638-a8700fc08696",
   "metadata": {},
   "outputs": [],
   "source": [
    "def add_column(df):\n",
    "    df['Word_Count'] = df['Text'].apply(lambda x :len(x.split()))\n",
    "    return df2\n"
   ]
  },
  {
   "cell_type": "markdown",
   "id": "b2bd280b-df35-4cec-8928-c649914de10e",
   "metadata": {},
   "source": [
    "Q5. How are DataFrame.size() and DataFrame.shape() different?"
   ]
  },
  {
   "cell_type": "raw",
   "id": "9926da6f-7c9a-4e5c-b0a2-40e396d22adc",
   "metadata": {},
   "source": [
    "The DataFrame.size and DataFrame.shape attributes in Pandas are used to provide information about the structure of a DataFrame, but they convey different aspects of this structure.\n",
    "DataFrame.size\n",
    "\n",
    "    Definition: The DataFrame.size attribute returns the total number of elements in the DataFrame.\n",
    "    Calculation: It is the product of the number of rows and the number of columns in the DataFrame.\n",
    "    Type: Returns an integer.\n",
    "\n",
    "DataFrame.shape\n",
    "\n",
    "    Definition: The DataFrame.shape attribute returns a tuple representing the dimensionality of the DataFrame.\n",
    "    Details: The tuple consists of two elements:\n",
    "        The first element is the number of rows.\n",
    "        The second element is the number of columns.\n",
    "    Type: Returns a tuple of two integers."
   ]
  },
  {
   "cell_type": "markdown",
   "id": "11f2e82f-7fdb-43d0-9a5c-ea72dfb78644",
   "metadata": {},
   "source": [
    "Q6. Which function of pandas do we use to read an excel file?"
   ]
  },
  {
   "cell_type": "code",
   "execution_count": 36,
   "id": "599e82d7-2bcc-4865-8a32-30d6c00dd9ba",
   "metadata": {},
   "outputs": [],
   "source": [
    "# # Read an Excel file into a DataFrame\n",
    "# df = pd.read_excel('path_to_your_excel_file.xlsx')\n"
   ]
  },
  {
   "cell_type": "markdown",
   "id": "293f9905-b1e2-4173-b451-e2ae06eae932",
   "metadata": {},
   "source": [
    "Q7. You have a Pandas DataFrame df that contains a column named 'Email' that contains email\n",
    "addresses in the format 'username@domain.com'. Write a Python function that creates a new column\n",
    "'Username' in df that contains only the username part of each email address.\n",
    "\n",
    "The username is the part of the email address that appears before the '@' symbol. For example, if the\n",
    "email address is 'john.doe@example.com', the 'Username' column should contain 'john.doe'. Your\n",
    "function should extract the username from each email address and store it in the new 'Username'\n",
    "column."
   ]
  },
  {
   "cell_type": "code",
   "execution_count": 37,
   "id": "29fd1d48-f2b3-4cdc-962b-452a991de3ce",
   "metadata": {},
   "outputs": [],
   "source": [
    "def add_username_column(df):\n",
    "    # Check if the 'Email' column exists\n",
    "    if 'Email' in df.columns:\n",
    "        # Extract the username part of the email address\n",
    "        df['Username'] = df['Email'].str.split('@').str[0]\n",
    "    else:\n",
    "        print(\"The DataFrame does not have an 'Email' column.\")\n",
    "    return df"
   ]
  },
  {
   "cell_type": "markdown",
   "id": "80bc515a-b93d-434e-8a73-c7f573b28cd1",
   "metadata": {},
   "source": [
    "Q8. You have a Pandas DataFrame df with columns 'A', 'B', and 'C'. Write a Python function that selects\n",
    "all rows where the value in column 'A' is greater than 5 and the value in column 'B' is less than 10. The\n",
    "function should return a new DataFrame that contains only the selected rows.\n",
    "For example, if df contains the following values:\n",
    "A B C\n",
    "0 3 5 1\n",
    "1 8 2 7\n",
    "2 6 9 4\n",
    "3 2 3 5\n",
    "4 9 1 2\n",
    "\n",
    "Assignment\n",
    "\n",
    "Data Science Masters\n",
    "\n",
    "Your function should select the following rows: A B C\n",
    "1 8 2 7\n",
    "4 9 1 2\n",
    "The function should return a new DataFrame that contains only the selected rows."
   ]
  },
  {
   "cell_type": "code",
   "execution_count": 41,
   "id": "ea75ee4f-dc49-46a3-9426-53f919b3a36d",
   "metadata": {},
   "outputs": [
    {
     "name": "stdout",
     "output_type": "stream",
     "text": [
      "   A  B  C\n",
      "1  8  2  7\n",
      "2  6  9  4\n",
      "4  9  1  2\n"
     ]
    }
   ],
   "source": [
    "import pandas as pd\n",
    "\n",
    "def newdf(df):\n",
    "    # Correct the logical condition for filtering the DataFrame\n",
    "    df1 = df[(df['A'] > 5) & (df['B'] < 10)]\n",
    "    return df1\n",
    "\n",
    "# Example DataFrame\n",
    "df = pd.DataFrame({\n",
    "    'A': [3, 8, 6, 2, 9],\n",
    "    'B': [5, 2, 9, 3, 1],\n",
    "    'C': [1, 7, 4, 5, 2]\n",
    "})\n",
    "\n",
    "# Call the function and print the result\n",
    "print(newdf(df))\n"
   ]
  },
  {
   "cell_type": "markdown",
   "id": "9d7ee6ca-bcd8-48c9-b6d2-659c6f0c60ba",
   "metadata": {},
   "source": [
    "Q9. Given a Pandas DataFrame df with a column 'Values', write a Python function to calculate the mean,\n",
    "median, and standard deviation of the values in the 'Values' column."
   ]
  },
  {
   "cell_type": "code",
   "execution_count": 46,
   "id": "4325e214-9482-4041-8057-b9d32254c6da",
   "metadata": {},
   "outputs": [
    {
     "name": "stdout",
     "output_type": "stream",
     "text": [
      "5.6 6.0 3.0495901363953815\n"
     ]
    }
   ],
   "source": [
    "def cal_parameters(df):\n",
    "    mean = df['Values'].mean()\n",
    "    median = df['Values'].median()\n",
    "    sd = df['Values'].std()\n",
    "    print(mean,median,sd)\n",
    "\n",
    "df = pd.DataFrame({\n",
    "    'Values': [3, 8, 6, 2, 9]})\n",
    "cal_parameters(df)"
   ]
  },
  {
   "cell_type": "markdown",
   "id": "53b3cc99-2bec-45f3-bb05-17db51269243",
   "metadata": {},
   "source": [
    "Q10. Given a Pandas DataFrame df with a column 'Sales' and a column 'Date', write a Python function to\n",
    "create a new column 'MovingAverage' that contains the moving average of the sales for the past 7 days\n",
    "for each row in the DataFrame. The moving average should be calculated using a window of size 7 and\n",
    "should include the current day."
   ]
  },
  {
   "cell_type": "code",
   "execution_count": 49,
   "id": "3b8da331-d458-49f5-9a9e-9394924aa028",
   "metadata": {},
   "outputs": [],
   "source": [
    "def moving_avg(df):\n",
    "    df['MovingAverage'] = df['Sales'].rolling(window=7).mean()\n",
    "    return df\n"
   ]
  },
  {
   "cell_type": "markdown",
   "id": "34f24424-a94b-4a25-bd51-b955af71721f",
   "metadata": {},
   "source": [
    "Q11. You have a Pandas DataFrame df with a column 'Date'. Write a Python function that creates a new\n",
    "column 'Weekday' in the DataFrame. The 'Weekday' column should contain the weekday name (e.g.\n",
    "Monday, Tuesday) corresponding to each date in the 'Date' column.\n",
    "For example, if df contains the following values:\n",
    "Date\n",
    "0 2023-01-01\n",
    "1 2023-01-02\n",
    "2 2023-01-03\n",
    "3 2023-01-04\n",
    "4 2023-01-05\n",
    "Your function should create the following DataFrame:\n",
    "\n",
    "Date Weekday\n",
    "0 2023-01-01 Sunday\n",
    "1 2023-01-02 Monday\n",
    "2 2023-01-03 Tuesday\n",
    "3 2023-01-04 Wednesday\n",
    "4 2023-01-05 Thursday\n",
    "The function should return the modified DataFrame."
   ]
  },
  {
   "cell_type": "code",
   "execution_count": 51,
   "id": "e7b92135-b84c-4bc7-b428-2579d1fe7052",
   "metadata": {},
   "outputs": [],
   "source": [
    "def weekdays(df):\n",
    "    df['weekdays'] = df['updated_date'].dt.day_name()\n",
    "    return df"
   ]
  },
  {
   "cell_type": "markdown",
   "id": "d576b8de-29e7-45b7-998a-1c0a5ca0f8fa",
   "metadata": {},
   "source": [
    "Q12. Given a Pandas DataFrame df with a column 'Date' that contains timestamps, write a Python\n",
    "function to select all rows where the date is between '2023-01-01' and '2023-01-31'."
   ]
  },
  {
   "cell_type": "code",
   "execution_count": 52,
   "id": "373d9c5c-2358-4599-97d8-56f04945f846",
   "metadata": {},
   "outputs": [
    {
     "name": "stdout",
     "output_type": "stream",
     "text": [
      "        Date  Value\n",
      "1 2023-01-01     20\n",
      "2 2023-01-15     30\n",
      "3 2023-01-31     40\n"
     ]
    }
   ],
   "source": [
    "import pandas as pd\n",
    "\n",
    "def filter_dates(df):\n",
    "    # Ensure the 'Date' column is in datetime format\n",
    "    df['Date'] = pd.to_datetime(df['Date'])\n",
    "    \n",
    "    # Define the date range\n",
    "    start_date = '2023-01-01'\n",
    "    end_date = '2023-01-31'\n",
    "    \n",
    "    # Filter the DataFrame to include only rows within the date range\n",
    "    filtered_df = df[(df['Date'] >= start_date) & (df['Date'] <= end_date)]\n",
    "    \n",
    "    return filtered_df\n",
    "\n",
    "# Example usage\n",
    "data = {\n",
    "    'Date': [\n",
    "        '2022-12-31', '2023-01-01', '2023-01-15', '2023-01-31', '2023-02-01'\n",
    "    ],\n",
    "    'Value': [10, 20, 30, 40, 50]\n",
    "}\n",
    "\n",
    "df = pd.DataFrame(data)\n",
    "\n",
    "# Apply the function to filter the DataFrame\n",
    "filtered_df = filter_dates(df)\n",
    "\n",
    "print(filtered_df)\n"
   ]
  },
  {
   "cell_type": "markdown",
   "id": "1de70073-6fee-4174-a7d2-a77a2a958ba7",
   "metadata": {},
   "source": [
    "Q13. To use the basic functions of pandas, what is the first and foremost necessary library that needs to\n",
    "be imported?"
   ]
  },
  {
   "cell_type": "code",
   "execution_count": 53,
   "id": "ddf7074a-7381-45c2-be9c-49d7a9bd930a",
   "metadata": {},
   "outputs": [],
   "source": [
    "import pandas as pd"
   ]
  },
  {
   "cell_type": "code",
   "execution_count": null,
   "id": "536d0cff-2681-44fc-b0a2-5c4feeeed290",
   "metadata": {},
   "outputs": [],
   "source": []
  }
 ],
 "metadata": {
  "kernelspec": {
   "display_name": "Python 3 (ipykernel)",
   "language": "python",
   "name": "python3"
  },
  "language_info": {
   "codemirror_mode": {
    "name": "ipython",
    "version": 3
   },
   "file_extension": ".py",
   "mimetype": "text/x-python",
   "name": "python",
   "nbconvert_exporter": "python",
   "pygments_lexer": "ipython3",
   "version": "3.11.7"
  }
 },
 "nbformat": 4,
 "nbformat_minor": 5
}
