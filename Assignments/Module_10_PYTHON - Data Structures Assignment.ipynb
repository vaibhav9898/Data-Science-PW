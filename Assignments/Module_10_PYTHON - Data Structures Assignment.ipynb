{
 "cells": [
  {
   "cell_type": "markdown",
   "id": "d38c20b0-1edd-4d97-9820-12fd5539acf8",
   "metadata": {},
   "source": [
    "Q1. How do you comment code in Python? What are the different types of comments?"
   ]
  },
  {
   "cell_type": "code",
   "execution_count": 1,
   "id": "8a430ee2-7184-4dfa-b587-0858963fa1a1",
   "metadata": {},
   "outputs": [
    {
     "name": "stdout",
     "output_type": "stream",
     "text": [
      "Hello, World!\n",
      "Hello from the function!\n"
     ]
    }
   ],
   "source": [
    "# This is a single-line comment\n",
    "print(\"Hello, World!\")  # This is an inline comment\n",
    "\n",
    "\"\"\"\n",
    "This is a multi-line comment\n",
    "using triple-quoted strings.\n",
    "\"\"\"\n",
    "\n",
    "def example_function():\n",
    "    \"\"\"\n",
    "    This is a docstring.\n",
    "    It explains what the function does.\n",
    "    \"\"\"\n",
    "    # This is another single-line comment inside the function\n",
    "    print(\"Hello from the function!\")\n",
    "\n",
    "# Calling the function\n",
    "example_function()\n"
   ]
  },
  {
   "cell_type": "raw",
   "id": "7a1cfb91-f950-4c9e-8d31-28260be2f1d0",
   "metadata": {},
   "source": [
    "This code snippet demonstrates:\n",
    "\n",
    "    Single-line comments (#).\n",
    "    Multi-line comments using triple-quoted strings (\"\"\").\n",
    "    A docstring in the example_function explaining its purpose.\n",
    "\n"
   ]
  },
  {
   "cell_type": "markdown",
   "id": "d15f83a0-4f16-4b69-aebd-c05cf2e8a127",
   "metadata": {},
   "source": [
    "Q2. What are variables in Python? How do you declare and assign values to variables?"
   ]
  },
  {
   "cell_type": "raw",
   "id": "7456db2e-f12e-4041-9bee-1a7eb2abd957",
   "metadata": {},
   "source": [
    "Variables in Python\n",
    "\n",
    "Variables in Python are used to store data values. They are essentially symbolic names that reference or point to objects in memory. Variables are dynamic, meaning you don’t need to declare them before using them, and their types are determined by the type of the object they are assigned to."
   ]
  },
  {
   "cell_type": "raw",
   "id": "9254ff63-8f2e-4ead-b0b7-cbe51a655e66",
   "metadata": {},
   "source": [
    "#variable_name = value\n",
    "# Declaring and assigning values to variables\n",
    "x = 10               # Integer\n",
    "y = 3.14             # Float\n",
    "name = \"Alice\"       # String\n",
    "is_student = True    # Boolean\n"
   ]
  },
  {
   "cell_type": "markdown",
   "id": "24d88a77-579d-468f-939c-0eabe1e739ae",
   "metadata": {},
   "source": [
    "Q3. How do you convert one data type to another in Python?"
   ]
  },
  {
   "cell_type": "code",
   "execution_count": 10,
   "id": "78b6da2e-c27e-47e2-af0a-663257b1700d",
   "metadata": {},
   "outputs": [
    {
     "name": "stdout",
     "output_type": "stream",
     "text": [
      "200.0\n",
      "<class 'float'>\n",
      "È\n",
      "<class 'str'>\n"
     ]
    }
   ],
   "source": [
    "a=200\n",
    "#now we convert that above int to float and char\n",
    "b=float(a)\n",
    "print(b)\n",
    "print(type(b))\n",
    "c=chr(a)\n",
    "print(c)\n",
    "print(type(c))"
   ]
  },
  {
   "cell_type": "code",
   "execution_count": 11,
   "id": "03cfc74a-398e-4a3a-9ad2-072e4a95749a",
   "metadata": {},
   "outputs": [
    {
     "name": "stdout",
     "output_type": "stream",
     "text": [
      "200.0\n",
      "<class 'float'>\n",
      "200\n",
      "<class 'int'>\n"
     ]
    }
   ],
   "source": [
    "a='b'\n",
    "a=200\n",
    "#now we convert that above char to int and float\n",
    "b=float(a)\n",
    "print(b)\n",
    "print(type(b))\n",
    "c=int(a)\n",
    "print(c)\n",
    "print(type(c))"
   ]
  },
  {
   "cell_type": "markdown",
   "id": "f70b37f4-9512-4f8a-bd80-cb2178e9316e",
   "metadata": {},
   "source": [
    "Q4. How do you write and execute a Python script from the command line?"
   ]
  },
  {
   "cell_type": "markdown",
   "id": "f5809220-916b-43a8-90ca-a0d3a7154069",
   "metadata": {},
   "source": [
    "To write and execute a Python script from the command line,\n",
    "follow these short steps:\n",
    "\n",
    "### 1. Write the Python Script\n",
    "- **Create a script**: Use a text editor to write your Python code.\n",
    "- **Save the file**: Save the script with a `.py` extension (e.g., `script.py`).\n",
    "\n",
    "### 2. Open the Command Line Interface\n",
    "- **Windows**: Open Command Prompt (`cmd`).\n",
    "- **macOS/Linux**: Open Terminal.\n",
    "\n",
    "### 3. Navigate to the Script Directory\n",
    "- Use the `cd` command to change to the directory where the script is saved.\n",
    "  ```sh\n",
    "  cd path/to/your/script\n",
    "  ```\n",
    "\n",
    "### 4. Execute the Python Script\n",
    "- Run the script using the `python` or `python3` command followed by the script's filename.\n",
    "  ```sh\n",
    "  python script.py\n",
    "  ```\n",
    "\n",
    "This process involves writing the script, navigating to its location via the command line, and executing it using Python."
   ]
  },
  {
   "cell_type": "markdown",
   "id": "bcd9fd0a-6b79-4b39-8a90-c054bdddab6d",
   "metadata": {},
   "source": [
    "Q5. Given a list my_list = [1, 2, 3, 4, 5], write the code to slice the list and obtain the sub-list [2, 3]."
   ]
  },
  {
   "cell_type": "code",
   "execution_count": 15,
   "id": "80f21374-bca3-4dc8-8e13-cda20a16c872",
   "metadata": {},
   "outputs": [
    {
     "name": "stdout",
     "output_type": "stream",
     "text": [
      "[2, 3]\n"
     ]
    }
   ],
   "source": [
    "my_list = [1, 2, 3, 4, 5]\n",
    "print(my_list[1:3])"
   ]
  },
  {
   "cell_type": "markdown",
   "id": "e5325498-44fb-4e0a-a3da-84c6d39ca97b",
   "metadata": {},
   "source": [
    "Q6. What is a complex number in mathematics, and how is it represented in Python?"
   ]
  },
  {
   "cell_type": "raw",
   "id": "ce774660-b418-4f41-8d54-843b51c5b13f",
   "metadata": {},
   "source": [
    "Complex number is the combined form of real and imaginary number which contains both terms. Eg 2+3j where 2 is real and 3 is imaginary\n"
   ]
  },
  {
   "cell_type": "code",
   "execution_count": 19,
   "id": "f0da8db4-fd7a-40c6-8f13-bdb33c52e640",
   "metadata": {},
   "outputs": [
    {
     "name": "stdout",
     "output_type": "stream",
     "text": [
      "2.0\n",
      "3.0\n"
     ]
    }
   ],
   "source": [
    "a=2+3j\n",
    "print(a.real)\n",
    "print(a.imag)"
   ]
  },
  {
   "cell_type": "markdown",
   "id": "3c9e9f1d-1906-4173-95d3-6e54b1df5ee6",
   "metadata": {},
   "source": [
    "Q7. What is the correct way to declare a variable named age and assign the value 25 to it?"
   ]
  },
  {
   "cell_type": "raw",
   "id": "1d037ce1-7f75-4d6a-a4f2-398c4f53993f",
   "metadata": {},
   "source": [
    "The correct way to declare a variable named `age` and assign the value `25` to it in Python is as follows:\n",
    "\n",
    "```python\n",
    "age = 25\n",
    "```\n",
    "\n",
    "This line of code does the following:\n",
    "1. **Declares the variable `age`**: In Python, variables are declared by simply assigning a value to a name.\n",
    "2. **Assigns the value `25` to `age`**: The assignment operator `=` is used to assign the value on the right to the variable on the left.\n",
    "\n",
    "### Example Usage\n",
    "\n",
    "```python\n",
    "# Declaring the variable age and assigning the value 25 to it\n",
    "age = 25\n",
    "\n",
    "# Printing the value of age\n",
    "print(age)  # Output: 25\n",
    "```\n",
    "\n",
    "In this example, `age` is a variable that now holds the integer value `25`."
   ]
  },
  {
   "cell_type": "markdown",
   "id": "5509a7fe-a79a-4433-80dd-64dbd850f979",
   "metadata": {},
   "source": [
    "Q8. Declare a variable named price and assign the value 9.99 to it. What data type does this variable\n",
    "belong to?"
   ]
  },
  {
   "cell_type": "code",
   "execution_count": 20,
   "id": "67255be8-4fca-489d-91d5-4c461bcfb587",
   "metadata": {},
   "outputs": [
    {
     "data": {
      "text/plain": [
       "float"
      ]
     },
     "execution_count": 20,
     "metadata": {},
     "output_type": "execute_result"
    }
   ],
   "source": [
    "a=9.99\n",
    "type(a)"
   ]
  },
  {
   "cell_type": "markdown",
   "id": "0e0c2a7a-d675-4c18-9d79-feb401c17496",
   "metadata": {},
   "source": [
    "Q9. Create a variable named name and assign your full name to it as a string. How would you print the\n",
    "value of this variable?"
   ]
  },
  {
   "cell_type": "code",
   "execution_count": 21,
   "id": "2649832f-1bfd-4260-8b77-1ea7cbfe6e14",
   "metadata": {},
   "outputs": [
    {
     "name": "stdout",
     "output_type": "stream",
     "text": [
      "Vaibhav Sharma\n"
     ]
    }
   ],
   "source": [
    "name='Vaibhav Sharma'\n",
    "print(name)\n"
   ]
  },
  {
   "cell_type": "raw",
   "id": "4468f76b-3189-464b-baa2-672315012c5b",
   "metadata": {},
   "source": [
    "Q10. Given the string \"Hello, World!\", extract the substring \"World\"."
   ]
  },
  {
   "cell_type": "code",
   "execution_count": 22,
   "id": "adeb5c4a-1a62-48e0-bdf7-22d12a95b226",
   "metadata": {},
   "outputs": [
    {
     "name": "stdout",
     "output_type": "stream",
     "text": [
      "World\n"
     ]
    }
   ],
   "source": [
    "# Given string\n",
    "text = \"Hello, World!\"\n",
    "\n",
    "# Extracting the substring \"World\"\n",
    "substring = text[7:12]\n",
    "\n",
    "# Printing the result\n",
    "print(substring)  # Output: World\n"
   ]
  },
  {
   "cell_type": "markdown",
   "id": "e048e256-56df-4317-ad94-e73c8b42492f",
   "metadata": {},
   "source": [
    "Q11. Create a variable named \"is_student\" and assign it a boolean value indicating whether you are\n",
    "currently a student or not."
   ]
  },
  {
   "cell_type": "code",
   "execution_count": 23,
   "id": "e8cb3a2b-1a1e-4e25-9264-60ac160c8445",
   "metadata": {},
   "outputs": [
    {
     "name": "stdout",
     "output_type": "stream",
     "text": [
      "True\n"
     ]
    }
   ],
   "source": [
    "# Assigning a boolean value to the variable is_student\n",
    "is_student = True\n",
    "\n",
    "# Printing the value of the variable\n",
    "print(is_student)\n"
   ]
  },
  {
   "cell_type": "code",
   "execution_count": null,
   "id": "ecdd206e-ac96-42a5-8e12-9c49d32eccd1",
   "metadata": {},
   "outputs": [],
   "source": []
  }
 ],
 "metadata": {
  "kernelspec": {
   "display_name": "Python 3 (ipykernel)",
   "language": "python",
   "name": "python3"
  },
  "language_info": {
   "codemirror_mode": {
    "name": "ipython",
    "version": 3
   },
   "file_extension": ".py",
   "mimetype": "text/x-python",
   "name": "python",
   "nbconvert_exporter": "python",
   "pygments_lexer": "ipython3",
   "version": "3.11.7"
  }
 },
 "nbformat": 4,
 "nbformat_minor": 5
}
