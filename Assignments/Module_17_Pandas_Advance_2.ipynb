{
 "cells": [
  {
   "cell_type": "code",
   "execution_count": 2,
   "id": "5bcd8709-a1db-4059-bd48-e3e5be509628",
   "metadata": {},
   "outputs": [],
   "source": [
    "import pandas as pd\n",
    "course_name = ['Data Science', 'Machine Learning', 'Big Data', 'Data Engineer']\n",
    "duration = [2,3,6,4]\n",
    "df = pd.DataFrame(data = {'course_name' : course_name, 'duration' : duration})"
   ]
  },
  {
   "cell_type": "code",
   "execution_count": 3,
   "id": "d12796e4-e4a8-45fa-9f30-e778262b4ba8",
   "metadata": {},
   "outputs": [
    {
     "data": {
      "text/html": [
       "<div>\n",
       "<style scoped>\n",
       "    .dataframe tbody tr th:only-of-type {\n",
       "        vertical-align: middle;\n",
       "    }\n",
       "\n",
       "    .dataframe tbody tr th {\n",
       "        vertical-align: top;\n",
       "    }\n",
       "\n",
       "    .dataframe thead th {\n",
       "        text-align: right;\n",
       "    }\n",
       "</style>\n",
       "<table border=\"1\" class=\"dataframe\">\n",
       "  <thead>\n",
       "    <tr style=\"text-align: right;\">\n",
       "      <th></th>\n",
       "      <th>course_name</th>\n",
       "      <th>duration</th>\n",
       "    </tr>\n",
       "  </thead>\n",
       "  <tbody>\n",
       "    <tr>\n",
       "      <th>0</th>\n",
       "      <td>Data Science</td>\n",
       "      <td>2</td>\n",
       "    </tr>\n",
       "    <tr>\n",
       "      <th>1</th>\n",
       "      <td>Machine Learning</td>\n",
       "      <td>3</td>\n",
       "    </tr>\n",
       "    <tr>\n",
       "      <th>2</th>\n",
       "      <td>Big Data</td>\n",
       "      <td>6</td>\n",
       "    </tr>\n",
       "    <tr>\n",
       "      <th>3</th>\n",
       "      <td>Data Engineer</td>\n",
       "      <td>4</td>\n",
       "    </tr>\n",
       "  </tbody>\n",
       "</table>\n",
       "</div>"
      ],
      "text/plain": [
       "        course_name  duration\n",
       "0      Data Science         2\n",
       "1  Machine Learning         3\n",
       "2          Big Data         6\n",
       "3     Data Engineer         4"
      ]
     },
     "execution_count": 3,
     "metadata": {},
     "output_type": "execute_result"
    }
   ],
   "source": [
    "df"
   ]
  },
  {
   "cell_type": "markdown",
   "id": "144935f8-fa96-46f6-bfd3-2e4e18ca6ef7",
   "metadata": {},
   "source": [
    "Q1. Write a code to print the data present in the second row of the dataframe, df."
   ]
  },
  {
   "cell_type": "code",
   "execution_count": 8,
   "id": "3025cef4-d676-4ef4-8b0f-0d089f4d25f4",
   "metadata": {},
   "outputs": [
    {
     "data": {
      "text/html": [
       "<div>\n",
       "<style scoped>\n",
       "    .dataframe tbody tr th:only-of-type {\n",
       "        vertical-align: middle;\n",
       "    }\n",
       "\n",
       "    .dataframe tbody tr th {\n",
       "        vertical-align: top;\n",
       "    }\n",
       "\n",
       "    .dataframe thead th {\n",
       "        text-align: right;\n",
       "    }\n",
       "</style>\n",
       "<table border=\"1\" class=\"dataframe\">\n",
       "  <thead>\n",
       "    <tr style=\"text-align: right;\">\n",
       "      <th></th>\n",
       "      <th>course_name</th>\n",
       "      <th>duration</th>\n",
       "    </tr>\n",
       "  </thead>\n",
       "  <tbody>\n",
       "    <tr>\n",
       "      <th>1</th>\n",
       "      <td>Machine Learning</td>\n",
       "      <td>3</td>\n",
       "    </tr>\n",
       "  </tbody>\n",
       "</table>\n",
       "</div>"
      ],
      "text/plain": [
       "        course_name  duration\n",
       "1  Machine Learning         3"
      ]
     },
     "execution_count": 8,
     "metadata": {},
     "output_type": "execute_result"
    }
   ],
   "source": [
    "df.iloc[1:2]"
   ]
  },
  {
   "cell_type": "markdown",
   "id": "ddb5006f-9f03-433d-8532-4856e840e963",
   "metadata": {},
   "source": [
    "Q2. What is the difference between the functions loc and iloc in pandas.DataFrame?"
   ]
  },
  {
   "cell_type": "code",
   "execution_count": 9,
   "id": "2d0bf441-ec53-4e5d-894b-ef6fd62a4301",
   "metadata": {},
   "outputs": [
    {
     "name": "stdout",
     "output_type": "stream",
     "text": [
      "DataFrame:\n",
      "      A  B\n",
      "row1  1  a\n",
      "row2  2  b\n",
      "row3  3  c\n",
      "row4  4  d\n",
      "row5  5  e\n"
     ]
    }
   ],
   "source": [
    "import pandas as pd\n",
    "\n",
    "# Sample DataFrame\n",
    "df = pd.DataFrame({\n",
    "    'A': [1, 2, 3, 4, 5],\n",
    "    'B': ['a', 'b', 'c', 'd', 'e']\n",
    "}, index=['row1', 'row2', 'row3', 'row4', 'row5'])\n",
    "\n",
    "print(\"DataFrame:\")\n",
    "print(df)\n"
   ]
  },
  {
   "cell_type": "code",
   "execution_count": 10,
   "id": "6d090347-89ac-4b6e-b20c-431629337b5e",
   "metadata": {},
   "outputs": [
    {
     "name": "stdout",
     "output_type": "stream",
     "text": [
      "Using loc:\n",
      "2\n",
      "row2    b\n",
      "row3    c\n",
      "row4    d\n",
      "Name: B, dtype: object\n"
     ]
    }
   ],
   "source": [
    "# Accessing row with label 'row2' and column with label 'A'\n",
    "print(\"Using loc:\")\n",
    "print(df.loc['row2', 'A'])  # Output: 2\n",
    "\n",
    "# Slicing rows from 'row2' to 'row4' (inclusive) and column 'B'\n",
    "print(df.loc['row2':'row4', 'B'])\n"
   ]
  },
  {
   "cell_type": "code",
   "execution_count": 11,
   "id": "4a83d841-bbe1-47ba-a6b4-0b676f05184f",
   "metadata": {},
   "outputs": [
    {
     "name": "stdout",
     "output_type": "stream",
     "text": [
      "Using iloc:\n",
      "2\n",
      "row2    b\n",
      "row3    c\n",
      "row4    d\n",
      "Name: B, dtype: object\n"
     ]
    }
   ],
   "source": [
    "# Accessing row at integer index 1 and column at integer index 0\n",
    "print(\"Using iloc:\")\n",
    "print(df.iloc[1, 0])  # Output: 2\n",
    "\n",
    "# Slicing rows from integer index 1 to 3 (exclusive) and column at integer index 1\n",
    "print(df.iloc[1:4, 1])\n"
   ]
  },
  {
   "cell_type": "markdown",
   "id": "e5ba4ab7-e497-4597-892e-3c98d27df0b4",
   "metadata": {},
   "source": [
    "Q3. Reindex the given dataframe using a variable, reindex = [3,0,1,2] and store it in the variable, new_df\n",
    "then find the output for both new_df.loc[2] and new_df.iloc[2]."
   ]
  },
  {
   "cell_type": "code",
   "execution_count": 15,
   "id": "2cf4cd17-9b3f-4924-91af-2ef97019d813",
   "metadata": {},
   "outputs": [
    {
     "data": {
      "text/html": [
       "<div>\n",
       "<style scoped>\n",
       "    .dataframe tbody tr th:only-of-type {\n",
       "        vertical-align: middle;\n",
       "    }\n",
       "\n",
       "    .dataframe tbody tr th {\n",
       "        vertical-align: top;\n",
       "    }\n",
       "\n",
       "    .dataframe thead th {\n",
       "        text-align: right;\n",
       "    }\n",
       "</style>\n",
       "<table border=\"1\" class=\"dataframe\">\n",
       "  <thead>\n",
       "    <tr style=\"text-align: right;\">\n",
       "      <th></th>\n",
       "      <th>course_name</th>\n",
       "      <th>duration</th>\n",
       "    </tr>\n",
       "  </thead>\n",
       "  <tbody>\n",
       "    <tr>\n",
       "      <th>0</th>\n",
       "      <td>Data Science</td>\n",
       "      <td>2</td>\n",
       "    </tr>\n",
       "    <tr>\n",
       "      <th>1</th>\n",
       "      <td>Machine Learning</td>\n",
       "      <td>3</td>\n",
       "    </tr>\n",
       "    <tr>\n",
       "      <th>2</th>\n",
       "      <td>Big Data</td>\n",
       "      <td>6</td>\n",
       "    </tr>\n",
       "    <tr>\n",
       "      <th>3</th>\n",
       "      <td>Data Engineer</td>\n",
       "      <td>4</td>\n",
       "    </tr>\n",
       "  </tbody>\n",
       "</table>\n",
       "</div>"
      ],
      "text/plain": [
       "        course_name  duration\n",
       "0      Data Science         2\n",
       "1  Machine Learning         3\n",
       "2          Big Data         6\n",
       "3     Data Engineer         4"
      ]
     },
     "execution_count": 15,
     "metadata": {},
     "output_type": "execute_result"
    }
   ],
   "source": [
    "import pandas as pd\n",
    "course_name = ['Data Science', 'Machine Learning', 'Big Data', 'Data Engineer']\n",
    "duration = [2,3,6,4]\n",
    "df = pd.DataFrame(data = {'course_name' : course_name, 'duration' : duration})\n",
    "df"
   ]
  },
  {
   "cell_type": "code",
   "execution_count": 14,
   "id": "eb6a9437-3a39-4b59-8877-278c51cf68ca",
   "metadata": {},
   "outputs": [
    {
     "data": {
      "text/html": [
       "<div>\n",
       "<style scoped>\n",
       "    .dataframe tbody tr th:only-of-type {\n",
       "        vertical-align: middle;\n",
       "    }\n",
       "\n",
       "    .dataframe tbody tr th {\n",
       "        vertical-align: top;\n",
       "    }\n",
       "\n",
       "    .dataframe thead th {\n",
       "        text-align: right;\n",
       "    }\n",
       "</style>\n",
       "<table border=\"1\" class=\"dataframe\">\n",
       "  <thead>\n",
       "    <tr style=\"text-align: right;\">\n",
       "      <th></th>\n",
       "      <th>course_name</th>\n",
       "      <th>duration</th>\n",
       "    </tr>\n",
       "  </thead>\n",
       "  <tbody>\n",
       "    <tr>\n",
       "      <th>3</th>\n",
       "      <td>Data Engineer</td>\n",
       "      <td>4</td>\n",
       "    </tr>\n",
       "    <tr>\n",
       "      <th>0</th>\n",
       "      <td>Data Science</td>\n",
       "      <td>2</td>\n",
       "    </tr>\n",
       "    <tr>\n",
       "      <th>1</th>\n",
       "      <td>Machine Learning</td>\n",
       "      <td>3</td>\n",
       "    </tr>\n",
       "    <tr>\n",
       "      <th>2</th>\n",
       "      <td>Big Data</td>\n",
       "      <td>6</td>\n",
       "    </tr>\n",
       "  </tbody>\n",
       "</table>\n",
       "</div>"
      ],
      "text/plain": [
       "        course_name  duration\n",
       "3     Data Engineer         4\n",
       "0      Data Science         2\n",
       "1  Machine Learning         3\n",
       "2          Big Data         6"
      ]
     },
     "execution_count": 14,
     "metadata": {},
     "output_type": "execute_result"
    }
   ],
   "source": [
    "reindex = [3,0,1,2]\n",
    "new_df = df.reindex(reindex)\n",
    "new_df"
   ]
  },
  {
   "cell_type": "code",
   "execution_count": 16,
   "id": "3335d4c5-c52f-4ad5-9f54-6be685300eac",
   "metadata": {},
   "outputs": [
    {
     "data": {
      "text/plain": [
       "course_name    Big Data\n",
       "duration              6\n",
       "Name: 2, dtype: object"
      ]
     },
     "execution_count": 16,
     "metadata": {},
     "output_type": "execute_result"
    }
   ],
   "source": [
    "new_df.loc[2]"
   ]
  },
  {
   "cell_type": "code",
   "execution_count": 17,
   "id": "0f542b3f-ef71-40e5-ba21-e90f459f3781",
   "metadata": {},
   "outputs": [
    {
     "data": {
      "text/plain": [
       "course_name    Machine Learning\n",
       "duration                      3\n",
       "Name: 1, dtype: object"
      ]
     },
     "execution_count": 17,
     "metadata": {},
     "output_type": "execute_result"
    }
   ],
   "source": [
    "new_df.iloc[2]"
   ]
  },
  {
   "cell_type": "raw",
   "id": "5f86d71e-d3d6-438a-8d0b-9a0efc487c4b",
   "metadata": {},
   "source": [
    "Did you observe any difference in both the outputs? If so then explain it."
   ]
  },
  {
   "cell_type": "raw",
   "id": "fc371378-26d2-4574-a3fc-193c9e599046",
   "metadata": {},
   "source": [
    "Yes we observed the difference when we used both functions. iloc searched for row with index 2 which is independent of reindexed \n",
    "dataframe so as we can see Machine Learning was present on index 2 which as ingeneral indexing. But when we used function loc it \n",
    "searched for index 2 at which data was kept before reindexing so at index 2 Big Data was kept earlier So same data is printed here."
   ]
  },
  {
   "cell_type": "code",
   "execution_count": 28,
   "id": "5b14fe6d-230e-4dc8-acda-4a5d43e6f1fd",
   "metadata": {},
   "outputs": [],
   "source": [
    "import pandas as pd\n",
    "import numpy as np\n",
    "columns = ['column_1', 'column_2', 'column_3', 'column_4', 'column_5', 'column_6']\n",
    "indices = [1,2,3,4,5,6]\n",
    "#Creating a dataframe:\n",
    "df1 = pd.DataFrame(np.random.rand(6,6), columns = columns, index = indices)"
   ]
  },
  {
   "cell_type": "code",
   "execution_count": 29,
   "id": "a1172182-b67c-4b84-86f6-3577883c050c",
   "metadata": {},
   "outputs": [
    {
     "data": {
      "text/html": [
       "<div>\n",
       "<style scoped>\n",
       "    .dataframe tbody tr th:only-of-type {\n",
       "        vertical-align: middle;\n",
       "    }\n",
       "\n",
       "    .dataframe tbody tr th {\n",
       "        vertical-align: top;\n",
       "    }\n",
       "\n",
       "    .dataframe thead th {\n",
       "        text-align: right;\n",
       "    }\n",
       "</style>\n",
       "<table border=\"1\" class=\"dataframe\">\n",
       "  <thead>\n",
       "    <tr style=\"text-align: right;\">\n",
       "      <th></th>\n",
       "      <th>column_1</th>\n",
       "      <th>column_2</th>\n",
       "      <th>column_3</th>\n",
       "      <th>column_4</th>\n",
       "      <th>column_5</th>\n",
       "      <th>column_6</th>\n",
       "    </tr>\n",
       "  </thead>\n",
       "  <tbody>\n",
       "    <tr>\n",
       "      <th>1</th>\n",
       "      <td>0.293729</td>\n",
       "      <td>0.864060</td>\n",
       "      <td>0.847808</td>\n",
       "      <td>0.124050</td>\n",
       "      <td>0.714946</td>\n",
       "      <td>0.954519</td>\n",
       "    </tr>\n",
       "    <tr>\n",
       "      <th>2</th>\n",
       "      <td>0.840673</td>\n",
       "      <td>0.342423</td>\n",
       "      <td>0.121227</td>\n",
       "      <td>0.670888</td>\n",
       "      <td>0.151412</td>\n",
       "      <td>0.144949</td>\n",
       "    </tr>\n",
       "    <tr>\n",
       "      <th>3</th>\n",
       "      <td>0.330353</td>\n",
       "      <td>0.284511</td>\n",
       "      <td>0.529841</td>\n",
       "      <td>0.630237</td>\n",
       "      <td>0.687659</td>\n",
       "      <td>0.189910</td>\n",
       "    </tr>\n",
       "    <tr>\n",
       "      <th>4</th>\n",
       "      <td>0.637291</td>\n",
       "      <td>0.673297</td>\n",
       "      <td>0.679171</td>\n",
       "      <td>0.419081</td>\n",
       "      <td>0.530736</td>\n",
       "      <td>0.558596</td>\n",
       "    </tr>\n",
       "    <tr>\n",
       "      <th>5</th>\n",
       "      <td>0.498513</td>\n",
       "      <td>0.023029</td>\n",
       "      <td>0.230714</td>\n",
       "      <td>0.808445</td>\n",
       "      <td>0.881249</td>\n",
       "      <td>0.724140</td>\n",
       "    </tr>\n",
       "    <tr>\n",
       "      <th>6</th>\n",
       "      <td>0.224458</td>\n",
       "      <td>0.141986</td>\n",
       "      <td>0.342424</td>\n",
       "      <td>0.362693</td>\n",
       "      <td>0.356968</td>\n",
       "      <td>0.987638</td>\n",
       "    </tr>\n",
       "  </tbody>\n",
       "</table>\n",
       "</div>"
      ],
      "text/plain": [
       "   column_1  column_2  column_3  column_4  column_5  column_6\n",
       "1  0.293729  0.864060  0.847808  0.124050  0.714946  0.954519\n",
       "2  0.840673  0.342423  0.121227  0.670888  0.151412  0.144949\n",
       "3  0.330353  0.284511  0.529841  0.630237  0.687659  0.189910\n",
       "4  0.637291  0.673297  0.679171  0.419081  0.530736  0.558596\n",
       "5  0.498513  0.023029  0.230714  0.808445  0.881249  0.724140\n",
       "6  0.224458  0.141986  0.342424  0.362693  0.356968  0.987638"
      ]
     },
     "execution_count": 29,
     "metadata": {},
     "output_type": "execute_result"
    }
   ],
   "source": [
    "df1"
   ]
  },
  {
   "cell_type": "markdown",
   "id": "3bc2dc7f-c27c-4ca8-9afd-641262ec7ab0",
   "metadata": {},
   "source": [
    "Q4. Write a code to find the following statistical measurements for the above dataframe df1:\n",
    "(i) mean of each and every column present in the dataframe.\n",
    "(ii) standard deviation of column, ‘column_2’"
   ]
  },
  {
   "cell_type": "code",
   "execution_count": 30,
   "id": "9565a2f6-ae5a-403a-bc02-03d8a14a7ef4",
   "metadata": {},
   "outputs": [
    {
     "name": "stdout",
     "output_type": "stream",
     "text": [
      "Mean of Column_1 =  0.47083619865726845\n"
     ]
    }
   ],
   "source": [
    "print(\"Mean of Column_1 = \", df1['column_1'].mean())"
   ]
  },
  {
   "cell_type": "code",
   "execution_count": 31,
   "id": "be5032d3-ad09-45fa-af93-b1cedd795206",
   "metadata": {},
   "outputs": [
    {
     "name": "stdout",
     "output_type": "stream",
     "text": [
      "Mean of Column_2 =  0.38821766815948067\n"
     ]
    }
   ],
   "source": [
    "print(\"Mean of Column_2 = \", df1['column_2'].mean())"
   ]
  },
  {
   "cell_type": "code",
   "execution_count": 32,
   "id": "683378c8-7bfa-4c05-b8e8-d6fb4c224a3e",
   "metadata": {},
   "outputs": [
    {
     "name": "stdout",
     "output_type": "stream",
     "text": [
      "Mean of Column_3 =  0.45853075964472473\n"
     ]
    }
   ],
   "source": [
    "print(\"Mean of Column_3 = \", df1['column_3'].mean())"
   ]
  },
  {
   "cell_type": "code",
   "execution_count": 33,
   "id": "0bbb3ec4-f5ec-4a70-98aa-1a5ef1d3bbc8",
   "metadata": {},
   "outputs": [
    {
     "name": "stdout",
     "output_type": "stream",
     "text": [
      "Mean of Column_4 =  0.5025658009557\n"
     ]
    }
   ],
   "source": [
    "print(\"Mean of Column_4 = \", df1['column_4'].mean())"
   ]
  },
  {
   "cell_type": "code",
   "execution_count": 34,
   "id": "177444d1-8e1a-4236-b7b0-4cb13666d0d3",
   "metadata": {},
   "outputs": [
    {
     "name": "stdout",
     "output_type": "stream",
     "text": [
      "Mean of Column_5 =  0.5538282165652503\n"
     ]
    }
   ],
   "source": [
    "print(\"Mean of Column_5 = \", df1['column_5'].mean())"
   ]
  },
  {
   "cell_type": "code",
   "execution_count": 35,
   "id": "f4ea89e2-d489-40db-bbe5-4d8df9d9084d",
   "metadata": {},
   "outputs": [
    {
     "name": "stdout",
     "output_type": "stream",
     "text": [
      "Standard Deviation of Column_2 =  0.3207933641376713\n"
     ]
    }
   ],
   "source": [
    "print(\"Standard Deviation of Column_2 = \", df1['column_2'].std())"
   ]
  },
  {
   "cell_type": "markdown",
   "id": "a14d6880-f338-4290-a75c-05453c748229",
   "metadata": {},
   "source": [
    "Q5. Replace the data present in the second row of column, ‘column_2’ by a string variable then find the\n",
    "mean of column, column_2.\n",
    "If you are getting errors in executing it then explain why.\n",
    "[Hint: To replace the data use df1.loc[] and equate this to string data of your choice.]"
   ]
  },
  {
   "cell_type": "code",
   "execution_count": 36,
   "id": "0b0647b4-a489-4eb3-86c9-81fbef742cc7",
   "metadata": {},
   "outputs": [
    {
     "data": {
      "text/html": [
       "<div>\n",
       "<style scoped>\n",
       "    .dataframe tbody tr th:only-of-type {\n",
       "        vertical-align: middle;\n",
       "    }\n",
       "\n",
       "    .dataframe tbody tr th {\n",
       "        vertical-align: top;\n",
       "    }\n",
       "\n",
       "    .dataframe thead th {\n",
       "        text-align: right;\n",
       "    }\n",
       "</style>\n",
       "<table border=\"1\" class=\"dataframe\">\n",
       "  <thead>\n",
       "    <tr style=\"text-align: right;\">\n",
       "      <th></th>\n",
       "      <th>column_1</th>\n",
       "      <th>column_2</th>\n",
       "      <th>column_3</th>\n",
       "      <th>column_4</th>\n",
       "      <th>column_5</th>\n",
       "      <th>column_6</th>\n",
       "    </tr>\n",
       "  </thead>\n",
       "  <tbody>\n",
       "    <tr>\n",
       "      <th>1</th>\n",
       "      <td>0.293729</td>\n",
       "      <td>0.864060</td>\n",
       "      <td>0.847808</td>\n",
       "      <td>0.124050</td>\n",
       "      <td>0.714946</td>\n",
       "      <td>0.954519</td>\n",
       "    </tr>\n",
       "    <tr>\n",
       "      <th>2</th>\n",
       "      <td>0.840673</td>\n",
       "      <td>0.342423</td>\n",
       "      <td>0.121227</td>\n",
       "      <td>0.670888</td>\n",
       "      <td>0.151412</td>\n",
       "      <td>0.144949</td>\n",
       "    </tr>\n",
       "    <tr>\n",
       "      <th>3</th>\n",
       "      <td>0.330353</td>\n",
       "      <td>0.284511</td>\n",
       "      <td>0.529841</td>\n",
       "      <td>0.630237</td>\n",
       "      <td>0.687659</td>\n",
       "      <td>0.189910</td>\n",
       "    </tr>\n",
       "    <tr>\n",
       "      <th>4</th>\n",
       "      <td>0.637291</td>\n",
       "      <td>0.673297</td>\n",
       "      <td>0.679171</td>\n",
       "      <td>0.419081</td>\n",
       "      <td>0.530736</td>\n",
       "      <td>0.558596</td>\n",
       "    </tr>\n",
       "    <tr>\n",
       "      <th>5</th>\n",
       "      <td>0.498513</td>\n",
       "      <td>0.023029</td>\n",
       "      <td>0.230714</td>\n",
       "      <td>0.808445</td>\n",
       "      <td>0.881249</td>\n",
       "      <td>0.724140</td>\n",
       "    </tr>\n",
       "    <tr>\n",
       "      <th>6</th>\n",
       "      <td>0.224458</td>\n",
       "      <td>0.141986</td>\n",
       "      <td>0.342424</td>\n",
       "      <td>0.362693</td>\n",
       "      <td>0.356968</td>\n",
       "      <td>0.987638</td>\n",
       "    </tr>\n",
       "  </tbody>\n",
       "</table>\n",
       "</div>"
      ],
      "text/plain": [
       "   column_1  column_2  column_3  column_4  column_5  column_6\n",
       "1  0.293729  0.864060  0.847808  0.124050  0.714946  0.954519\n",
       "2  0.840673  0.342423  0.121227  0.670888  0.151412  0.144949\n",
       "3  0.330353  0.284511  0.529841  0.630237  0.687659  0.189910\n",
       "4  0.637291  0.673297  0.679171  0.419081  0.530736  0.558596\n",
       "5  0.498513  0.023029  0.230714  0.808445  0.881249  0.724140\n",
       "6  0.224458  0.141986  0.342424  0.362693  0.356968  0.987638"
      ]
     },
     "execution_count": 36,
     "metadata": {},
     "output_type": "execute_result"
    }
   ],
   "source": [
    "df1"
   ]
  },
  {
   "cell_type": "code",
   "execution_count": 41,
   "id": "a66f3d5d-9a6d-4a49-94f5-78a3138385cf",
   "metadata": {},
   "outputs": [
    {
     "name": "stderr",
     "output_type": "stream",
     "text": [
      "/tmp/ipykernel_32264/2132310772.py:1: FutureWarning: Setting an item of incompatible dtype is deprecated and will raise an error in a future version of pandas. Value '0.3424230402772145' has dtype incompatible with float64, please explicitly cast to a compatible dtype first.\n",
      "  df1.loc[2,'column_2']=str(df1.loc[2,'column_2'])\n"
     ]
    }
   ],
   "source": [
    "df1.loc[2,'column_2']=str(df1.loc[2,'column_2'])"
   ]
  },
  {
   "cell_type": "code",
   "execution_count": 42,
   "id": "0af7aedb-f58c-475e-beb8-7d8866f7dc39",
   "metadata": {},
   "outputs": [
    {
     "data": {
      "text/plain": [
       "str"
      ]
     },
     "execution_count": 42,
     "metadata": {},
     "output_type": "execute_result"
    }
   ],
   "source": [
    "type(df1.loc[2,'column_2'])"
   ]
  },
  {
   "cell_type": "code",
   "execution_count": 43,
   "id": "e91507d5-88f7-4a5a-afa9-c38707f28326",
   "metadata": {},
   "outputs": [
    {
     "data": {
      "text/html": [
       "<div>\n",
       "<style scoped>\n",
       "    .dataframe tbody tr th:only-of-type {\n",
       "        vertical-align: middle;\n",
       "    }\n",
       "\n",
       "    .dataframe tbody tr th {\n",
       "        vertical-align: top;\n",
       "    }\n",
       "\n",
       "    .dataframe thead th {\n",
       "        text-align: right;\n",
       "    }\n",
       "</style>\n",
       "<table border=\"1\" class=\"dataframe\">\n",
       "  <thead>\n",
       "    <tr style=\"text-align: right;\">\n",
       "      <th></th>\n",
       "      <th>column_1</th>\n",
       "      <th>column_2</th>\n",
       "      <th>column_3</th>\n",
       "      <th>column_4</th>\n",
       "      <th>column_5</th>\n",
       "      <th>column_6</th>\n",
       "    </tr>\n",
       "  </thead>\n",
       "  <tbody>\n",
       "    <tr>\n",
       "      <th>1</th>\n",
       "      <td>0.293729</td>\n",
       "      <td>0.86406</td>\n",
       "      <td>0.847808</td>\n",
       "      <td>0.124050</td>\n",
       "      <td>0.714946</td>\n",
       "      <td>0.954519</td>\n",
       "    </tr>\n",
       "    <tr>\n",
       "      <th>2</th>\n",
       "      <td>0.840673</td>\n",
       "      <td>0.3424230402772145</td>\n",
       "      <td>0.121227</td>\n",
       "      <td>0.670888</td>\n",
       "      <td>0.151412</td>\n",
       "      <td>0.144949</td>\n",
       "    </tr>\n",
       "    <tr>\n",
       "      <th>3</th>\n",
       "      <td>0.330353</td>\n",
       "      <td>0.284511</td>\n",
       "      <td>0.529841</td>\n",
       "      <td>0.630237</td>\n",
       "      <td>0.687659</td>\n",
       "      <td>0.189910</td>\n",
       "    </tr>\n",
       "    <tr>\n",
       "      <th>4</th>\n",
       "      <td>0.637291</td>\n",
       "      <td>0.673297</td>\n",
       "      <td>0.679171</td>\n",
       "      <td>0.419081</td>\n",
       "      <td>0.530736</td>\n",
       "      <td>0.558596</td>\n",
       "    </tr>\n",
       "    <tr>\n",
       "      <th>5</th>\n",
       "      <td>0.498513</td>\n",
       "      <td>0.023029</td>\n",
       "      <td>0.230714</td>\n",
       "      <td>0.808445</td>\n",
       "      <td>0.881249</td>\n",
       "      <td>0.724140</td>\n",
       "    </tr>\n",
       "    <tr>\n",
       "      <th>6</th>\n",
       "      <td>0.224458</td>\n",
       "      <td>0.141986</td>\n",
       "      <td>0.342424</td>\n",
       "      <td>0.362693</td>\n",
       "      <td>0.356968</td>\n",
       "      <td>0.987638</td>\n",
       "    </tr>\n",
       "  </tbody>\n",
       "</table>\n",
       "</div>"
      ],
      "text/plain": [
       "   column_1            column_2  column_3  column_4  column_5  column_6\n",
       "1  0.293729             0.86406  0.847808  0.124050  0.714946  0.954519\n",
       "2  0.840673  0.3424230402772145  0.121227  0.670888  0.151412  0.144949\n",
       "3  0.330353            0.284511  0.529841  0.630237  0.687659  0.189910\n",
       "4  0.637291            0.673297  0.679171  0.419081  0.530736  0.558596\n",
       "5  0.498513            0.023029  0.230714  0.808445  0.881249  0.724140\n",
       "6  0.224458            0.141986  0.342424  0.362693  0.356968  0.987638"
      ]
     },
     "execution_count": 43,
     "metadata": {},
     "output_type": "execute_result"
    }
   ],
   "source": [
    "df1"
   ]
  },
  {
   "cell_type": "code",
   "execution_count": 45,
   "id": "04f12bca-51c5-4c3f-a8e7-be3c7cb99372",
   "metadata": {},
   "outputs": [
    {
     "ename": "TypeError",
     "evalue": "unsupported operand type(s) for +: 'float' and 'str'",
     "output_type": "error",
     "traceback": [
      "\u001b[0;31m---------------------------------------------------------------------------\u001b[0m",
      "\u001b[0;31mTypeError\u001b[0m                                 Traceback (most recent call last)",
      "Cell \u001b[0;32mIn[45], line 1\u001b[0m\n\u001b[0;32m----> 1\u001b[0m df1[\u001b[38;5;124m'\u001b[39m\u001b[38;5;124mcolumn_2\u001b[39m\u001b[38;5;124m'\u001b[39m]\u001b[38;5;241m.\u001b[39mmean()\n",
      "File \u001b[0;32m~/anaconda3/lib/python3.11/site-packages/pandas/core/series.py:6549\u001b[0m, in \u001b[0;36mSeries.mean\u001b[0;34m(self, axis, skipna, numeric_only, **kwargs)\u001b[0m\n\u001b[1;32m   6541\u001b[0m \u001b[38;5;129m@doc\u001b[39m(make_doc(\u001b[38;5;124m\"\u001b[39m\u001b[38;5;124mmean\u001b[39m\u001b[38;5;124m\"\u001b[39m, ndim\u001b[38;5;241m=\u001b[39m\u001b[38;5;241m1\u001b[39m))\n\u001b[1;32m   6542\u001b[0m \u001b[38;5;28;01mdef\u001b[39;00m \u001b[38;5;21mmean\u001b[39m(\n\u001b[1;32m   6543\u001b[0m     \u001b[38;5;28mself\u001b[39m,\n\u001b[0;32m   (...)\u001b[0m\n\u001b[1;32m   6547\u001b[0m     \u001b[38;5;241m*\u001b[39m\u001b[38;5;241m*\u001b[39mkwargs,\n\u001b[1;32m   6548\u001b[0m ):\n\u001b[0;32m-> 6549\u001b[0m     \u001b[38;5;28;01mreturn\u001b[39;00m NDFrame\u001b[38;5;241m.\u001b[39mmean(\u001b[38;5;28mself\u001b[39m, axis, skipna, numeric_only, \u001b[38;5;241m*\u001b[39m\u001b[38;5;241m*\u001b[39mkwargs)\n",
      "File \u001b[0;32m~/anaconda3/lib/python3.11/site-packages/pandas/core/generic.py:12420\u001b[0m, in \u001b[0;36mNDFrame.mean\u001b[0;34m(self, axis, skipna, numeric_only, **kwargs)\u001b[0m\n\u001b[1;32m  12413\u001b[0m \u001b[38;5;28;01mdef\u001b[39;00m \u001b[38;5;21mmean\u001b[39m(\n\u001b[1;32m  12414\u001b[0m     \u001b[38;5;28mself\u001b[39m,\n\u001b[1;32m  12415\u001b[0m     axis: Axis \u001b[38;5;241m|\u001b[39m \u001b[38;5;28;01mNone\u001b[39;00m \u001b[38;5;241m=\u001b[39m \u001b[38;5;241m0\u001b[39m,\n\u001b[0;32m   (...)\u001b[0m\n\u001b[1;32m  12418\u001b[0m     \u001b[38;5;241m*\u001b[39m\u001b[38;5;241m*\u001b[39mkwargs,\n\u001b[1;32m  12419\u001b[0m ) \u001b[38;5;241m-\u001b[39m\u001b[38;5;241m>\u001b[39m Series \u001b[38;5;241m|\u001b[39m \u001b[38;5;28mfloat\u001b[39m:\n\u001b[0;32m> 12420\u001b[0m     \u001b[38;5;28;01mreturn\u001b[39;00m \u001b[38;5;28mself\u001b[39m\u001b[38;5;241m.\u001b[39m_stat_function(\n\u001b[1;32m  12421\u001b[0m         \u001b[38;5;124m\"\u001b[39m\u001b[38;5;124mmean\u001b[39m\u001b[38;5;124m\"\u001b[39m, nanops\u001b[38;5;241m.\u001b[39mnanmean, axis, skipna, numeric_only, \u001b[38;5;241m*\u001b[39m\u001b[38;5;241m*\u001b[39mkwargs\n\u001b[1;32m  12422\u001b[0m     )\n",
      "File \u001b[0;32m~/anaconda3/lib/python3.11/site-packages/pandas/core/generic.py:12377\u001b[0m, in \u001b[0;36mNDFrame._stat_function\u001b[0;34m(self, name, func, axis, skipna, numeric_only, **kwargs)\u001b[0m\n\u001b[1;32m  12373\u001b[0m nv\u001b[38;5;241m.\u001b[39mvalidate_func(name, (), kwargs)\n\u001b[1;32m  12375\u001b[0m validate_bool_kwarg(skipna, \u001b[38;5;124m\"\u001b[39m\u001b[38;5;124mskipna\u001b[39m\u001b[38;5;124m\"\u001b[39m, none_allowed\u001b[38;5;241m=\u001b[39m\u001b[38;5;28;01mFalse\u001b[39;00m)\n\u001b[0;32m> 12377\u001b[0m \u001b[38;5;28;01mreturn\u001b[39;00m \u001b[38;5;28mself\u001b[39m\u001b[38;5;241m.\u001b[39m_reduce(\n\u001b[1;32m  12378\u001b[0m     func, name\u001b[38;5;241m=\u001b[39mname, axis\u001b[38;5;241m=\u001b[39maxis, skipna\u001b[38;5;241m=\u001b[39mskipna, numeric_only\u001b[38;5;241m=\u001b[39mnumeric_only\n\u001b[1;32m  12379\u001b[0m )\n",
      "File \u001b[0;32m~/anaconda3/lib/python3.11/site-packages/pandas/core/series.py:6457\u001b[0m, in \u001b[0;36mSeries._reduce\u001b[0;34m(self, op, name, axis, skipna, numeric_only, filter_type, **kwds)\u001b[0m\n\u001b[1;32m   6452\u001b[0m     \u001b[38;5;66;03m# GH#47500 - change to TypeError to match other methods\u001b[39;00m\n\u001b[1;32m   6453\u001b[0m     \u001b[38;5;28;01mraise\u001b[39;00m \u001b[38;5;167;01mTypeError\u001b[39;00m(\n\u001b[1;32m   6454\u001b[0m         \u001b[38;5;124mf\u001b[39m\u001b[38;5;124m\"\u001b[39m\u001b[38;5;124mSeries.\u001b[39m\u001b[38;5;132;01m{\u001b[39;00mname\u001b[38;5;132;01m}\u001b[39;00m\u001b[38;5;124m does not allow \u001b[39m\u001b[38;5;132;01m{\u001b[39;00mkwd_name\u001b[38;5;132;01m}\u001b[39;00m\u001b[38;5;124m=\u001b[39m\u001b[38;5;132;01m{\u001b[39;00mnumeric_only\u001b[38;5;132;01m}\u001b[39;00m\u001b[38;5;124m \u001b[39m\u001b[38;5;124m\"\u001b[39m\n\u001b[1;32m   6455\u001b[0m         \u001b[38;5;124m\"\u001b[39m\u001b[38;5;124mwith non-numeric dtypes.\u001b[39m\u001b[38;5;124m\"\u001b[39m\n\u001b[1;32m   6456\u001b[0m     )\n\u001b[0;32m-> 6457\u001b[0m \u001b[38;5;28;01mreturn\u001b[39;00m op(delegate, skipna\u001b[38;5;241m=\u001b[39mskipna, \u001b[38;5;241m*\u001b[39m\u001b[38;5;241m*\u001b[39mkwds)\n",
      "File \u001b[0;32m~/anaconda3/lib/python3.11/site-packages/pandas/core/nanops.py:147\u001b[0m, in \u001b[0;36mbottleneck_switch.__call__.<locals>.f\u001b[0;34m(values, axis, skipna, **kwds)\u001b[0m\n\u001b[1;32m    145\u001b[0m         result \u001b[38;5;241m=\u001b[39m alt(values, axis\u001b[38;5;241m=\u001b[39maxis, skipna\u001b[38;5;241m=\u001b[39mskipna, \u001b[38;5;241m*\u001b[39m\u001b[38;5;241m*\u001b[39mkwds)\n\u001b[1;32m    146\u001b[0m \u001b[38;5;28;01melse\u001b[39;00m:\n\u001b[0;32m--> 147\u001b[0m     result \u001b[38;5;241m=\u001b[39m alt(values, axis\u001b[38;5;241m=\u001b[39maxis, skipna\u001b[38;5;241m=\u001b[39mskipna, \u001b[38;5;241m*\u001b[39m\u001b[38;5;241m*\u001b[39mkwds)\n\u001b[1;32m    149\u001b[0m \u001b[38;5;28;01mreturn\u001b[39;00m result\n",
      "File \u001b[0;32m~/anaconda3/lib/python3.11/site-packages/pandas/core/nanops.py:404\u001b[0m, in \u001b[0;36m_datetimelike_compat.<locals>.new_func\u001b[0;34m(values, axis, skipna, mask, **kwargs)\u001b[0m\n\u001b[1;32m    401\u001b[0m \u001b[38;5;28;01mif\u001b[39;00m datetimelike \u001b[38;5;129;01mand\u001b[39;00m mask \u001b[38;5;129;01mis\u001b[39;00m \u001b[38;5;28;01mNone\u001b[39;00m:\n\u001b[1;32m    402\u001b[0m     mask \u001b[38;5;241m=\u001b[39m isna(values)\n\u001b[0;32m--> 404\u001b[0m result \u001b[38;5;241m=\u001b[39m func(values, axis\u001b[38;5;241m=\u001b[39maxis, skipna\u001b[38;5;241m=\u001b[39mskipna, mask\u001b[38;5;241m=\u001b[39mmask, \u001b[38;5;241m*\u001b[39m\u001b[38;5;241m*\u001b[39mkwargs)\n\u001b[1;32m    406\u001b[0m \u001b[38;5;28;01mif\u001b[39;00m datetimelike:\n\u001b[1;32m    407\u001b[0m     result \u001b[38;5;241m=\u001b[39m _wrap_results(result, orig_values\u001b[38;5;241m.\u001b[39mdtype, fill_value\u001b[38;5;241m=\u001b[39miNaT)\n",
      "File \u001b[0;32m~/anaconda3/lib/python3.11/site-packages/pandas/core/nanops.py:719\u001b[0m, in \u001b[0;36mnanmean\u001b[0;34m(values, axis, skipna, mask)\u001b[0m\n\u001b[1;32m    716\u001b[0m     dtype_count \u001b[38;5;241m=\u001b[39m dtype\n\u001b[1;32m    718\u001b[0m count \u001b[38;5;241m=\u001b[39m _get_counts(values\u001b[38;5;241m.\u001b[39mshape, mask, axis, dtype\u001b[38;5;241m=\u001b[39mdtype_count)\n\u001b[0;32m--> 719\u001b[0m the_sum \u001b[38;5;241m=\u001b[39m values\u001b[38;5;241m.\u001b[39msum(axis, dtype\u001b[38;5;241m=\u001b[39mdtype_sum)\n\u001b[1;32m    720\u001b[0m the_sum \u001b[38;5;241m=\u001b[39m _ensure_numeric(the_sum)\n\u001b[1;32m    722\u001b[0m \u001b[38;5;28;01mif\u001b[39;00m axis \u001b[38;5;129;01mis\u001b[39;00m \u001b[38;5;129;01mnot\u001b[39;00m \u001b[38;5;28;01mNone\u001b[39;00m \u001b[38;5;129;01mand\u001b[39;00m \u001b[38;5;28mgetattr\u001b[39m(the_sum, \u001b[38;5;124m\"\u001b[39m\u001b[38;5;124mndim\u001b[39m\u001b[38;5;124m\"\u001b[39m, \u001b[38;5;28;01mFalse\u001b[39;00m):\n",
      "File \u001b[0;32m~/anaconda3/lib/python3.11/site-packages/numpy/core/_methods.py:49\u001b[0m, in \u001b[0;36m_sum\u001b[0;34m(a, axis, dtype, out, keepdims, initial, where)\u001b[0m\n\u001b[1;32m     47\u001b[0m \u001b[38;5;28;01mdef\u001b[39;00m \u001b[38;5;21m_sum\u001b[39m(a, axis\u001b[38;5;241m=\u001b[39m\u001b[38;5;28;01mNone\u001b[39;00m, dtype\u001b[38;5;241m=\u001b[39m\u001b[38;5;28;01mNone\u001b[39;00m, out\u001b[38;5;241m=\u001b[39m\u001b[38;5;28;01mNone\u001b[39;00m, keepdims\u001b[38;5;241m=\u001b[39m\u001b[38;5;28;01mFalse\u001b[39;00m,\n\u001b[1;32m     48\u001b[0m          initial\u001b[38;5;241m=\u001b[39m_NoValue, where\u001b[38;5;241m=\u001b[39m\u001b[38;5;28;01mTrue\u001b[39;00m):\n\u001b[0;32m---> 49\u001b[0m     \u001b[38;5;28;01mreturn\u001b[39;00m umr_sum(a, axis, dtype, out, keepdims, initial, where)\n",
      "\u001b[0;31mTypeError\u001b[0m: unsupported operand type(s) for +: 'float' and 'str'"
     ]
    }
   ],
   "source": [
    "df1['column_2'].mean()"
   ]
  },
  {
   "cell_type": "raw",
   "id": "42fe1547-431d-49d6-b964-7aa4cadc7cd4",
   "metadata": {},
   "source": [
    "TypeError: unsupported operand type(s) for +: 'float' and 'str'\n",
    "So as we can see mean cant be calculated because in the column_2 there is a float point at 2nd row so addition of float and string is not possible"
   ]
  },
  {
   "cell_type": "markdown",
   "id": "16d488c6-db50-40ea-9939-d50255838352",
   "metadata": {},
   "source": [
    "Q6. What do you understand about the windows function in pandas and list the types of windows\n",
    "functions?"
   ]
  },
  {
   "cell_type": "raw",
   "id": "9effd7af-a8fd-4c1c-ae90-8b61dd22afa0",
   "metadata": {},
   "source": [
    "In Pandas, window functions are used to perform operations on a set of data points within a specified window or range. These functions are particularly useful for calculating aggregated statistics, smoothing data, or applying rolling computations over time series data.\n",
    "Understanding Window Functions:\n",
    "\n",
    "    Window Object:\n",
    "        A window object defines the range or window over which the function will be applied. It can be specified by providing parameters like window size, minimum periods, and centering options.\n",
    "\n",
    "    Aggregation:\n",
    "        Window functions aggregate data points within the specified window using various aggregation methods such as sum, mean, median, min, max, etc.\n",
    "\n",
    "    Rolling Computation:\n",
    "        Window functions facilitate rolling computations, where the function is applied iteratively across consecutive overlapping windows of data.\n",
    "\n",
    "    Expanding Windows:\n",
    "        Expanding windows include all data points up to the current point. This is useful for calculating cumulative statistics or trend analysis.\n",
    "\n",
    "Types of Window Functions:\n",
    "\n",
    "    Rolling Functions:\n",
    "        Rolling functions compute statistics over a fixed-size window of consecutive data points. Examples include rolling_mean, rolling_sum, rolling_median, etc.\n",
    "\n",
    "    Expanding Functions:\n",
    "        Expanding functions compute statistics over all data points up to the current point. Examples include expanding_mean, expanding_sum, etc.\n",
    "\n",
    "    Exponentially Weighted Functions:\n",
    "        Exponentially weighted functions assign exponentially decreasing weights to older data points. Examples include ewma (exponentially weighted moving average), ewmvar (exponentially weighted moving variance), etc.\n",
    "\n",
    "    Other Custom Window Functions:\n",
    "        Pandas also allows for the creation of custom window functions using the apply method, where you can define a custom function to apply to each window."
   ]
  },
  {
   "cell_type": "code",
   "execution_count": 31,
   "id": "c319a038-a8e2-41fe-b8be-2f6a358b5484",
   "metadata": {},
   "outputs": [],
   "source": [
    "#Example Usage:\n",
    "\n",
    "import pandas as pd\n",
    "\n",
    "# Sample DataFrame\n",
    "data = {'value': [1, 2, 3, 4, 5]}\n",
    "df = pd.DataFrame(data)\n",
    "\n",
    "# Rolling mean over a window of size 3\n",
    "rolling_mean = df['value'].rolling(window=3).mean()\n",
    "\n",
    "# Expanding sum\n",
    "expanding_sum = df['value'].expanding().sum()\n",
    "\n",
    "# Exponentially weighted moving average\n",
    "ewma = df['value'].ewm(span=3).mean()\n"
   ]
  },
  {
   "cell_type": "markdown",
   "id": "407ce26c-e39d-43f2-acb0-d0828c27a5bb",
   "metadata": {},
   "source": [
    "Q7. Write a code to print only the current month and year at the time of answering this question.\n",
    "[Hint: Use pandas.datetime function]"
   ]
  },
  {
   "cell_type": "code",
   "execution_count": 5,
   "id": "1df92620-5a96-4c19-8d63-601a77a1f27f",
   "metadata": {},
   "outputs": [
    {
     "name": "stdout",
     "output_type": "stream",
     "text": [
      "Current month: 5, Current year: 2024\n"
     ]
    }
   ],
   "source": [
    "import pandas as pd\n",
    "\n",
    "# Get the current date and time\n",
    "current_datetime = pd.Timestamp.now()\n",
    "\n",
    "# Extract the current month and year\n",
    "current_month = current_datetime.month\n",
    "current_year = current_datetime.year\n",
    "\n",
    "# Print the current month and year\n",
    "print(f\"Current month: {current_month}, Current year: {current_year}\")\n"
   ]
  },
  {
   "cell_type": "markdown",
   "id": "503f492a-87a9-48cc-83e2-507d6cd3395f",
   "metadata": {},
   "source": [
    "Q8. Write a Python program that takes in two dates as input (in the format YYYY-MM-DD) and\n",
    "calculates the difference between them in days, hours, and minutes using Pandas time delta. The\n",
    "program should prompt the user to enter the dates and display the result."
   ]
  },
  {
   "cell_type": "code",
   "execution_count": 47,
   "id": "f7917948-518e-4d19-8413-7c7cff88d197",
   "metadata": {},
   "outputs": [
    {
     "name": "stdin",
     "output_type": "stream",
     "text": [
      "Enter the first date (YYYY-MM-DD):  2024-01-10\n",
      "Enter the second date (YYYY-MM-DD):  2024-02-12\n"
     ]
    },
    {
     "name": "stdout",
     "output_type": "stream",
     "text": [
      "Difference: 33 days, 0 hours, and 0 minutes\n"
     ]
    }
   ],
   "source": [
    "import pandas as pd\n",
    "\n",
    "def calculate_date_difference():\n",
    "    # Prompt the user to enter the dates\n",
    "    date1_input = input(\"Enter the first date (YYYY-MM-DD): \")\n",
    "    date2_input = input(\"Enter the second date (YYYY-MM-DD): \")\n",
    "\n",
    "    try:\n",
    "        # Convert input strings to Pandas Timestamps\n",
    "        date1 = pd.Timestamp(date1_input)\n",
    "        date2 = pd.Timestamp(date2_input)\n",
    "\n",
    "        # Calculate the difference between the dates\n",
    "        time_diff = abs(date2 - date1)\n",
    "\n",
    "        # Extract days, hours, and minutes\n",
    "        days = time_diff.days\n",
    "        hours, remainder = divmod(time_diff.seconds, 3600)\n",
    "        minutes, seconds = divmod(remainder, 60)\n",
    "\n",
    "        # Display the result\n",
    "        print(f\"Difference: {days} days, {hours} hours, and {minutes} minutes\")\n",
    "    except ValueError:\n",
    "        print(\"Invalid date format. Please enter dates in the format YYYY-MM-DD.\")\n",
    "\n",
    "# Call the function to run the program\n",
    "calculate_date_difference()\n"
   ]
  },
  {
   "cell_type": "markdown",
   "id": "32c098a9-b812-41da-a07b-f605a6b36b4a",
   "metadata": {},
   "source": [
    "Q9. Write a Python program that reads a CSV file containing categorical data and converts a specified\n",
    "column to a categorical data type. The program should prompt the user to enter the file path, column\n",
    "name, and category order, and then display the sorted data."
   ]
  },
  {
   "cell_type": "code",
   "execution_count": 1,
   "id": "f982d8e4-9d13-46a2-a024-73963806e68f",
   "metadata": {},
   "outputs": [
    {
     "name": "stdout",
     "output_type": "stream",
     "text": [
      "CSV file 'tasks.csv' has been created and saved.\n"
     ]
    }
   ],
   "source": [
    "import pandas as pd\n",
    "\n",
    "# Define the data\n",
    "data = {\n",
    "    'Task': ['Task A', 'Task B', 'Task C', 'Task D', 'Task E'],\n",
    "    'Priority': ['High', 'Low', 'Medium', 'High', 'Low'],\n",
    "    'Duration': [30, 45, 20, 60, 15]\n",
    "}\n",
    "\n",
    "# Create a DataFrame\n",
    "df = pd.DataFrame(data)\n",
    "\n",
    "# Save the DataFrame to a CSV file\n",
    "df.to_csv('tasks.csv', index=False)\n",
    "\n",
    "print(\"CSV file 'tasks.csv' has been created and saved.\")\n"
   ]
  },
  {
   "cell_type": "code",
   "execution_count": 2,
   "id": "497c5610-4d97-42ad-a754-ef6327e95147",
   "metadata": {},
   "outputs": [
    {
     "data": {
      "text/html": [
       "<div>\n",
       "<style scoped>\n",
       "    .dataframe tbody tr th:only-of-type {\n",
       "        vertical-align: middle;\n",
       "    }\n",
       "\n",
       "    .dataframe tbody tr th {\n",
       "        vertical-align: top;\n",
       "    }\n",
       "\n",
       "    .dataframe thead th {\n",
       "        text-align: right;\n",
       "    }\n",
       "</style>\n",
       "<table border=\"1\" class=\"dataframe\">\n",
       "  <thead>\n",
       "    <tr style=\"text-align: right;\">\n",
       "      <th></th>\n",
       "      <th>Task</th>\n",
       "      <th>Priority</th>\n",
       "      <th>Duration</th>\n",
       "    </tr>\n",
       "  </thead>\n",
       "  <tbody>\n",
       "    <tr>\n",
       "      <th>0</th>\n",
       "      <td>Task A</td>\n",
       "      <td>High</td>\n",
       "      <td>30</td>\n",
       "    </tr>\n",
       "    <tr>\n",
       "      <th>1</th>\n",
       "      <td>Task B</td>\n",
       "      <td>Low</td>\n",
       "      <td>45</td>\n",
       "    </tr>\n",
       "    <tr>\n",
       "      <th>2</th>\n",
       "      <td>Task C</td>\n",
       "      <td>Medium</td>\n",
       "      <td>20</td>\n",
       "    </tr>\n",
       "    <tr>\n",
       "      <th>3</th>\n",
       "      <td>Task D</td>\n",
       "      <td>High</td>\n",
       "      <td>60</td>\n",
       "    </tr>\n",
       "    <tr>\n",
       "      <th>4</th>\n",
       "      <td>Task E</td>\n",
       "      <td>Low</td>\n",
       "      <td>15</td>\n",
       "    </tr>\n",
       "  </tbody>\n",
       "</table>\n",
       "</div>"
      ],
      "text/plain": [
       "     Task Priority  Duration\n",
       "0  Task A     High        30\n",
       "1  Task B      Low        45\n",
       "2  Task C   Medium        20\n",
       "3  Task D     High        60\n",
       "4  Task E      Low        15"
      ]
     },
     "execution_count": 2,
     "metadata": {},
     "output_type": "execute_result"
    }
   ],
   "source": [
    "df=pd.read_csv('tasks.csv')\n",
    "df"
   ]
  },
  {
   "cell_type": "code",
   "execution_count": 5,
   "id": "ac6c0da6-db14-4913-818d-9797a06df58a",
   "metadata": {
    "scrolled": true
   },
   "outputs": [
    {
     "name": "stdin",
     "output_type": "stream",
     "text": [
      "file path tasks.csv\n",
      "column name Priority\n",
      "Enter the category order (comma-separated):  Low,High,Medium\n"
     ]
    },
    {
     "name": "stdout",
     "output_type": "stream",
     "text": [
      "     Task Priority  Duration\n",
      "1  Task B      Low        45\n",
      "4  Task E      Low        15\n",
      "0  Task A     High        30\n",
      "3  Task D     High        60\n",
      "2  Task C   Medium        20\n"
     ]
    }
   ],
   "source": [
    "file=input('file path')\n",
    "df=pd.read_csv(file)\n",
    "column_name = input('column name')\n",
    "#Prompt the user to enter the category order separated by commas\n",
    "category_order_input = input(\"Enter the category order (comma-separated): \")\n",
    "# Split the input string into individual categories\n",
    "category_order = category_order_input.split(',')\n",
    "df[column_name] = pd.Categorical(df[column_name], categories=category_order, ordered=True)\n",
    "# Sort the DataFrame based on the categorical column\n",
    "df = df.sort_values(column_name)\n",
    "\n",
    "# Display the sorted DataFrame\n",
    "print(df)"
   ]
  },
  {
   "cell_type": "markdown",
   "id": "1bfa5307-c0c3-42be-8988-602847da0113",
   "metadata": {},
   "source": [
    "Q10. Write a Python program that reads a CSV file containing sales data for different products and\n",
    "visualizes the data using a stacked bar chart to show the sales of each product category over time. The\n",
    "program should prompt the user to enter the file path and display the chart."
   ]
  },
  {
   "cell_type": "code",
   "execution_count": 11,
   "id": "bce4561c-68de-4eaa-bf45-69b4f352d900",
   "metadata": {},
   "outputs": [
    {
     "name": "stdout",
     "output_type": "stream",
     "text": [
      "Sample sales data has been generated and saved to 'sales_data.csv'.\n"
     ]
    }
   ],
   "source": [
    "import pandas as pd\n",
    "import random\n",
    "\n",
    "# Define the number of products and categories\n",
    "num_products = 20\n",
    "num_categories = 3\n",
    "\n",
    "# Generate random sales data for different products\n",
    "products = [f\"Product {i+1}\" for i in range(num_products)]\n",
    "categories = [f\"Category {i+1}\" for i in range(num_categories)]\n",
    "units_sold = [random.randint(50, 200) for _ in range(num_products)]\n",
    "revenue = [random.randint(5000, 30000) for _ in range(num_products)]\n",
    "categories = [random.choice(categories) for _ in range(num_products)]\n",
    "\n",
    "# Create a DataFrame with the generated data\n",
    "data = {\n",
    "    'Product': products,\n",
    "    'Category': categories,\n",
    "    'Units Sold': units_sold,\n",
    "    'Revenue': revenue\n",
    "}\n",
    "df = pd.DataFrame(data)\n",
    "\n",
    "# Save the DataFrame to a CSV file\n",
    "df.to_csv('sales_data.csv', index=False)\n",
    "\n",
    "print(\"Sample sales data has been generated and saved to 'sales_data.csv'.\")\n"
   ]
  },
  {
   "cell_type": "code",
   "execution_count": 12,
   "id": "a9363d3a-97c5-4be5-a554-502178fd2f5a",
   "metadata": {},
   "outputs": [
    {
     "data": {
      "text/html": [
       "<div>\n",
       "<style scoped>\n",
       "    .dataframe tbody tr th:only-of-type {\n",
       "        vertical-align: middle;\n",
       "    }\n",
       "\n",
       "    .dataframe tbody tr th {\n",
       "        vertical-align: top;\n",
       "    }\n",
       "\n",
       "    .dataframe thead th {\n",
       "        text-align: right;\n",
       "    }\n",
       "</style>\n",
       "<table border=\"1\" class=\"dataframe\">\n",
       "  <thead>\n",
       "    <tr style=\"text-align: right;\">\n",
       "      <th></th>\n",
       "      <th>Product</th>\n",
       "      <th>Category</th>\n",
       "      <th>Units Sold</th>\n",
       "      <th>Revenue</th>\n",
       "    </tr>\n",
       "  </thead>\n",
       "  <tbody>\n",
       "    <tr>\n",
       "      <th>0</th>\n",
       "      <td>Product 1</td>\n",
       "      <td>Category 2</td>\n",
       "      <td>61</td>\n",
       "      <td>27973</td>\n",
       "    </tr>\n",
       "    <tr>\n",
       "      <th>1</th>\n",
       "      <td>Product 2</td>\n",
       "      <td>Category 3</td>\n",
       "      <td>65</td>\n",
       "      <td>23931</td>\n",
       "    </tr>\n",
       "    <tr>\n",
       "      <th>2</th>\n",
       "      <td>Product 3</td>\n",
       "      <td>Category 1</td>\n",
       "      <td>171</td>\n",
       "      <td>13099</td>\n",
       "    </tr>\n",
       "    <tr>\n",
       "      <th>3</th>\n",
       "      <td>Product 4</td>\n",
       "      <td>Category 1</td>\n",
       "      <td>199</td>\n",
       "      <td>20948</td>\n",
       "    </tr>\n",
       "    <tr>\n",
       "      <th>4</th>\n",
       "      <td>Product 5</td>\n",
       "      <td>Category 1</td>\n",
       "      <td>200</td>\n",
       "      <td>24827</td>\n",
       "    </tr>\n",
       "    <tr>\n",
       "      <th>5</th>\n",
       "      <td>Product 6</td>\n",
       "      <td>Category 2</td>\n",
       "      <td>96</td>\n",
       "      <td>25183</td>\n",
       "    </tr>\n",
       "    <tr>\n",
       "      <th>6</th>\n",
       "      <td>Product 7</td>\n",
       "      <td>Category 2</td>\n",
       "      <td>51</td>\n",
       "      <td>16916</td>\n",
       "    </tr>\n",
       "    <tr>\n",
       "      <th>7</th>\n",
       "      <td>Product 8</td>\n",
       "      <td>Category 3</td>\n",
       "      <td>142</td>\n",
       "      <td>27949</td>\n",
       "    </tr>\n",
       "    <tr>\n",
       "      <th>8</th>\n",
       "      <td>Product 9</td>\n",
       "      <td>Category 1</td>\n",
       "      <td>170</td>\n",
       "      <td>7725</td>\n",
       "    </tr>\n",
       "    <tr>\n",
       "      <th>9</th>\n",
       "      <td>Product 10</td>\n",
       "      <td>Category 1</td>\n",
       "      <td>198</td>\n",
       "      <td>5378</td>\n",
       "    </tr>\n",
       "    <tr>\n",
       "      <th>10</th>\n",
       "      <td>Product 11</td>\n",
       "      <td>Category 1</td>\n",
       "      <td>191</td>\n",
       "      <td>7186</td>\n",
       "    </tr>\n",
       "    <tr>\n",
       "      <th>11</th>\n",
       "      <td>Product 12</td>\n",
       "      <td>Category 2</td>\n",
       "      <td>151</td>\n",
       "      <td>8135</td>\n",
       "    </tr>\n",
       "    <tr>\n",
       "      <th>12</th>\n",
       "      <td>Product 13</td>\n",
       "      <td>Category 2</td>\n",
       "      <td>114</td>\n",
       "      <td>25893</td>\n",
       "    </tr>\n",
       "    <tr>\n",
       "      <th>13</th>\n",
       "      <td>Product 14</td>\n",
       "      <td>Category 2</td>\n",
       "      <td>195</td>\n",
       "      <td>13015</td>\n",
       "    </tr>\n",
       "    <tr>\n",
       "      <th>14</th>\n",
       "      <td>Product 15</td>\n",
       "      <td>Category 2</td>\n",
       "      <td>105</td>\n",
       "      <td>26587</td>\n",
       "    </tr>\n",
       "    <tr>\n",
       "      <th>15</th>\n",
       "      <td>Product 16</td>\n",
       "      <td>Category 1</td>\n",
       "      <td>118</td>\n",
       "      <td>13388</td>\n",
       "    </tr>\n",
       "    <tr>\n",
       "      <th>16</th>\n",
       "      <td>Product 17</td>\n",
       "      <td>Category 3</td>\n",
       "      <td>128</td>\n",
       "      <td>13989</td>\n",
       "    </tr>\n",
       "    <tr>\n",
       "      <th>17</th>\n",
       "      <td>Product 18</td>\n",
       "      <td>Category 3</td>\n",
       "      <td>188</td>\n",
       "      <td>11646</td>\n",
       "    </tr>\n",
       "    <tr>\n",
       "      <th>18</th>\n",
       "      <td>Product 19</td>\n",
       "      <td>Category 3</td>\n",
       "      <td>67</td>\n",
       "      <td>20143</td>\n",
       "    </tr>\n",
       "    <tr>\n",
       "      <th>19</th>\n",
       "      <td>Product 20</td>\n",
       "      <td>Category 3</td>\n",
       "      <td>130</td>\n",
       "      <td>25865</td>\n",
       "    </tr>\n",
       "  </tbody>\n",
       "</table>\n",
       "</div>"
      ],
      "text/plain": [
       "       Product    Category  Units Sold  Revenue\n",
       "0    Product 1  Category 2          61    27973\n",
       "1    Product 2  Category 3          65    23931\n",
       "2    Product 3  Category 1         171    13099\n",
       "3    Product 4  Category 1         199    20948\n",
       "4    Product 5  Category 1         200    24827\n",
       "5    Product 6  Category 2          96    25183\n",
       "6    Product 7  Category 2          51    16916\n",
       "7    Product 8  Category 3         142    27949\n",
       "8    Product 9  Category 1         170     7725\n",
       "9   Product 10  Category 1         198     5378\n",
       "10  Product 11  Category 1         191     7186\n",
       "11  Product 12  Category 2         151     8135\n",
       "12  Product 13  Category 2         114    25893\n",
       "13  Product 14  Category 2         195    13015\n",
       "14  Product 15  Category 2         105    26587\n",
       "15  Product 16  Category 1         118    13388\n",
       "16  Product 17  Category 3         128    13989\n",
       "17  Product 18  Category 3         188    11646\n",
       "18  Product 19  Category 3          67    20143\n",
       "19  Product 20  Category 3         130    25865"
      ]
     },
     "execution_count": 12,
     "metadata": {},
     "output_type": "execute_result"
    }
   ],
   "source": [
    "df=pd.read_csv('sales_data.csv')\n",
    "df"
   ]
  },
  {
   "cell_type": "code",
   "execution_count": 15,
   "id": "c368847c-4c39-4e92-a0e5-5118a7991911",
   "metadata": {},
   "outputs": [
    {
     "name": "stdin",
     "output_type": "stream",
     "text": [
      "Enter Location of file sales_data.csv\n"
     ]
    },
    {
     "data": {
      "text/plain": [
       "<Axes: xlabel='Product'>"
      ]
     },
     "execution_count": 15,
     "metadata": {},
     "output_type": "execute_result"
    },
    {
     "data": {
      "image/png": "[encoded data removed]",
      "text/plain": [
       "<Figure size 640x480 with 1 Axes>"
      ]
     },
     "metadata": {},
     "output_type": "display_data"
    }
   ],
   "source": [
    "data_location = input(\"Enter Location of file\")\n",
    "df=pd.read_csv(data_location)\n",
    "df.plot.bar(x= 'Product',y='Revenue')"
   ]
  },
  {
   "cell_type": "markdown",
   "id": "67e2d934-f5dd-4d91-a411-30710c2426cc",
   "metadata": {},
   "source": [
    "Q11. You are given a CSV file containing student data that includes the student ID and their test score. Write\n",
    "a Python program that reads the CSV file, calculates the mean, median, and mode of the test scores, and\n",
    "displays the results in a table.\n",
    "The program should do the followingM\n",
    "I Prompt the user to enter the file path of the CSV file containing the student dataR\n",
    "I Read the CSV file into a Pandas DataFrameR\n",
    "I Calculate the mean, median, and mode of the test scores using Pandas toolsR\n",
    "I Display the mean, median, and mode in a table.\n",
    "Assume the CSV file contains the following columnsM\n",
    "I Student ID: The ID of the studentR\n",
    "I Test Score: The score of the student's test."
   ]
  },
  {
   "cell_type": "code",
   "execution_count": 16,
   "id": "2a3cc80b-2428-4f38-876c-a1e657d63a32",
   "metadata": {},
   "outputs": [
    {
     "name": "stdout",
     "output_type": "stream",
     "text": [
      "Sample sales data has been generated and saved to 'sales_data.csv'.\n"
     ]
    }
   ],
   "source": [
    "import pandas as pd\n",
    "\n",
    "# Define the data\n",
    "data = {\n",
    "    'Student ID': [1, 2, 3, 4, 5, 6, 7, 8, 9, 10],\n",
    "    'Test Score': [85, 90, 80, 75, 85, 82, 78, 85, 90, 85]\n",
    "}\n",
    "\n",
    "# Create a DataFrame\n",
    "df = pd.DataFrame(data)\n",
    "\n",
    "# Save the DataFrame to a CSV file\n",
    "df.to_csv('students_data.csv', index=False)\n",
    "\n",
    "print(\"Sample sales data has been generated and saved to 'sales_data.csv'.\")\n",
    "\n"
   ]
  },
  {
   "cell_type": "code",
   "execution_count": 18,
   "id": "e0f57f64-161e-4e2d-8b46-0e254b01a10d",
   "metadata": {},
   "outputs": [
    {
     "name": "stdin",
     "output_type": "stream",
     "text": [
      "Input file location students_data.csv\n"
     ]
    },
    {
     "data": {
      "text/html": [
       "<div>\n",
       "<style scoped>\n",
       "    .dataframe tbody tr th:only-of-type {\n",
       "        vertical-align: middle;\n",
       "    }\n",
       "\n",
       "    .dataframe tbody tr th {\n",
       "        vertical-align: top;\n",
       "    }\n",
       "\n",
       "    .dataframe thead th {\n",
       "        text-align: right;\n",
       "    }\n",
       "</style>\n",
       "<table border=\"1\" class=\"dataframe\">\n",
       "  <thead>\n",
       "    <tr style=\"text-align: right;\">\n",
       "      <th></th>\n",
       "      <th>Student ID</th>\n",
       "      <th>Test Score</th>\n",
       "    </tr>\n",
       "  </thead>\n",
       "  <tbody>\n",
       "    <tr>\n",
       "      <th>0</th>\n",
       "      <td>1</td>\n",
       "      <td>85</td>\n",
       "    </tr>\n",
       "    <tr>\n",
       "      <th>1</th>\n",
       "      <td>2</td>\n",
       "      <td>90</td>\n",
       "    </tr>\n",
       "    <tr>\n",
       "      <th>2</th>\n",
       "      <td>3</td>\n",
       "      <td>80</td>\n",
       "    </tr>\n",
       "    <tr>\n",
       "      <th>3</th>\n",
       "      <td>4</td>\n",
       "      <td>75</td>\n",
       "    </tr>\n",
       "    <tr>\n",
       "      <th>4</th>\n",
       "      <td>5</td>\n",
       "      <td>85</td>\n",
       "    </tr>\n",
       "    <tr>\n",
       "      <th>5</th>\n",
       "      <td>6</td>\n",
       "      <td>82</td>\n",
       "    </tr>\n",
       "    <tr>\n",
       "      <th>6</th>\n",
       "      <td>7</td>\n",
       "      <td>78</td>\n",
       "    </tr>\n",
       "    <tr>\n",
       "      <th>7</th>\n",
       "      <td>8</td>\n",
       "      <td>85</td>\n",
       "    </tr>\n",
       "    <tr>\n",
       "      <th>8</th>\n",
       "      <td>9</td>\n",
       "      <td>90</td>\n",
       "    </tr>\n",
       "    <tr>\n",
       "      <th>9</th>\n",
       "      <td>10</td>\n",
       "      <td>85</td>\n",
       "    </tr>\n",
       "  </tbody>\n",
       "</table>\n",
       "</div>"
      ],
      "text/plain": [
       "   Student ID  Test Score\n",
       "0           1          85\n",
       "1           2          90\n",
       "2           3          80\n",
       "3           4          75\n",
       "4           5          85\n",
       "5           6          82\n",
       "6           7          78\n",
       "7           8          85\n",
       "8           9          90\n",
       "9          10          85"
      ]
     },
     "execution_count": 18,
     "metadata": {},
     "output_type": "execute_result"
    }
   ],
   "source": [
    "data_loc = input(\"Input file location\")\n",
    "df= pd.read_csv(data_loc)\n",
    "df"
   ]
  },
  {
   "cell_type": "code",
   "execution_count": 26,
   "id": "88fc92e0-0953-48bc-9edb-5340d9499e6c",
   "metadata": {},
   "outputs": [
    {
     "data": {
      "text/html": [
       "<div>\n",
       "<style scoped>\n",
       "    .dataframe tbody tr th:only-of-type {\n",
       "        vertical-align: middle;\n",
       "    }\n",
       "\n",
       "    .dataframe tbody tr th {\n",
       "        vertical-align: top;\n",
       "    }\n",
       "\n",
       "    .dataframe thead th {\n",
       "        text-align: right;\n",
       "    }\n",
       "</style>\n",
       "<table border=\"1\" class=\"dataframe\">\n",
       "  <thead>\n",
       "    <tr style=\"text-align: right;\">\n",
       "      <th></th>\n",
       "      <th>Statistic</th>\n",
       "      <th>Value</th>\n",
       "    </tr>\n",
       "  </thead>\n",
       "  <tbody>\n",
       "    <tr>\n",
       "      <th>0</th>\n",
       "      <td>mean</td>\n",
       "      <td>83.5</td>\n",
       "    </tr>\n",
       "    <tr>\n",
       "      <th>1</th>\n",
       "      <td>median</td>\n",
       "      <td>85.0</td>\n",
       "    </tr>\n",
       "    <tr>\n",
       "      <th>2</th>\n",
       "      <td>mode</td>\n",
       "      <td>0    85\n",
       "Name: Test Score, dtype: int64</td>\n",
       "    </tr>\n",
       "  </tbody>\n",
       "</table>\n",
       "</div>"
      ],
      "text/plain": [
       "  Statistic                                   Value\n",
       "0      mean                                    83.5\n",
       "1    median                                    85.0\n",
       "2      mode  0    85\n",
       "Name: Test Score, dtype: int64"
      ]
     },
     "execution_count": 26,
     "metadata": {},
     "output_type": "execute_result"
    }
   ],
   "source": [
    "mean= df['Test Score'].mean()\n",
    "median= df['Test Score'].median()\n",
    "mode= df['Test Score'].mode()\n",
    "df1=pd.DataFrame({'Statistic':['mean','median','mode'],'Value':[mean,median,mode]})\n",
    "df1"
   ]
  },
  {
   "cell_type": "code",
   "execution_count": null,
   "id": "fd60c31c-13e9-4134-a213-d7cd086bfbf8",
   "metadata": {},
   "outputs": [],
   "source": []
  }
 ],
 "metadata": {
  "kernelspec": {
   "display_name": "Python 3 (ipykernel)",
   "language": "python",
   "name": "python3"
  },
  "language_info": {
   "codemirror_mode": {
    "name": "ipython",
    "version": 3
   },
   "file_extension": ".py",
   "mimetype": "text/x-python",
   "name": "python",
   "nbconvert_exporter": "python",
   "pygments_lexer": "ipython3",
   "version": "3.11.7"
  }
 },
 "nbformat": 4,
 "nbformat_minor": 5
}
