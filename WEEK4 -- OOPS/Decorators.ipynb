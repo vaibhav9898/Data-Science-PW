{
 "cells": [
  {
   "cell_type": "code",
   "execution_count": 1,
   "id": "b7d075bf-eafc-4f6b-87f8-fac7b4918f50",
   "metadata": {},
   "outputs": [],
   "source": [
    "def test():\n",
    "    print(\"this is the start of my fun\")\n",
    "    print(\"this is my fun to test\")\n",
    "    print(4+5)\n",
    "    print(\"this is end\")"
   ]
  },
  {
   "cell_type": "code",
   "execution_count": 2,
   "id": "74b4b900-f8f7-4773-b531-af516134ce1c",
   "metadata": {},
   "outputs": [
    {
     "name": "stdout",
     "output_type": "stream",
     "text": [
      "this is the start of my fun\n",
      "this is my fun to test\n",
      "9\n",
      "this is end\n"
     ]
    }
   ],
   "source": [
    "test()"
   ]
  },
  {
   "cell_type": "code",
   "execution_count": 3,
   "id": "2900f7c8-47dc-49bd-a782-fca4607a7401",
   "metadata": {},
   "outputs": [],
   "source": [
    "def deco(func):\n",
    "    def inner_dec():\n",
    "        print(\"this is the start of my fun\")\n",
    "        func()\n",
    "        print(\"this is the end of my fun\")\n",
    "    return inner_dec"
   ]
  },
  {
   "cell_type": "code",
   "execution_count": 4,
   "id": "7b189711-02c9-48da-a357-cb3635f6f3ef",
   "metadata": {},
   "outputs": [],
   "source": [
    "@deco\n",
    "def test1():\n",
    "    print(6+7)"
   ]
  },
  {
   "cell_type": "code",
   "execution_count": 5,
   "id": "df977d1b-96fb-459d-9aa9-e3b6934f0f47",
   "metadata": {},
   "outputs": [
    {
     "name": "stdout",
     "output_type": "stream",
     "text": [
      "this is the start of my fun\n",
      "13\n",
      "this is the end of my fun\n"
     ]
    }
   ],
   "source": [
    "test1()"
   ]
  },
  {
   "cell_type": "code",
   "execution_count": 6,
   "id": "c64afd5b-df7e-4f8d-95c8-162e55fe1a35",
   "metadata": {},
   "outputs": [],
   "source": [
    "import time\n",
    "\n",
    "def timer_test(func):\n",
    "    def timer_test_inner():\n",
    "        start = time.time()\n",
    "        func()\n",
    "        end = time.time()\n",
    "        print(end-start)\n",
    "    return timer_test_inner\n"
   ]
  },
  {
   "cell_type": "code",
   "execution_count": 7,
   "id": "7b150803-926a-45a7-bb35-8e50e6d5ab7b",
   "metadata": {},
   "outputs": [],
   "source": [
    "def test2():\n",
    "    print(45+78)\n"
   ]
  },
  {
   "cell_type": "code",
   "execution_count": 8,
   "id": "a41ed095-b230-48d7-838b-2dbb9b1cfe1b",
   "metadata": {},
   "outputs": [
    {
     "name": "stdout",
     "output_type": "stream",
     "text": [
      "123\n"
     ]
    }
   ],
   "source": [
    "test2()"
   ]
  },
  {
   "cell_type": "code",
   "execution_count": 9,
   "id": "a0441c63-7f18-4d81-8843-a2181d5dea7f",
   "metadata": {},
   "outputs": [],
   "source": [
    "@timer_test\n",
    "def test2():\n",
    "    print(45+72)"
   ]
  },
  {
   "cell_type": "code",
   "execution_count": 10,
   "id": "3263f610-19bc-41a3-b74a-1c98d5c05f3c",
   "metadata": {},
   "outputs": [
    {
     "name": "stdout",
     "output_type": "stream",
     "text": [
      "117\n",
      "4.267692565917969e-05\n"
     ]
    }
   ],
   "source": [
    "test2()"
   ]
  },
  {
   "cell_type": "code",
   "execution_count": 17,
   "id": "4c4b5aab-8727-4d96-a8c4-b34f6e8c85c4",
   "metadata": {},
   "outputs": [],
   "source": [
    "@timer_test\n",
    "def test():\n",
    "    for i in range(100000000):\n",
    "        pass"
   ]
  },
  {
   "cell_type": "code",
   "execution_count": 18,
   "id": "182aa92f-4830-469c-a088-ca9cb4ec5244",
   "metadata": {},
   "outputs": [
    {
     "name": "stdout",
     "output_type": "stream",
     "text": [
      "2.50573468208313\n"
     ]
    }
   ],
   "source": [
    "test()"
   ]
  },
  {
   "cell_type": "code",
   "execution_count": null,
   "id": "6926c20c-d4bf-4c1e-9018-b23152a57ef8",
   "metadata": {},
   "outputs": [],
   "source": []
  }
 ],
 "metadata": {
  "kernelspec": {
   "display_name": "Python 3 (ipykernel)",
   "language": "python",
   "name": "python3"
  },
  "language_info": {
   "codemirror_mode": {
    "name": "ipython",
    "version": 3
   },
   "file_extension": ".py",
   "mimetype": "text/x-python",
   "name": "python",
   "nbconvert_exporter": "python",
   "pygments_lexer": "ipython3",
   "version": "3.10.8"
  }
 },
 "nbformat": 4,
 "nbformat_minor": 5
}
