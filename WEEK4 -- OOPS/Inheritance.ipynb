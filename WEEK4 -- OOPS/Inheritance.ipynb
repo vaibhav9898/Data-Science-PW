{
 "cells": [
  {
   "cell_type": "code",
   "execution_count": 1,
   "id": "76e69103-4fc0-455d-8ef3-1a5c46806226",
   "metadata": {},
   "outputs": [],
   "source": [
    "class test:\n",
    "    \n",
    "    def test_meth(self):\n",
    "        return \"this is my first class\""
   ]
  },
  {
   "cell_type": "code",
   "execution_count": 2,
   "id": "b47a409a-4d51-48fb-aa6d-01e19b71e03d",
   "metadata": {},
   "outputs": [],
   "source": [
    "class child_test(test):\n",
    "    pass"
   ]
  },
  {
   "cell_type": "code",
   "execution_count": 3,
   "id": "3e41cfde-0dc8-4c43-a939-fbbd2c896f23",
   "metadata": {},
   "outputs": [],
   "source": [
    "child_test_obj = child_test()"
   ]
  },
  {
   "cell_type": "code",
   "execution_count": 4,
   "id": "407baa9f-dbe8-4842-a9a0-bfeeea5baa04",
   "metadata": {},
   "outputs": [
    {
     "data": {
      "text/plain": [
       "'this is my first class'"
      ]
     },
     "execution_count": 4,
     "metadata": {},
     "output_type": "execute_result"
    }
   ],
   "source": [
    "child_test_obj.test_meth()"
   ]
  },
  {
   "cell_type": "code",
   "execution_count": 5,
   "id": "5270d81e-354c-4cfb-ad65-1e7226644b67",
   "metadata": {},
   "outputs": [],
   "source": [
    "class class1:\n",
    "    \n",
    "    def test_class1(self):\n",
    "        return \"this is my class1\""
   ]
  },
  {
   "cell_type": "code",
   "execution_count": 6,
   "id": "9d788e21-177e-4c63-9d07-2d85e4552668",
   "metadata": {},
   "outputs": [],
   "source": [
    "class class2(class1):\n",
    "    \n",
    "    def test_class2(self):\n",
    "        return \"this is my class2\""
   ]
  },
  {
   "cell_type": "code",
   "execution_count": 7,
   "id": "b9eeb60b-a741-46e1-a133-f0ea6873ed4e",
   "metadata": {},
   "outputs": [],
   "source": [
    "class class3(class2):\n",
    "    \n",
    "    pass"
   ]
  },
  {
   "cell_type": "code",
   "execution_count": 8,
   "id": "525dcb5f-e430-4752-9431-e06956ff9ff6",
   "metadata": {},
   "outputs": [],
   "source": [
    "obj_class3 = class3()"
   ]
  },
  {
   "cell_type": "code",
   "execution_count": 9,
   "id": "bbb96882-b69b-4b81-9430-03ed03474a9e",
   "metadata": {},
   "outputs": [
    {
     "data": {
      "text/plain": [
       "'this is my class1'"
      ]
     },
     "execution_count": 9,
     "metadata": {},
     "output_type": "execute_result"
    }
   ],
   "source": [
    "obj_class3.test_class1()"
   ]
  },
  {
   "cell_type": "code",
   "execution_count": 10,
   "id": "1b0b384f-b909-43ff-8461-f6d9617c475c",
   "metadata": {},
   "outputs": [
    {
     "data": {
      "text/plain": [
       "'this is my class2'"
      ]
     },
     "execution_count": 10,
     "metadata": {},
     "output_type": "execute_result"
    }
   ],
   "source": [
    "obj_class3.test_class2()"
   ]
  },
  {
   "cell_type": "code",
   "execution_count": null,
   "id": "ab8d4e9d-9b47-450f-9443-927dc47c9050",
   "metadata": {},
   "outputs": [],
   "source": []
  },
  {
   "cell_type": "code",
   "execution_count": 11,
   "id": "487e7535-0c63-4688-aa84-c15359383c32",
   "metadata": {},
   "outputs": [],
   "source": [
    "class class1:\n",
    "    \n",
    "    def test_class1(self):\n",
    "        return \"this is class1\""
   ]
  },
  {
   "cell_type": "code",
   "execution_count": 12,
   "id": "9da80a05-a8ac-40cd-8b38-5ac7f87a52c9",
   "metadata": {},
   "outputs": [],
   "source": [
    "class class2:\n",
    "    \n",
    "    def test_class2(self):\n",
    "        return \"this is my class2\""
   ]
  },
  {
   "cell_type": "code",
   "execution_count": 13,
   "id": "e0fff281-739b-45ec-ada0-7fc741055832",
   "metadata": {},
   "outputs": [],
   "source": [
    "class class3(class1, class2):\n",
    "    \n",
    "    pass"
   ]
  },
  {
   "cell_type": "code",
   "execution_count": 26,
   "id": "d67ce9be-66fe-4efe-8d9c-faaa91eca20c",
   "metadata": {},
   "outputs": [],
   "source": [
    "obj_class3 = class3()"
   ]
  },
  {
   "cell_type": "code",
   "execution_count": 28,
   "id": "649dbacf-2e73-4f07-bf11-bd9719c91d86",
   "metadata": {},
   "outputs": [
    {
     "data": {
      "text/plain": [
       "'this is class1'"
      ]
     },
     "execution_count": 28,
     "metadata": {},
     "output_type": "execute_result"
    }
   ],
   "source": [
    "obj_class3.test_class1()"
   ]
  },
  {
   "cell_type": "code",
   "execution_count": 29,
   "id": "0ddd3616-410a-4dc2-928c-22203922e024",
   "metadata": {},
   "outputs": [
    {
     "data": {
      "text/plain": [
       "'this is my class2'"
      ]
     },
     "execution_count": 29,
     "metadata": {},
     "output_type": "execute_result"
    }
   ],
   "source": [
    "obj_class3.test_class2()"
   ]
  },
  {
   "cell_type": "code",
   "execution_count": null,
   "id": "628da274-d1a4-4b95-8982-039733ea59bb",
   "metadata": {},
   "outputs": [],
   "source": []
  }
 ],
 "metadata": {
  "kernelspec": {
   "display_name": "Python 3 (ipykernel)",
   "language": "python",
   "name": "python3"
  },
  "language_info": {
   "codemirror_mode": {
    "name": "ipython",
    "version": 3
   },
   "file_extension": ".py",
   "mimetype": "text/x-python",
   "name": "python",
   "nbconvert_exporter": "python",
   "pygments_lexer": "ipython3",
   "version": "3.10.8"
  }
 },
 "nbformat": 4,
 "nbformat_minor": 5
}
