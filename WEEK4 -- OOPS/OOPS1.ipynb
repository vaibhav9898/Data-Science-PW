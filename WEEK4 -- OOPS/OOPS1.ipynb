{
 "cells": [
  {
   "cell_type": "markdown",
   "id": "618c89a4-c0b8-4d50-a1d3-7c335a62bc6e",
   "metadata": {},
   "source": [
    "OOPS"
   ]
  },
  {
   "cell_type": "code",
   "execution_count": 2,
   "id": "eb3d11a8-a3ac-4ce4-ae08-cf21a1182ce0",
   "metadata": {},
   "outputs": [],
   "source": [
    "a=1"
   ]
  },
  {
   "cell_type": "code",
   "execution_count": 3,
   "id": "2a1806eb-fd49-4f29-9585-8bdb07fb5fa3",
   "metadata": {},
   "outputs": [
    {
     "name": "stdout",
     "output_type": "stream",
     "text": [
      "<class 'int'>\n"
     ]
    }
   ],
   "source": [
    "print(type(a))"
   ]
  },
  {
   "cell_type": "code",
   "execution_count": 4,
   "id": "54914803-b685-4cd5-ba54-76a6c406333c",
   "metadata": {},
   "outputs": [
    {
     "name": "stdout",
     "output_type": "stream",
     "text": [
      "<class 'str'>\n"
     ]
    }
   ],
   "source": [
    "print(type(\"pwskills\"))"
   ]
  },
  {
   "cell_type": "code",
   "execution_count": 6,
   "id": "04948549-0f8a-48e9-91b6-48f2f8ab540b",
   "metadata": {},
   "outputs": [],
   "source": [
    "class test:\n",
    "    pass"
   ]
  },
  {
   "cell_type": "code",
   "execution_count": 7,
   "id": "dc05f5f9-1c2c-4edb-9fb2-2cc1b9b1e429",
   "metadata": {},
   "outputs": [],
   "source": [
    "a=test()"
   ]
  },
  {
   "cell_type": "code",
   "execution_count": 8,
   "id": "db870351-16e1-444a-8150-273264d37d9e",
   "metadata": {},
   "outputs": [
    {
     "data": {
      "text/plain": [
       "__main__.test"
      ]
     },
     "execution_count": 8,
     "metadata": {},
     "output_type": "execute_result"
    }
   ],
   "source": [
    "type(a)"
   ]
  },
  {
   "cell_type": "code",
   "execution_count": 9,
   "id": "a0524b88-f477-4d15-9619-076d51613de1",
   "metadata": {},
   "outputs": [
    {
     "name": "stdout",
     "output_type": "stream",
     "text": [
      "<class '__main__.test'>\n"
     ]
    }
   ],
   "source": [
    "print(type(a))"
   ]
  },
  {
   "cell_type": "code",
   "execution_count": 14,
   "id": "962ccc07-9820-4100-b580-229ab0e32a01",
   "metadata": {},
   "outputs": [],
   "source": [
    "class pwskills:\n",
    "    def welcome_msg(self):\n",
    "        print(\"welcome to pwskills\")"
   ]
  },
  {
   "cell_type": "code",
   "execution_count": 15,
   "id": "e36b0e2a-4cbf-4739-9922-3ea611f0d6d3",
   "metadata": {},
   "outputs": [],
   "source": [
    "rohan = pwskills()"
   ]
  },
  {
   "cell_type": "code",
   "execution_count": 17,
   "id": "e0923346-2bc6-4805-bbd3-25aca6fc2eb6",
   "metadata": {},
   "outputs": [
    {
     "name": "stdout",
     "output_type": "stream",
     "text": [
      "<class '__main__.pwskills'>\n"
     ]
    }
   ],
   "source": [
    "print(type(rohan))"
   ]
  },
  {
   "cell_type": "code",
   "execution_count": 18,
   "id": "c2b9cfc2-6597-4a77-bf61-74000c71788a",
   "metadata": {},
   "outputs": [
    {
     "name": "stdout",
     "output_type": "stream",
     "text": [
      "welcome to pwskills\n"
     ]
    }
   ],
   "source": [
    "rohan.welcome_msg()"
   ]
  },
  {
   "cell_type": "code",
   "execution_count": 19,
   "id": "cc52e5a7-6570-47fb-afc6-6ed7e35b7abe",
   "metadata": {},
   "outputs": [],
   "source": [
    "gaurav=pwskills()"
   ]
  },
  {
   "cell_type": "code",
   "execution_count": 20,
   "id": "bd57a316-27cb-490b-bf15-738998d161d8",
   "metadata": {},
   "outputs": [
    {
     "name": "stdout",
     "output_type": "stream",
     "text": [
      "welcome to pwskills\n"
     ]
    }
   ],
   "source": [
    "gaurav.welcome_msg()"
   ]
  },
  {
   "cell_type": "code",
   "execution_count": 39,
   "id": "9d05b313-715d-4630-a690-5eab21ef2fd0",
   "metadata": {},
   "outputs": [],
   "source": [
    "class pwskills1:\n",
    "    \n",
    "    def __init__(self , phone_number, email_id, student_id):\n",
    "        self.phone_number = phone_number\n",
    "        self.email_id = email_id\n",
    "        self.student_id = student_id\n",
    "    \n",
    "    def return_student_details(self):\n",
    "        return self.student_id, self.phone_number, self.email_id"
   ]
  },
  {
   "cell_type": "code",
   "execution_count": 40,
   "id": "f9ba9b19-4f42-44d8-b594-8a33add99c6a",
   "metadata": {},
   "outputs": [
    {
     "data": {
      "text/plain": [
       "(101, 'Vaibhav', 1233222)"
      ]
     },
     "execution_count": 40,
     "metadata": {},
     "output_type": "execute_result"
    }
   ],
   "source": [
    "rohan.return_student_details()"
   ]
  },
  {
   "cell_type": "code",
   "execution_count": 41,
   "id": "e7fc4240-4004-4fc9-9fca-7d2df35750a6",
   "metadata": {},
   "outputs": [
    {
     "data": {
      "text/plain": [
       "1233222"
      ]
     },
     "execution_count": 41,
     "metadata": {},
     "output_type": "execute_result"
    }
   ],
   "source": [
    "rohan.phone_number"
   ]
  },
  {
   "cell_type": "code",
   "execution_count": 45,
   "id": "a2eba7ff-182c-4623-b085-935bc8697363",
   "metadata": {},
   "outputs": [
    {
     "data": {
      "text/plain": [
       "'Vaibhav'"
      ]
     },
     "execution_count": 45,
     "metadata": {},
     "output_type": "execute_result"
    }
   ],
   "source": [
    "rohan.email_id"
   ]
  },
  {
   "cell_type": "code",
   "execution_count": 42,
   "id": "54fbb014-0274-483a-a433-02bdc73932c8",
   "metadata": {},
   "outputs": [],
   "source": [
    "rohan = pwskills1(1233222,\"Vaibhav\", 101)"
   ]
  },
  {
   "cell_type": "code",
   "execution_count": 43,
   "id": "c15648ac-3e1e-40bf-98a1-a408e3128108",
   "metadata": {},
   "outputs": [],
   "source": [
    "gaurav = pwskills1(9377292, \"gaurav@gmail.com\", 104)"
   ]
  },
  {
   "cell_type": "code",
   "execution_count": 44,
   "id": "753678f5-6c91-44a2-8457-04c5027011a5",
   "metadata": {},
   "outputs": [
    {
     "data": {
      "text/plain": [
       "(104, 9377292, 'gaurav@gmail.com')"
      ]
     },
     "execution_count": 44,
     "metadata": {},
     "output_type": "execute_result"
    }
   ],
   "source": [
    "gaurav.return_student_details()"
   ]
  },
  {
   "cell_type": "code",
   "execution_count": 49,
   "id": "851b4157-2c01-4731-b395-dade460b875b",
   "metadata": {},
   "outputs": [],
   "source": [
    "class pwskills2:\n",
    "    \n",
    "    def __init__(self , phone_number, email_id, student_id):\n",
    "        self.phone_number1 = phone_number\n",
    "        self.email_id1 = email_id\n",
    "        self.student_id1 = student_id\n",
    "    \n",
    "    def return_student_details(self):\n",
    "        return self.student_id1, self.phone_number1, self.email_id1"
   ]
  },
  {
   "cell_type": "code",
   "execution_count": 50,
   "id": "a4d85654-1139-4d14-b207-2dfd9057eec4",
   "metadata": {},
   "outputs": [],
   "source": [
    "sudh = pwskills2(989383, \"sudh@gmail.com\", 103)"
   ]
  },
  {
   "cell_type": "code",
   "execution_count": 51,
   "id": "d44650fc-f58c-4c7c-aa67-9d88ce2595b6",
   "metadata": {},
   "outputs": [
    {
     "data": {
      "text/plain": [
       "<__main__.pwskills2 at 0x7fa6d13cd060>"
      ]
     },
     "execution_count": 51,
     "metadata": {},
     "output_type": "execute_result"
    }
   ],
   "source": [
    "sudh"
   ]
  },
  {
   "cell_type": "code",
   "execution_count": 52,
   "id": "5eb62d52-6697-4767-8963-288a76445909",
   "metadata": {},
   "outputs": [
    {
     "ename": "AttributeError",
     "evalue": "'pwskills2' object has no attribute 'phone_number'",
     "output_type": "error",
     "traceback": [
      "\u001b[0;31m---------------------------------------------------------------------------\u001b[0m",
      "\u001b[0;31mAttributeError\u001b[0m                            Traceback (most recent call last)",
      "Cell \u001b[0;32mIn[52], line 1\u001b[0m\n\u001b[0;32m----> 1\u001b[0m \u001b[43msudh\u001b[49m\u001b[38;5;241;43m.\u001b[39;49m\u001b[43mphone_number\u001b[49m\n",
      "\u001b[0;31mAttributeError\u001b[0m: 'pwskills2' object has no attribute 'phone_number'"
     ]
    }
   ],
   "source": [
    "sudh.phone_number"
   ]
  },
  {
   "cell_type": "code",
   "execution_count": 53,
   "id": "fa2bcd3f-dec8-46b5-b828-cfbf8792d046",
   "metadata": {},
   "outputs": [
    {
     "data": {
      "text/plain": [
       "989383"
      ]
     },
     "execution_count": 53,
     "metadata": {},
     "output_type": "execute_result"
    }
   ],
   "source": [
    "sudh.phone_number1"
   ]
  },
  {
   "cell_type": "code",
   "execution_count": 54,
   "id": "7ae6abe6-b00f-4b8e-a739-26791b2acb73",
   "metadata": {},
   "outputs": [
    {
     "data": {
      "text/plain": [
       "'sudh@gmail.com'"
      ]
     },
     "execution_count": 54,
     "metadata": {},
     "output_type": "execute_result"
    }
   ],
   "source": [
    "sudh.email_id1"
   ]
  },
  {
   "cell_type": "code",
   "execution_count": 56,
   "id": "06367352-c1e1-4e19-b6b4-cc581882e9db",
   "metadata": {},
   "outputs": [
    {
     "data": {
      "text/plain": [
       "(103, 989383, 'sudh@gmail.com')"
      ]
     },
     "execution_count": 56,
     "metadata": {},
     "output_type": "execute_result"
    }
   ],
   "source": [
    "sudh.return_student_details()"
   ]
  },
  {
   "cell_type": "code",
   "execution_count": 57,
   "id": "77e2d939-7347-4148-b691-96cca1e0509a",
   "metadata": {},
   "outputs": [],
   "source": [
    "class pwskills2:\n",
    "    \n",
    "    def __init__(sudh , phone_number, email_id, student_id):\n",
    "        sudh.phone_number1 = phone_number\n",
    "        sudh.email_id1 = email_id\n",
    "        sudh.student_id1 = student_id\n",
    "    \n",
    "    def return_student_details(self):\n",
    "        return sudh.student_id1, sudh.phone_number1, sudh.email_id1"
   ]
  },
  {
   "cell_type": "code",
   "execution_count": 58,
   "id": "91692d16-a70c-4ab8-a405-cae856c1f00f",
   "metadata": {},
   "outputs": [],
   "source": [
    "rohan = pwskills2(6255353, \"rohan@gmail.com\", 624)"
   ]
  },
  {
   "cell_type": "code",
   "execution_count": null,
   "id": "62198318-60a4-408e-adb2-e3de6b3d0634",
   "metadata": {},
   "outputs": [],
   "source": []
  }
 ],
 "metadata": {
  "kernelspec": {
   "display_name": "Python 3 (ipykernel)",
   "language": "python",
   "name": "python3"
  },
  "language_info": {
   "codemirror_mode": {
    "name": "ipython",
    "version": 3
   },
   "file_extension": ".py",
   "mimetype": "text/x-python",
   "name": "python",
   "nbconvert_exporter": "python",
   "pygments_lexer": "ipython3",
   "version": "3.10.8"
  }
 },
 "nbformat": 4,
 "nbformat_minor": 5
}
