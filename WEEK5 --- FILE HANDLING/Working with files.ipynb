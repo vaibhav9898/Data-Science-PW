{
 "cells": [
  {
   "cell_type": "code",
   "execution_count": 17,
   "id": "121ee6e2-3d65-4e01-a660-bec507db0389",
   "metadata": {},
   "outputs": [],
   "source": [
    "f = open(\"text.txt\", 'w')"
   ]
  },
  {
   "cell_type": "code",
   "execution_count": 18,
   "id": "c50bf58e-d4a5-49be-adbf-93c7591febec",
   "metadata": {},
   "outputs": [
    {
     "data": {
      "text/plain": [
       "'/home/jovyan/work'"
      ]
     },
     "execution_count": 18,
     "metadata": {},
     "output_type": "execute_result"
    }
   ],
   "source": [
    "pwd"
   ]
  },
  {
   "cell_type": "code",
   "execution_count": 19,
   "id": "67a72dde-0e1c-4e1c-87ba-39de2aaa7477",
   "metadata": {},
   "outputs": [
    {
     "name": "stdout",
     "output_type": "stream",
     "text": [
      " text.txt  'Working with files.ipynb'\n"
     ]
    }
   ],
   "source": [
    "ls"
   ]
  },
  {
   "cell_type": "code",
   "execution_count": 20,
   "id": "bb5bf8b5-09d5-4f5f-96a1-376e94f86142",
   "metadata": {},
   "outputs": [
    {
     "name": "stdout",
     "output_type": "stream",
     "text": [
      "[Errno 2] No such file or directory: 'work'\n",
      "/home/jovyan/work\n"
     ]
    }
   ],
   "source": [
    "cd work"
   ]
  },
  {
   "cell_type": "code",
   "execution_count": 21,
   "id": "347a3cb2-7bae-4aed-9c17-eb8f6d7d2a55",
   "metadata": {},
   "outputs": [
    {
     "data": {
      "text/plain": [
       "30"
      ]
     },
     "execution_count": 21,
     "metadata": {},
     "output_type": "execute_result"
    }
   ],
   "source": [
    "f.write(\"this is my first file to write\")"
   ]
  },
  {
   "cell_type": "code",
   "execution_count": 22,
   "id": "7d31cc0a-7bc3-4965-88fc-634d5d08d1bd",
   "metadata": {},
   "outputs": [],
   "source": [
    "f.close()"
   ]
  },
  {
   "cell_type": "code",
   "execution_count": 26,
   "id": "03228f77-2d06-45e1-921b-ed58a904ee31",
   "metadata": {},
   "outputs": [],
   "source": [
    "f= open(\"text.txt\" , \"w\")"
   ]
  },
  {
   "cell_type": "code",
   "execution_count": 27,
   "id": "e1f43e8e-57b2-4530-9f40-fd4133fd9ca8",
   "metadata": {},
   "outputs": [
    {
     "data": {
      "text/plain": [
       "12"
      ]
     },
     "execution_count": 27,
     "metadata": {},
     "output_type": "execute_result"
    }
   ],
   "source": [
    "f.write(\"this my file\")"
   ]
  },
  {
   "cell_type": "code",
   "execution_count": 40,
   "id": "8009dc4e-4243-4877-ace4-3008aac22c30",
   "metadata": {},
   "outputs": [],
   "source": [
    "f = open(\"text.txt\",'a')"
   ]
  },
  {
   "cell_type": "code",
   "execution_count": 41,
   "id": "94ffa8b7-8031-4588-891b-a6a8ff146a51",
   "metadata": {},
   "outputs": [
    {
     "data": {
      "text/plain": [
       "271"
      ]
     },
     "execution_count": 41,
     "metadata": {},
     "output_type": "execute_result"
    }
   ],
   "source": [
    "f.write(\"Machine learning is a field of artificial intelligence that uses algorithms to create models that enable machines to perform tasks that would otherwise only be possible for humans. These tasks include analyzing data, categorizing images, and predicting price fluctuations\")"
   ]
  },
  {
   "cell_type": "code",
   "execution_count": 42,
   "id": "096d7f34-2cbc-4bef-82d7-439f28dcd1b2",
   "metadata": {},
   "outputs": [],
   "source": [
    "f.close()"
   ]
  },
  {
   "cell_type": "code",
   "execution_count": 43,
   "id": "0ba17f05-f5fd-4ba2-9041-1bff078dfb3d",
   "metadata": {},
   "outputs": [],
   "source": [
    "data =open(\"text.txt\" , 'r')"
   ]
  },
  {
   "cell_type": "code",
   "execution_count": 44,
   "id": "038ae81e-2795-4f95-b34e-ec27fd855191",
   "metadata": {},
   "outputs": [
    {
     "data": {
      "text/plain": [
       "'this my filethis is the new data to be appendedMachine learning is a field of artificial intelligence that uses algorithms to create models that enable machines to perform tasks that would otherwise only be possible for humans. These tasks include analyzing data, categorizing images, and predicting price fluctuations'"
      ]
     },
     "execution_count": 44,
     "metadata": {},
     "output_type": "execute_result"
    }
   ],
   "source": [
    "data.read()"
   ]
  },
  {
   "cell_type": "code",
   "execution_count": 45,
   "id": "a72ab49d-285e-4f6a-b53a-1095803fec3d",
   "metadata": {},
   "outputs": [
    {
     "data": {
      "text/plain": [
       "''"
      ]
     },
     "execution_count": 45,
     "metadata": {},
     "output_type": "execute_result"
    }
   ],
   "source": [
    "data.readline()"
   ]
  },
  {
   "cell_type": "code",
   "execution_count": 46,
   "id": "995954b9-675d-4f57-94be-1a9b13eeac43",
   "metadata": {},
   "outputs": [
    {
     "data": {
      "text/plain": [
       "0"
      ]
     },
     "execution_count": 46,
     "metadata": {},
     "output_type": "execute_result"
    }
   ],
   "source": [
    "data.seek(0)"
   ]
  },
  {
   "cell_type": "code",
   "execution_count": 47,
   "id": "29d1271a-2a46-4d5d-acb3-86bb89dc6093",
   "metadata": {},
   "outputs": [
    {
     "data": {
      "text/plain": [
       "'this my filethis is the new data to be appendedMachine learning is a field of artificial intelligence that uses algorithms to create models that enable machines to perform tasks that would otherwise only be possible for humans. These tasks include analyzing data, categorizing images, and predicting price fluctuations'"
      ]
     },
     "execution_count": 47,
     "metadata": {},
     "output_type": "execute_result"
    }
   ],
   "source": [
    "data.readline()"
   ]
  },
  {
   "cell_type": "code",
   "execution_count": 48,
   "id": "a854870c-b5f9-4979-b7dc-7fe0ffdacb43",
   "metadata": {},
   "outputs": [
    {
     "data": {
      "text/plain": [
       "10"
      ]
     },
     "execution_count": 48,
     "metadata": {},
     "output_type": "execute_result"
    }
   ],
   "source": [
    "data.seek(10)"
   ]
  },
  {
   "cell_type": "code",
   "execution_count": 49,
   "id": "b7f47cf9-af16-47b3-aeb8-6c17d1e9f65f",
   "metadata": {},
   "outputs": [
    {
     "data": {
      "text/plain": [
       "'lethis is the new data to be appendedMachine learning is a field of artificial intelligence that uses algorithms to create models that enable machines to perform tasks that would otherwise only be possible for humans. These tasks include analyzing data, categorizing images, and predicting price fluctuations'"
      ]
     },
     "execution_count": 49,
     "metadata": {},
     "output_type": "execute_result"
    }
   ],
   "source": [
    "data.read()"
   ]
  },
  {
   "cell_type": "code",
   "execution_count": 50,
   "id": "43959338-1f03-4b1c-853a-cbfd0c223e69",
   "metadata": {},
   "outputs": [],
   "source": [
    "data1 = open(\"text.txt\", 'r')"
   ]
  },
  {
   "cell_type": "code",
   "execution_count": 51,
   "id": "28e5712c-31ad-49bf-bd18-01464dd569ef",
   "metadata": {},
   "outputs": [
    {
     "name": "stdout",
     "output_type": "stream",
     "text": [
      "this my filethis is the new data to be appendedMachine learning is a field of artificial intelligence that uses algorithms to create models that enable machines to perform tasks that would otherwise only be possible for humans. These tasks include analyzing data, categorizing images, and predicting price fluctuations\n"
     ]
    }
   ],
   "source": [
    "for i in data1:\n",
    "    print(i)"
   ]
  },
  {
   "cell_type": "code",
   "execution_count": 52,
   "id": "3ee7f00e-1825-4431-bb37-d8cfff49fbfe",
   "metadata": {},
   "outputs": [],
   "source": [
    "import os"
   ]
  },
  {
   "cell_type": "code",
   "execution_count": 53,
   "id": "75fe963d-33b6-44d8-99c5-77b759231c17",
   "metadata": {},
   "outputs": [
    {
     "data": {
      "text/plain": [
       "318"
      ]
     },
     "execution_count": 53,
     "metadata": {},
     "output_type": "execute_result"
    }
   ],
   "source": [
    "os.path.getsize(\"text.txt\")"
   ]
  },
  {
   "cell_type": "code",
   "execution_count": 54,
   "id": "4a1d97fa-3d1d-464f-aba6-29f41b6b9add",
   "metadata": {},
   "outputs": [],
   "source": [
    "os.remove(\"text.txt\")"
   ]
  },
  {
   "cell_type": "code",
   "execution_count": 56,
   "id": "5fa06149-13f3-43d9-a993-3ff0b001e42f",
   "metadata": {},
   "outputs": [],
   "source": [
    "f = open(\"text1.txt\" , 'w')"
   ]
  },
  {
   "cell_type": "code",
   "execution_count": 57,
   "id": "f642e41c-291f-4e90-86e4-3e0699d96f61",
   "metadata": {},
   "outputs": [
    {
     "data": {
      "text/plain": [
       "271"
      ]
     },
     "execution_count": 57,
     "metadata": {},
     "output_type": "execute_result"
    }
   ],
   "source": [
    "f.write(\"Machine learning is a field of artificial intelligence that uses algorithms to create models that enable machines to perform tasks that would otherwise only be possible for humans. These tasks include analyzing data, categorizing images, and predicting price fluctuations\")"
   ]
  },
  {
   "cell_type": "code",
   "execution_count": 58,
   "id": "3b6051a3-1e0f-4d36-bb37-061eabe4f47a",
   "metadata": {},
   "outputs": [],
   "source": [
    "f.close()"
   ]
  },
  {
   "cell_type": "code",
   "execution_count": 59,
   "id": "11f27ccc-cabd-41ba-88ec-ca7ad0a1c020",
   "metadata": {},
   "outputs": [],
   "source": [
    "os.rename(\"text1.txt\" , \"new.txt\")"
   ]
  },
  {
   "cell_type": "code",
   "execution_count": 60,
   "id": "ba4460b0-0c30-4554-9117-c612ebbbfcaf",
   "metadata": {},
   "outputs": [],
   "source": [
    "import shutil"
   ]
  },
  {
   "cell_type": "code",
   "execution_count": 61,
   "id": "94ae35ca-ad3d-4041-a0ef-c38c198382aa",
   "metadata": {},
   "outputs": [
    {
     "data": {
      "text/plain": [
       "'copy_new.txt'"
      ]
     },
     "execution_count": 61,
     "metadata": {},
     "output_type": "execute_result"
    }
   ],
   "source": [
    "shutil.copy(\"new.txt\" , \"copy_new.txt\")\n"
   ]
  },
  {
   "cell_type": "code",
   "execution_count": 62,
   "id": "d0c8d07c-1722-4148-a7e1-5570c236a324",
   "metadata": {},
   "outputs": [
    {
     "ename": "SyntaxError",
     "evalue": "incomplete input (3780221809.py, line 1)",
     "output_type": "error",
     "traceback": [
      "\u001b[0;36m  Cell \u001b[0;32mIn[62], line 1\u001b[0;36m\u001b[0m\n\u001b[0;31m    with open(\"new.txt\" , 'r') as f:\u001b[0m\n\u001b[0m                                    ^\u001b[0m\n\u001b[0;31mSyntaxError\u001b[0m\u001b[0;31m:\u001b[0m incomplete input\n"
     ]
    }
   ],
   "source": [
    "with open(\"new.txt\" , 'r') as f:"
   ]
  },
  {
   "cell_type": "code",
   "execution_count": null,
   "id": "8c674d69-b20f-41e5-bb18-0e74b63dfae3",
   "metadata": {},
   "outputs": [],
   "source": []
  }
 ],
 "metadata": {
  "kernelspec": {
   "display_name": "Python 3 (ipykernel)",
   "language": "python",
   "name": "python3"
  },
  "language_info": {
   "codemirror_mode": {
    "name": "ipython",
    "version": 3
   },
   "file_extension": ".py",
   "mimetype": "text/x-python",
   "name": "python",
   "nbconvert_exporter": "python",
   "pygments_lexer": "ipython3",
   "version": "3.10.8"
  }
 },
 "nbformat": 4,
 "nbformat_minor": 5
}
