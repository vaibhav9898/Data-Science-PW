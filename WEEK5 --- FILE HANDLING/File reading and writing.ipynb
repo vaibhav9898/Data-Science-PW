{
 "cells": [
  {
   "cell_type": "code",
   "execution_count": 20,
   "id": "2c773b51-bc10-4863-b5d3-1ee82c31ccf9",
   "metadata": {},
   "outputs": [],
   "source": [
    "data = {\"name\":\"sudh\",\n",
    "        \"mail_id\":\"sudh@gmail.com\",\n",
    "        \"phone number\": 93573263,\n",
    "        \"subject\" : [\"data science\" , \"big data\", \"data analytics\"] }"
   ]
  },
  {
   "cell_type": "code",
   "execution_count": 21,
   "id": "cc0da647-1eee-466c-a813-fbb360cc78ba",
   "metadata": {},
   "outputs": [],
   "source": [
    "import json"
   ]
  },
  {
   "cell_type": "code",
   "execution_count": 22,
   "id": "c1721d44-aa3c-4ca2-97df-a9f6cf6821d2",
   "metadata": {},
   "outputs": [],
   "source": [
    "with open(\"data.json\" , \"w\") as f:\n",
    "    json.dump(data , f)"
   ]
  },
  {
   "cell_type": "code",
   "execution_count": 23,
   "id": "5319d16a-44cd-4517-b402-eecb24787376",
   "metadata": {},
   "outputs": [],
   "source": [
    "with open (\"data.json\" , \"r\") as f:\n",
    "    data1 = json.load(f)"
   ]
  },
  {
   "cell_type": "code",
   "execution_count": 24,
   "id": "f6ff004c-6106-446f-be33-a94c7df8459f",
   "metadata": {},
   "outputs": [
    {
     "data": {
      "text/plain": [
       "{'name': 'sudh',\n",
       " 'mail_id': 'sudh@gmail.com',\n",
       " 'phone number': 93573263,\n",
       " 'subject': ['data science', 'big data', 'data analytics']}"
      ]
     },
     "execution_count": 24,
     "metadata": {},
     "output_type": "execute_result"
    }
   ],
   "source": [
    "data1"
   ]
  },
  {
   "cell_type": "code",
   "execution_count": 25,
   "id": "b838bfb2-2918-466e-95a6-00c2e36eaade",
   "metadata": {},
   "outputs": [
    {
     "data": {
      "text/plain": [
       "'big data'"
      ]
     },
     "execution_count": 25,
     "metadata": {},
     "output_type": "execute_result"
    }
   ],
   "source": [
    "data1['subject'][1]"
   ]
  },
  {
   "cell_type": "code",
   "execution_count": 26,
   "id": "b8d1b0b6-1624-414a-93c9-b2acbcec0343",
   "metadata": {},
   "outputs": [],
   "source": [
    "import csv"
   ]
  },
  {
   "cell_type": "code",
   "execution_count": 27,
   "id": "d2c69a1c-2072-4fcc-9b19-c93b1bd0b936",
   "metadata": {},
   "outputs": [],
   "source": [
    "data = [[\"name\", \"email_id\", \"phone_number\"],\n",
    "        [\"sudh\", \"sudh@gmail.com\", 9277983],\n",
    "        [\"krish\", \"krish@gmail.com\", 9237378]\n",
    "       ]"
   ]
  },
  {
   "cell_type": "code",
   "execution_count": 28,
   "id": "ad7c6b37-d703-4170-b18f-42cbe8611524",
   "metadata": {},
   "outputs": [],
   "source": [
    "with open(\"data.csv\" , \"w\") as f:\n",
    "    writer = csv.writer(f)\n",
    "    \n",
    "    for i in data:\n",
    "        writer.writerow(i)\n",
    "        "
   ]
  },
  {
   "cell_type": "code",
   "execution_count": 29,
   "id": "d6af1d26-3b34-4e1d-b6c9-acb86bf86320",
   "metadata": {},
   "outputs": [
    {
     "name": "stdout",
     "output_type": "stream",
     "text": [
      "['name', 'email_id', 'phone_number']\n",
      "['sudh', 'sudh@gmail.com', '9277983']\n",
      "['krish', 'krish@gmail.com', '9237378']\n"
     ]
    }
   ],
   "source": [
    "with open(\"data.csv\", 'r') as f:\n",
    "    read_data = csv.reader(f)\n",
    "    \n",
    "    for i in read_data:\n",
    "        print(i)"
   ]
  },
  {
   "cell_type": "code",
   "execution_count": 30,
   "id": "ab55b0ac-bf01-43e8-9010-f129c673e419",
   "metadata": {},
   "outputs": [],
   "source": [
    "with open(\"test4.bin\" , \"wb\") as f:\n",
    "    f.write(b\"\\x01\\x02\\x03\\x378293\")"
   ]
  },
  {
   "cell_type": "code",
   "execution_count": 31,
   "id": "ab8d93c6-e63e-4e2d-ba93-3b1c065054c2",
   "metadata": {},
   "outputs": [
    {
     "name": "stdout",
     "output_type": "stream",
     "text": [
      "b'\\x01\\x02\\x0378293'\n"
     ]
    }
   ],
   "source": [
    "with open(\"test4.bin\" , \"rb\") as f:\n",
    "    print(f.read())"
   ]
  },
  {
   "cell_type": "code",
   "execution_count": null,
   "id": "176157b7-26ed-4ced-bb21-308368a5bb94",
   "metadata": {},
   "outputs": [],
   "source": []
  }
 ],
 "metadata": {
  "kernelspec": {
   "display_name": "Python 3 (ipykernel)",
   "language": "python",
   "name": "python3"
  },
  "language_info": {
   "codemirror_mode": {
    "name": "ipython",
    "version": 3
   },
   "file_extension": ".py",
   "mimetype": "text/x-python",
   "name": "python",
   "nbconvert_exporter": "python",
   "pygments_lexer": "ipython3",
   "version": "3.10.8"
  }
 },
 "nbformat": 4,
 "nbformat_minor": 5
}
